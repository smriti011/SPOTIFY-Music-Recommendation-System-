{
  "cells": [
    {
      "cell_type": "markdown",
      "metadata": {
        "id": "view-in-github",
        "colab_type": "text"
      },
      "source": [
        "<a href=\"https://colab.research.google.com/github/smriti011/SPOTIFY-Music-Recommendation-System-/blob/main/Music_Recommendation_System.ipynb\" target=\"_parent\"><img src=\"https://colab.research.google.com/assets/colab-badge.svg\" alt=\"Open In Colab\"/></a>"
      ]
    },
    {
      "cell_type": "markdown",
      "metadata": {
        "id": "wgjxYYL0xacZ"
      },
      "source": [
        "**IMPORT LIBRARIES**"
      ]
    },
    {
      "cell_type": "code",
      "execution_count": 46,
      "metadata": {
        "id": "4BkRcotTnAJQ"
      },
      "outputs": [],
      "source": [
        "import pandas as pd"
      ]
    },
    {
      "cell_type": "code",
      "execution_count": 47,
      "metadata": {
        "id": "45gsR1StnES6"
      },
      "outputs": [],
      "source": [
        "df = pd.read_csv(\"/content/spotify_millsongdata.csv\",engine=\"python\",\n",
        "                 on_bad_lines='skip',\n",
        "                 encoding='utf-8')"
      ]
    },
    {
      "cell_type": "code",
      "execution_count": 48,
      "metadata": {
        "id": "rj4W7OSDnEPa",
        "colab": {
          "base_uri": "https://localhost:8080/"
        },
        "outputId": "d303eb7e-ab80-44ab-b79e-91901cc0751f"
      },
      "outputs": [
        {
          "output_type": "execute_result",
          "data": {
            "text/plain": [
              "(57650, 4)"
            ]
          },
          "metadata": {},
          "execution_count": 48
        }
      ],
      "source": [
        "df.shape"
      ]
    },
    {
      "cell_type": "code",
      "execution_count": 49,
      "metadata": {
        "id": "BMpqsnJDnEMm",
        "colab": {
          "base_uri": "https://localhost:8080/",
          "height": 209
        },
        "outputId": "ce6386d6-5206-4719-b4ea-8d3a0a8ffa8c"
      },
      "outputs": [
        {
          "output_type": "execute_result",
          "data": {
            "text/plain": [
              "artist    0\n",
              "song      0\n",
              "link      0\n",
              "text      0\n",
              "dtype: int64"
            ],
            "text/html": [
              "<div>\n",
              "<style scoped>\n",
              "    .dataframe tbody tr th:only-of-type {\n",
              "        vertical-align: middle;\n",
              "    }\n",
              "\n",
              "    .dataframe tbody tr th {\n",
              "        vertical-align: top;\n",
              "    }\n",
              "\n",
              "    .dataframe thead th {\n",
              "        text-align: right;\n",
              "    }\n",
              "</style>\n",
              "<table border=\"1\" class=\"dataframe\">\n",
              "  <thead>\n",
              "    <tr style=\"text-align: right;\">\n",
              "      <th></th>\n",
              "      <th>0</th>\n",
              "    </tr>\n",
              "  </thead>\n",
              "  <tbody>\n",
              "    <tr>\n",
              "      <th>artist</th>\n",
              "      <td>0</td>\n",
              "    </tr>\n",
              "    <tr>\n",
              "      <th>song</th>\n",
              "      <td>0</td>\n",
              "    </tr>\n",
              "    <tr>\n",
              "      <th>link</th>\n",
              "      <td>0</td>\n",
              "    </tr>\n",
              "    <tr>\n",
              "      <th>text</th>\n",
              "      <td>0</td>\n",
              "    </tr>\n",
              "  </tbody>\n",
              "</table>\n",
              "</div><br><label><b>dtype:</b> int64</label>"
            ]
          },
          "metadata": {},
          "execution_count": 49
        }
      ],
      "source": [
        "df.isnull().sum()"
      ]
    },
    {
      "cell_type": "code",
      "execution_count": 50,
      "metadata": {
        "id": "UfOqH7h_nEKG",
        "colab": {
          "base_uri": "https://localhost:8080/",
          "height": 518
        },
        "outputId": "323ea616-a372-46ed-cafd-4347c8c94ab5"
      },
      "outputs": [
        {
          "output_type": "execute_result",
          "data": {
            "text/plain": [
              "  artist                   song                                        link  \\\n",
              "0   ABBA  Ahe's My Kind Of Girl  /a/abba/ahes+my+kind+of+girl_20598417.html   \n",
              "1   ABBA       Andante, Andante       /a/abba/andante+andante_20002708.html   \n",
              "2   ABBA         As Good As New        /a/abba/as+good+as+new_20003033.html   \n",
              "3   ABBA                   Bang                  /a/abba/bang_20598415.html   \n",
              "4   ABBA       Bang-A-Boomerang      /a/abba/bang+a+boomerang_20002668.html   \n",
              "\n",
              "                                                text  \n",
              "0  Look at her face, it's a wonderful face  \\r\\nA...  \n",
              "1  Take it easy with me, please  \\r\\nTouch me gen...  \n",
              "2  I'll never know why I had to go  \\r\\nWhy I had...  \n",
              "3  Making somebody happy is a question of give an...  \n",
              "4  Making somebody happy is a question of give an...  "
            ],
            "text/html": [
              "\n",
              "  <div id=\"df-d584c38b-9913-47c4-9ddc-b40098742d36\" class=\"colab-df-container\">\n",
              "    <div>\n",
              "<style scoped>\n",
              "    .dataframe tbody tr th:only-of-type {\n",
              "        vertical-align: middle;\n",
              "    }\n",
              "\n",
              "    .dataframe tbody tr th {\n",
              "        vertical-align: top;\n",
              "    }\n",
              "\n",
              "    .dataframe thead th {\n",
              "        text-align: right;\n",
              "    }\n",
              "</style>\n",
              "<table border=\"1\" class=\"dataframe\">\n",
              "  <thead>\n",
              "    <tr style=\"text-align: right;\">\n",
              "      <th></th>\n",
              "      <th>artist</th>\n",
              "      <th>song</th>\n",
              "      <th>link</th>\n",
              "      <th>text</th>\n",
              "    </tr>\n",
              "  </thead>\n",
              "  <tbody>\n",
              "    <tr>\n",
              "      <th>0</th>\n",
              "      <td>ABBA</td>\n",
              "      <td>Ahe's My Kind Of Girl</td>\n",
              "      <td>/a/abba/ahes+my+kind+of+girl_20598417.html</td>\n",
              "      <td>Look at her face, it's a wonderful face  \\r\\nA...</td>\n",
              "    </tr>\n",
              "    <tr>\n",
              "      <th>1</th>\n",
              "      <td>ABBA</td>\n",
              "      <td>Andante, Andante</td>\n",
              "      <td>/a/abba/andante+andante_20002708.html</td>\n",
              "      <td>Take it easy with me, please  \\r\\nTouch me gen...</td>\n",
              "    </tr>\n",
              "    <tr>\n",
              "      <th>2</th>\n",
              "      <td>ABBA</td>\n",
              "      <td>As Good As New</td>\n",
              "      <td>/a/abba/as+good+as+new_20003033.html</td>\n",
              "      <td>I'll never know why I had to go  \\r\\nWhy I had...</td>\n",
              "    </tr>\n",
              "    <tr>\n",
              "      <th>3</th>\n",
              "      <td>ABBA</td>\n",
              "      <td>Bang</td>\n",
              "      <td>/a/abba/bang_20598415.html</td>\n",
              "      <td>Making somebody happy is a question of give an...</td>\n",
              "    </tr>\n",
              "    <tr>\n",
              "      <th>4</th>\n",
              "      <td>ABBA</td>\n",
              "      <td>Bang-A-Boomerang</td>\n",
              "      <td>/a/abba/bang+a+boomerang_20002668.html</td>\n",
              "      <td>Making somebody happy is a question of give an...</td>\n",
              "    </tr>\n",
              "  </tbody>\n",
              "</table>\n",
              "</div>\n",
              "    <div class=\"colab-df-buttons\">\n",
              "\n",
              "  <div class=\"colab-df-container\">\n",
              "    <button class=\"colab-df-convert\" onclick=\"convertToInteractive('df-d584c38b-9913-47c4-9ddc-b40098742d36')\"\n",
              "            title=\"Convert this dataframe to an interactive table.\"\n",
              "            style=\"display:none;\">\n",
              "\n",
              "  <svg xmlns=\"http://www.w3.org/2000/svg\" height=\"24px\" viewBox=\"0 -960 960 960\">\n",
              "    <path d=\"M120-120v-720h720v720H120Zm60-500h600v-160H180v160Zm220 220h160v-160H400v160Zm0 220h160v-160H400v160ZM180-400h160v-160H180v160Zm440 0h160v-160H620v160ZM180-180h160v-160H180v160Zm440 0h160v-160H620v160Z\"/>\n",
              "  </svg>\n",
              "    </button>\n",
              "\n",
              "  <style>\n",
              "    .colab-df-container {\n",
              "      display:flex;\n",
              "      gap: 12px;\n",
              "    }\n",
              "\n",
              "    .colab-df-convert {\n",
              "      background-color: #E8F0FE;\n",
              "      border: none;\n",
              "      border-radius: 50%;\n",
              "      cursor: pointer;\n",
              "      display: none;\n",
              "      fill: #1967D2;\n",
              "      height: 32px;\n",
              "      padding: 0 0 0 0;\n",
              "      width: 32px;\n",
              "    }\n",
              "\n",
              "    .colab-df-convert:hover {\n",
              "      background-color: #E2EBFA;\n",
              "      box-shadow: 0px 1px 2px rgba(60, 64, 67, 0.3), 0px 1px 3px 1px rgba(60, 64, 67, 0.15);\n",
              "      fill: #174EA6;\n",
              "    }\n",
              "\n",
              "    .colab-df-buttons div {\n",
              "      margin-bottom: 4px;\n",
              "    }\n",
              "\n",
              "    [theme=dark] .colab-df-convert {\n",
              "      background-color: #3B4455;\n",
              "      fill: #D2E3FC;\n",
              "    }\n",
              "\n",
              "    [theme=dark] .colab-df-convert:hover {\n",
              "      background-color: #434B5C;\n",
              "      box-shadow: 0px 1px 3px 1px rgba(0, 0, 0, 0.15);\n",
              "      filter: drop-shadow(0px 1px 2px rgba(0, 0, 0, 0.3));\n",
              "      fill: #FFFFFF;\n",
              "    }\n",
              "  </style>\n",
              "\n",
              "    <script>\n",
              "      const buttonEl =\n",
              "        document.querySelector('#df-d584c38b-9913-47c4-9ddc-b40098742d36 button.colab-df-convert');\n",
              "      buttonEl.style.display =\n",
              "        google.colab.kernel.accessAllowed ? 'block' : 'none';\n",
              "\n",
              "      async function convertToInteractive(key) {\n",
              "        const element = document.querySelector('#df-d584c38b-9913-47c4-9ddc-b40098742d36');\n",
              "        const dataTable =\n",
              "          await google.colab.kernel.invokeFunction('convertToInteractive',\n",
              "                                                    [key], {});\n",
              "        if (!dataTable) return;\n",
              "\n",
              "        const docLinkHtml = 'Like what you see? Visit the ' +\n",
              "          '<a target=\"_blank\" href=https://colab.research.google.com/notebooks/data_table.ipynb>data table notebook</a>'\n",
              "          + ' to learn more about interactive tables.';\n",
              "        element.innerHTML = '';\n",
              "        dataTable['output_type'] = 'display_data';\n",
              "        await google.colab.output.renderOutput(dataTable, element);\n",
              "        const docLink = document.createElement('div');\n",
              "        docLink.innerHTML = docLinkHtml;\n",
              "        element.appendChild(docLink);\n",
              "      }\n",
              "    </script>\n",
              "  </div>\n",
              "\n",
              "\n",
              "<div id=\"df-6563bf7e-e31c-4e08-8f39-4e981d68c8cc\">\n",
              "  <button class=\"colab-df-quickchart\" onclick=\"quickchart('df-6563bf7e-e31c-4e08-8f39-4e981d68c8cc')\"\n",
              "            title=\"Suggest charts\"\n",
              "            style=\"display:none;\">\n",
              "\n",
              "<svg xmlns=\"http://www.w3.org/2000/svg\" height=\"24px\"viewBox=\"0 0 24 24\"\n",
              "     width=\"24px\">\n",
              "    <g>\n",
              "        <path d=\"M19 3H5c-1.1 0-2 .9-2 2v14c0 1.1.9 2 2 2h14c1.1 0 2-.9 2-2V5c0-1.1-.9-2-2-2zM9 17H7v-7h2v7zm4 0h-2V7h2v10zm4 0h-2v-4h2v4z\"/>\n",
              "    </g>\n",
              "</svg>\n",
              "  </button>\n",
              "\n",
              "<style>\n",
              "  .colab-df-quickchart {\n",
              "      --bg-color: #E8F0FE;\n",
              "      --fill-color: #1967D2;\n",
              "      --hover-bg-color: #E2EBFA;\n",
              "      --hover-fill-color: #174EA6;\n",
              "      --disabled-fill-color: #AAA;\n",
              "      --disabled-bg-color: #DDD;\n",
              "  }\n",
              "\n",
              "  [theme=dark] .colab-df-quickchart {\n",
              "      --bg-color: #3B4455;\n",
              "      --fill-color: #D2E3FC;\n",
              "      --hover-bg-color: #434B5C;\n",
              "      --hover-fill-color: #FFFFFF;\n",
              "      --disabled-bg-color: #3B4455;\n",
              "      --disabled-fill-color: #666;\n",
              "  }\n",
              "\n",
              "  .colab-df-quickchart {\n",
              "    background-color: var(--bg-color);\n",
              "    border: none;\n",
              "    border-radius: 50%;\n",
              "    cursor: pointer;\n",
              "    display: none;\n",
              "    fill: var(--fill-color);\n",
              "    height: 32px;\n",
              "    padding: 0;\n",
              "    width: 32px;\n",
              "  }\n",
              "\n",
              "  .colab-df-quickchart:hover {\n",
              "    background-color: var(--hover-bg-color);\n",
              "    box-shadow: 0 1px 2px rgba(60, 64, 67, 0.3), 0 1px 3px 1px rgba(60, 64, 67, 0.15);\n",
              "    fill: var(--button-hover-fill-color);\n",
              "  }\n",
              "\n",
              "  .colab-df-quickchart-complete:disabled,\n",
              "  .colab-df-quickchart-complete:disabled:hover {\n",
              "    background-color: var(--disabled-bg-color);\n",
              "    fill: var(--disabled-fill-color);\n",
              "    box-shadow: none;\n",
              "  }\n",
              "\n",
              "  .colab-df-spinner {\n",
              "    border: 2px solid var(--fill-color);\n",
              "    border-color: transparent;\n",
              "    border-bottom-color: var(--fill-color);\n",
              "    animation:\n",
              "      spin 1s steps(1) infinite;\n",
              "  }\n",
              "\n",
              "  @keyframes spin {\n",
              "    0% {\n",
              "      border-color: transparent;\n",
              "      border-bottom-color: var(--fill-color);\n",
              "      border-left-color: var(--fill-color);\n",
              "    }\n",
              "    20% {\n",
              "      border-color: transparent;\n",
              "      border-left-color: var(--fill-color);\n",
              "      border-top-color: var(--fill-color);\n",
              "    }\n",
              "    30% {\n",
              "      border-color: transparent;\n",
              "      border-left-color: var(--fill-color);\n",
              "      border-top-color: var(--fill-color);\n",
              "      border-right-color: var(--fill-color);\n",
              "    }\n",
              "    40% {\n",
              "      border-color: transparent;\n",
              "      border-right-color: var(--fill-color);\n",
              "      border-top-color: var(--fill-color);\n",
              "    }\n",
              "    60% {\n",
              "      border-color: transparent;\n",
              "      border-right-color: var(--fill-color);\n",
              "    }\n",
              "    80% {\n",
              "      border-color: transparent;\n",
              "      border-right-color: var(--fill-color);\n",
              "      border-bottom-color: var(--fill-color);\n",
              "    }\n",
              "    90% {\n",
              "      border-color: transparent;\n",
              "      border-bottom-color: var(--fill-color);\n",
              "    }\n",
              "  }\n",
              "</style>\n",
              "\n",
              "  <script>\n",
              "    async function quickchart(key) {\n",
              "      const quickchartButtonEl =\n",
              "        document.querySelector('#' + key + ' button');\n",
              "      quickchartButtonEl.disabled = true;  // To prevent multiple clicks.\n",
              "      quickchartButtonEl.classList.add('colab-df-spinner');\n",
              "      try {\n",
              "        const charts = await google.colab.kernel.invokeFunction(\n",
              "            'suggestCharts', [key], {});\n",
              "      } catch (error) {\n",
              "        console.error('Error during call to suggestCharts:', error);\n",
              "      }\n",
              "      quickchartButtonEl.classList.remove('colab-df-spinner');\n",
              "      quickchartButtonEl.classList.add('colab-df-quickchart-complete');\n",
              "    }\n",
              "    (() => {\n",
              "      let quickchartButtonEl =\n",
              "        document.querySelector('#df-6563bf7e-e31c-4e08-8f39-4e981d68c8cc button');\n",
              "      quickchartButtonEl.style.display =\n",
              "        google.colab.kernel.accessAllowed ? 'block' : 'none';\n",
              "    })();\n",
              "  </script>\n",
              "</div>\n",
              "\n",
              "    </div>\n",
              "  </div>\n"
            ],
            "application/vnd.google.colaboratory.intrinsic+json": {
              "type": "dataframe",
              "variable_name": "df",
              "summary": "{\n  \"name\": \"df\",\n  \"rows\": 57650,\n  \"fields\": [\n    {\n      \"column\": \"artist\",\n      \"properties\": {\n        \"dtype\": \"category\",\n        \"num_unique_values\": 643,\n        \"samples\": [\n          \"Ziggy Marley\",\n          \"O.A.R.\",\n          \"Styx\"\n        ],\n        \"semantic_type\": \"\",\n        \"description\": \"\"\n      }\n    },\n    {\n      \"column\": \"song\",\n      \"properties\": {\n        \"dtype\": \"string\",\n        \"num_unique_values\": 44824,\n        \"samples\": [\n          \"Tear Me Down\",\n          \"Lakky Lady\",\n          \"They All Went To Mexico\"\n        ],\n        \"semantic_type\": \"\",\n        \"description\": \"\"\n      }\n    },\n    {\n      \"column\": \"link\",\n      \"properties\": {\n        \"dtype\": \"string\",\n        \"num_unique_values\": 57650,\n        \"samples\": [\n          \"/w/wishbone+ash/right+or+wrong_20147150.html\",\n          \"/a/aerosmith/this+little+light+of+mine_20644484.html\",\n          \"/f/fall+out+boy/dance+dance_10113666.html\"\n        ],\n        \"semantic_type\": \"\",\n        \"description\": \"\"\n      }\n    },\n    {\n      \"column\": \"text\",\n      \"properties\": {\n        \"dtype\": \"string\",\n        \"num_unique_values\": 57494,\n        \"samples\": [\n          \"When the grey skies turn to blue  \\r\\nAnd the dark clouds blow away  \\r\\nIn the morning of a new life  \\r\\nWhen the sun comes shining through  \\r\\nWhen the grey skies turn to blue  \\r\\nIn the morning of a new life  \\r\\nWhen the sun comes shining through  \\r\\nWhen the grey skies turn to blue  \\r\\nMeet me on a bright and windy day  \\r\\nWhen the breeze has blown  \\r\\nThe gray skies far away  \\r\\nHigh upon a hillside  \\r\\nWhen the sun comes shining through  \\r\\nAnd the grey skies turn to blue  \\r\\nWhen the grey skies turn to blue  \\r\\nWhen the grey skies turn to blue  \\r\\n\\r\\n\",\n          \"I met a girl a wonderful girl  \\r\\nWho's really got a lot to recommend her for a girl  \\r\\nFabulous creature without any doubt  \\r\\nHey what am I getting so excited about  \\r\\nShe's just a girl an everyday girl  \\r\\nAnd yet I guess she's really rather special for a girl  \\r\\nFor once you've seen her the others are not  \\r\\nHey what am I getting so excited about  \\r\\nBut so what what has she got others have not  \\r\\nTwo eyes two lips a nose all girls have some of those  \\r\\nBut when she looks up at me what do I see  \\r\\nThe most enchanting face my pulse begins to race  \\r\\nHey I met a girl a marvelous girl  \\r\\nShe rarer than uranium and fairer than a pearl  \\r\\nFound me a treasure and I want to shout  \\r\\nHey what am I getting so excited about  \\r\\nBut so what what has she got others have not  \\r\\nTwo eyes two lips a nose all girls have some of those  \\r\\nBut when she looks up at me what do I see  \\r\\nThe most enchanting face my pulse begins to race  \\r\\n(I got a girl a marvelous girl)  \\r\\n(She rarer than uranium and fairer than a pearl)  \\r\\nFound me a treasure and I want to shout  \\r\\nThis is what am I getting so excited about  \\r\\n(He met a girl) and I fell in love today\\r\\n\\r\\n\",\n          \"She's over by the corner  \\r\\nGot her hands by her sides  \\r\\nThey hit her harder harder harder  \\r\\nTill they thought she might die  \\r\\n  \\r\\nWell I got a foggy notion,  \\r\\nDo it again  \\r\\nOver by the corner,  \\r\\nDo it again  \\r\\nI got my calamine lotion baby,  \\r\\nDo it again  \\r\\nI got a foggy notion,  \\r\\nDo it again  \\r\\n  \\r\\nShe made me do something  \\r\\nThat I never did before  \\r\\nI rushed right down  \\r\\nTo a flower store  \\r\\nI bought her a bundle  \\r\\nA beautiful batch  \\r\\nDon't you know something,  \\r\\nShe sent 'em right back  \\r\\n  \\r\\nSally Mae, Sally Mae,  \\r\\nSally Mae, Sally Mae  \\r\\nSally Mae, Sally Mae,  \\r\\nSally Mae, Sally Mae\\r\\n\\r\\n\"\n        ],\n        \"semantic_type\": \"\",\n        \"description\": \"\"\n      }\n    }\n  ]\n}"
            }
          },
          "metadata": {},
          "execution_count": 50
        }
      ],
      "source": [
        "df.head(5)"
      ]
    },
    {
      "cell_type": "code",
      "execution_count": 51,
      "metadata": {
        "id": "6-yA7CpXnEHP",
        "colab": {
          "base_uri": "https://localhost:8080/",
          "height": 608
        },
        "outputId": "e7c2d04a-d656-4296-dde3-a562a0837c90"
      },
      "outputs": [
        {
          "output_type": "execute_result",
          "data": {
            "text/plain": [
              "             artist           song  \\\n",
              "57645  Ziggy Marley  Good Old Days   \n",
              "57646  Ziggy Marley  Hand To Mouth   \n",
              "57647          Zwan   Come With Me   \n",
              "57648          Zwan         Desire   \n",
              "57649          Zwan      Heartsong   \n",
              "\n",
              "                                              link  \\\n",
              "57645  /z/ziggy+marley/good+old+days_10198588.html   \n",
              "57646  /z/ziggy+marley/hand+to+mouth_20531167.html   \n",
              "57647           /z/zwan/come+with+me_20148981.html   \n",
              "57648                 /z/zwan/desire_20148986.html   \n",
              "57649              /z/zwan/heartsong_20148991.html   \n",
              "\n",
              "                                                    text  \n",
              "57645  Irie days come on play  \\r\\nLet the angels fly...  \n",
              "57646  Power to the workers  \\r\\nMore power  \\r\\nPowe...  \n",
              "57647  all you need  \\r\\nis something i'll believe  \\...  \n",
              "57648  northern star  \\r\\nam i frightened  \\r\\nwhere ...  \n",
              "57649  come in  \\r\\nmake yourself at home  \\r\\ni'm a ...  "
            ],
            "text/html": [
              "\n",
              "  <div id=\"df-d43a2782-c03a-4db5-a6c5-5c3b16bd6cf6\" class=\"colab-df-container\">\n",
              "    <div>\n",
              "<style scoped>\n",
              "    .dataframe tbody tr th:only-of-type {\n",
              "        vertical-align: middle;\n",
              "    }\n",
              "\n",
              "    .dataframe tbody tr th {\n",
              "        vertical-align: top;\n",
              "    }\n",
              "\n",
              "    .dataframe thead th {\n",
              "        text-align: right;\n",
              "    }\n",
              "</style>\n",
              "<table border=\"1\" class=\"dataframe\">\n",
              "  <thead>\n",
              "    <tr style=\"text-align: right;\">\n",
              "      <th></th>\n",
              "      <th>artist</th>\n",
              "      <th>song</th>\n",
              "      <th>link</th>\n",
              "      <th>text</th>\n",
              "    </tr>\n",
              "  </thead>\n",
              "  <tbody>\n",
              "    <tr>\n",
              "      <th>57645</th>\n",
              "      <td>Ziggy Marley</td>\n",
              "      <td>Good Old Days</td>\n",
              "      <td>/z/ziggy+marley/good+old+days_10198588.html</td>\n",
              "      <td>Irie days come on play  \\r\\nLet the angels fly...</td>\n",
              "    </tr>\n",
              "    <tr>\n",
              "      <th>57646</th>\n",
              "      <td>Ziggy Marley</td>\n",
              "      <td>Hand To Mouth</td>\n",
              "      <td>/z/ziggy+marley/hand+to+mouth_20531167.html</td>\n",
              "      <td>Power to the workers  \\r\\nMore power  \\r\\nPowe...</td>\n",
              "    </tr>\n",
              "    <tr>\n",
              "      <th>57647</th>\n",
              "      <td>Zwan</td>\n",
              "      <td>Come With Me</td>\n",
              "      <td>/z/zwan/come+with+me_20148981.html</td>\n",
              "      <td>all you need  \\r\\nis something i'll believe  \\...</td>\n",
              "    </tr>\n",
              "    <tr>\n",
              "      <th>57648</th>\n",
              "      <td>Zwan</td>\n",
              "      <td>Desire</td>\n",
              "      <td>/z/zwan/desire_20148986.html</td>\n",
              "      <td>northern star  \\r\\nam i frightened  \\r\\nwhere ...</td>\n",
              "    </tr>\n",
              "    <tr>\n",
              "      <th>57649</th>\n",
              "      <td>Zwan</td>\n",
              "      <td>Heartsong</td>\n",
              "      <td>/z/zwan/heartsong_20148991.html</td>\n",
              "      <td>come in  \\r\\nmake yourself at home  \\r\\ni'm a ...</td>\n",
              "    </tr>\n",
              "  </tbody>\n",
              "</table>\n",
              "</div>\n",
              "    <div class=\"colab-df-buttons\">\n",
              "\n",
              "  <div class=\"colab-df-container\">\n",
              "    <button class=\"colab-df-convert\" onclick=\"convertToInteractive('df-d43a2782-c03a-4db5-a6c5-5c3b16bd6cf6')\"\n",
              "            title=\"Convert this dataframe to an interactive table.\"\n",
              "            style=\"display:none;\">\n",
              "\n",
              "  <svg xmlns=\"http://www.w3.org/2000/svg\" height=\"24px\" viewBox=\"0 -960 960 960\">\n",
              "    <path d=\"M120-120v-720h720v720H120Zm60-500h600v-160H180v160Zm220 220h160v-160H400v160Zm0 220h160v-160H400v160ZM180-400h160v-160H180v160Zm440 0h160v-160H620v160ZM180-180h160v-160H180v160Zm440 0h160v-160H620v160Z\"/>\n",
              "  </svg>\n",
              "    </button>\n",
              "\n",
              "  <style>\n",
              "    .colab-df-container {\n",
              "      display:flex;\n",
              "      gap: 12px;\n",
              "    }\n",
              "\n",
              "    .colab-df-convert {\n",
              "      background-color: #E8F0FE;\n",
              "      border: none;\n",
              "      border-radius: 50%;\n",
              "      cursor: pointer;\n",
              "      display: none;\n",
              "      fill: #1967D2;\n",
              "      height: 32px;\n",
              "      padding: 0 0 0 0;\n",
              "      width: 32px;\n",
              "    }\n",
              "\n",
              "    .colab-df-convert:hover {\n",
              "      background-color: #E2EBFA;\n",
              "      box-shadow: 0px 1px 2px rgba(60, 64, 67, 0.3), 0px 1px 3px 1px rgba(60, 64, 67, 0.15);\n",
              "      fill: #174EA6;\n",
              "    }\n",
              "\n",
              "    .colab-df-buttons div {\n",
              "      margin-bottom: 4px;\n",
              "    }\n",
              "\n",
              "    [theme=dark] .colab-df-convert {\n",
              "      background-color: #3B4455;\n",
              "      fill: #D2E3FC;\n",
              "    }\n",
              "\n",
              "    [theme=dark] .colab-df-convert:hover {\n",
              "      background-color: #434B5C;\n",
              "      box-shadow: 0px 1px 3px 1px rgba(0, 0, 0, 0.15);\n",
              "      filter: drop-shadow(0px 1px 2px rgba(0, 0, 0, 0.3));\n",
              "      fill: #FFFFFF;\n",
              "    }\n",
              "  </style>\n",
              "\n",
              "    <script>\n",
              "      const buttonEl =\n",
              "        document.querySelector('#df-d43a2782-c03a-4db5-a6c5-5c3b16bd6cf6 button.colab-df-convert');\n",
              "      buttonEl.style.display =\n",
              "        google.colab.kernel.accessAllowed ? 'block' : 'none';\n",
              "\n",
              "      async function convertToInteractive(key) {\n",
              "        const element = document.querySelector('#df-d43a2782-c03a-4db5-a6c5-5c3b16bd6cf6');\n",
              "        const dataTable =\n",
              "          await google.colab.kernel.invokeFunction('convertToInteractive',\n",
              "                                                    [key], {});\n",
              "        if (!dataTable) return;\n",
              "\n",
              "        const docLinkHtml = 'Like what you see? Visit the ' +\n",
              "          '<a target=\"_blank\" href=https://colab.research.google.com/notebooks/data_table.ipynb>data table notebook</a>'\n",
              "          + ' to learn more about interactive tables.';\n",
              "        element.innerHTML = '';\n",
              "        dataTable['output_type'] = 'display_data';\n",
              "        await google.colab.output.renderOutput(dataTable, element);\n",
              "        const docLink = document.createElement('div');\n",
              "        docLink.innerHTML = docLinkHtml;\n",
              "        element.appendChild(docLink);\n",
              "      }\n",
              "    </script>\n",
              "  </div>\n",
              "\n",
              "\n",
              "<div id=\"df-226831a7-6ba0-45ce-83e2-36109df34c49\">\n",
              "  <button class=\"colab-df-quickchart\" onclick=\"quickchart('df-226831a7-6ba0-45ce-83e2-36109df34c49')\"\n",
              "            title=\"Suggest charts\"\n",
              "            style=\"display:none;\">\n",
              "\n",
              "<svg xmlns=\"http://www.w3.org/2000/svg\" height=\"24px\"viewBox=\"0 0 24 24\"\n",
              "     width=\"24px\">\n",
              "    <g>\n",
              "        <path d=\"M19 3H5c-1.1 0-2 .9-2 2v14c0 1.1.9 2 2 2h14c1.1 0 2-.9 2-2V5c0-1.1-.9-2-2-2zM9 17H7v-7h2v7zm4 0h-2V7h2v10zm4 0h-2v-4h2v4z\"/>\n",
              "    </g>\n",
              "</svg>\n",
              "  </button>\n",
              "\n",
              "<style>\n",
              "  .colab-df-quickchart {\n",
              "      --bg-color: #E8F0FE;\n",
              "      --fill-color: #1967D2;\n",
              "      --hover-bg-color: #E2EBFA;\n",
              "      --hover-fill-color: #174EA6;\n",
              "      --disabled-fill-color: #AAA;\n",
              "      --disabled-bg-color: #DDD;\n",
              "  }\n",
              "\n",
              "  [theme=dark] .colab-df-quickchart {\n",
              "      --bg-color: #3B4455;\n",
              "      --fill-color: #D2E3FC;\n",
              "      --hover-bg-color: #434B5C;\n",
              "      --hover-fill-color: #FFFFFF;\n",
              "      --disabled-bg-color: #3B4455;\n",
              "      --disabled-fill-color: #666;\n",
              "  }\n",
              "\n",
              "  .colab-df-quickchart {\n",
              "    background-color: var(--bg-color);\n",
              "    border: none;\n",
              "    border-radius: 50%;\n",
              "    cursor: pointer;\n",
              "    display: none;\n",
              "    fill: var(--fill-color);\n",
              "    height: 32px;\n",
              "    padding: 0;\n",
              "    width: 32px;\n",
              "  }\n",
              "\n",
              "  .colab-df-quickchart:hover {\n",
              "    background-color: var(--hover-bg-color);\n",
              "    box-shadow: 0 1px 2px rgba(60, 64, 67, 0.3), 0 1px 3px 1px rgba(60, 64, 67, 0.15);\n",
              "    fill: var(--button-hover-fill-color);\n",
              "  }\n",
              "\n",
              "  .colab-df-quickchart-complete:disabled,\n",
              "  .colab-df-quickchart-complete:disabled:hover {\n",
              "    background-color: var(--disabled-bg-color);\n",
              "    fill: var(--disabled-fill-color);\n",
              "    box-shadow: none;\n",
              "  }\n",
              "\n",
              "  .colab-df-spinner {\n",
              "    border: 2px solid var(--fill-color);\n",
              "    border-color: transparent;\n",
              "    border-bottom-color: var(--fill-color);\n",
              "    animation:\n",
              "      spin 1s steps(1) infinite;\n",
              "  }\n",
              "\n",
              "  @keyframes spin {\n",
              "    0% {\n",
              "      border-color: transparent;\n",
              "      border-bottom-color: var(--fill-color);\n",
              "      border-left-color: var(--fill-color);\n",
              "    }\n",
              "    20% {\n",
              "      border-color: transparent;\n",
              "      border-left-color: var(--fill-color);\n",
              "      border-top-color: var(--fill-color);\n",
              "    }\n",
              "    30% {\n",
              "      border-color: transparent;\n",
              "      border-left-color: var(--fill-color);\n",
              "      border-top-color: var(--fill-color);\n",
              "      border-right-color: var(--fill-color);\n",
              "    }\n",
              "    40% {\n",
              "      border-color: transparent;\n",
              "      border-right-color: var(--fill-color);\n",
              "      border-top-color: var(--fill-color);\n",
              "    }\n",
              "    60% {\n",
              "      border-color: transparent;\n",
              "      border-right-color: var(--fill-color);\n",
              "    }\n",
              "    80% {\n",
              "      border-color: transparent;\n",
              "      border-right-color: var(--fill-color);\n",
              "      border-bottom-color: var(--fill-color);\n",
              "    }\n",
              "    90% {\n",
              "      border-color: transparent;\n",
              "      border-bottom-color: var(--fill-color);\n",
              "    }\n",
              "  }\n",
              "</style>\n",
              "\n",
              "  <script>\n",
              "    async function quickchart(key) {\n",
              "      const quickchartButtonEl =\n",
              "        document.querySelector('#' + key + ' button');\n",
              "      quickchartButtonEl.disabled = true;  // To prevent multiple clicks.\n",
              "      quickchartButtonEl.classList.add('colab-df-spinner');\n",
              "      try {\n",
              "        const charts = await google.colab.kernel.invokeFunction(\n",
              "            'suggestCharts', [key], {});\n",
              "      } catch (error) {\n",
              "        console.error('Error during call to suggestCharts:', error);\n",
              "      }\n",
              "      quickchartButtonEl.classList.remove('colab-df-spinner');\n",
              "      quickchartButtonEl.classList.add('colab-df-quickchart-complete');\n",
              "    }\n",
              "    (() => {\n",
              "      let quickchartButtonEl =\n",
              "        document.querySelector('#df-226831a7-6ba0-45ce-83e2-36109df34c49 button');\n",
              "      quickchartButtonEl.style.display =\n",
              "        google.colab.kernel.accessAllowed ? 'block' : 'none';\n",
              "    })();\n",
              "  </script>\n",
              "</div>\n",
              "\n",
              "    </div>\n",
              "  </div>\n"
            ],
            "application/vnd.google.colaboratory.intrinsic+json": {
              "type": "dataframe",
              "summary": "{\n  \"name\": \"df\",\n  \"rows\": 5,\n  \"fields\": [\n    {\n      \"column\": \"artist\",\n      \"properties\": {\n        \"dtype\": \"category\",\n        \"num_unique_values\": 2,\n        \"samples\": [\n          \"Zwan\",\n          \"Ziggy Marley\"\n        ],\n        \"semantic_type\": \"\",\n        \"description\": \"\"\n      }\n    },\n    {\n      \"column\": \"song\",\n      \"properties\": {\n        \"dtype\": \"string\",\n        \"num_unique_values\": 5,\n        \"samples\": [\n          \"Hand To Mouth\",\n          \"Heartsong\"\n        ],\n        \"semantic_type\": \"\",\n        \"description\": \"\"\n      }\n    },\n    {\n      \"column\": \"link\",\n      \"properties\": {\n        \"dtype\": \"string\",\n        \"num_unique_values\": 5,\n        \"samples\": [\n          \"/z/ziggy+marley/hand+to+mouth_20531167.html\",\n          \"/z/zwan/heartsong_20148991.html\"\n        ],\n        \"semantic_type\": \"\",\n        \"description\": \"\"\n      }\n    },\n    {\n      \"column\": \"text\",\n      \"properties\": {\n        \"dtype\": \"string\",\n        \"num_unique_values\": 5,\n        \"samples\": [\n          \"Power to the workers  \\r\\nMore power  \\r\\nPower to the workers  \\r\\nWe need more power  \\r\\nPower to the workers  \\r\\nGot to have more power  \\r\\nPower to the workers  \\r\\nWe need more power  \\r\\n  \\r\\nFree zone workers you working hard everyday  \\r\\nBut all the work you do don't get enough pay  \\r\\nI mad I still don't know why I still don't know why  \\r\\nIs minimum wage for your sufferation have no more toleration  \\r\\n  \\r\\nHand to mouth can't work  \\r\\nHand to mouth can't work  \\r\\nHand to mouth business no it can't work  \\r\\nSchool teachers you working hard educating  \\r\\nBut all the work you do they take you for a play thing  \\r\\nI mad I still don't know why I still don't know why  \\r\\nIs little bit a pay for your contribution and you mean so much to the nation  \\r\\nMe say me naah get enough good weh day  \\r\\nAll thema work is like them naah get no pay  \\r\\nNaah get enough food from weh day  \\r\\nAll the work we work is like we naah get no pay  \\r\\nWatching everything go up in inflation  \\r\\nFood price go up and man pay a go down  \\r\\nAsk some a them  \\r\\nThem telling short long  \\r\\nBut in a corner we wings and a jam  \\r\\nRagga ragga a watch the notion  \\r\\nSay we naah get no good food from weh day  \\r\\nNaah sow no good seed from weh day  \\r\\nNaah sow no good seed from weh day  \\r\\nNaah get enough food weh day  \\r\\nOur nurses saving lives everyday  \\r\\nBut all the lives you save you don't get enough pay  \\r\\n  \\r\\nI mad I still don't know why  \\r\\nI still don't know why  \\r\\nIs little bit a pay for your life savings  \\r\\nWhat a grave they're digging  \\r\\nNow our farmers them digging hard every day  \\r\\nBut all the food they grow import them a say  \\r\\nThat make me mad that make me mad mad mad mad  \\r\\nMad mad mad mad  \\r\\n  \\r\\nIs little bit a pay for your mama too and  \\r\\nYour sister got to shop for two  \\r\\nOh civil servants you working hard everyday and  \\r\\nYou sweating out for your pay  \\r\\nBut I man still don't know why  \\r\\n  \\r\\nStill don't know why is little bit  \\r\\nA pay everyday what you got to take away  \\r\\nWoy! woy! woy! woy! woy!  \\r\\n[cho]  \\r\\nMe say me naah get enough good from weh day  \\r\\nAll the talk we talk is like we naah  \\r\\nNaah get no good yood from weh day all the bawl we bawl  \\r\\nSay them no hear wha we a say  \\r\\nWorkers a the backbone a the whole island  \\r\\nDon't treat them right is total confusion  \\r\\nCan't go no doctor for no medication  \\r\\nSchool but no teacher no education  \\r\\nPay more dollars to the foundation  \\r\\nNaah get enough pay from weh day musician a suffer but a play  \\r\\nSame way engineer a bawl how him pay too small  \\r\\nCan't build him house with no concrete wall  \\r\\nBass man a cry bout him can't get string  \\r\\nHave the contacts and can't bring them in raggamuffin dj and sing  \\r\\n  \\r\\nLord naah get enough good from weh day  \\r\\nAll the talk we talk is like we naah Lord  \\r\\nNaah get no good yood from weh day  \\r\\nAll the bawl we bawl say them no hear wha we a say  \\r\\nWatching everything go up in inflation  \\r\\nFood price go up and man pay a god down  \\r\\nSome a them  \\r\\nThem telling short  \\r\\nLong  \\r\\nRagga ragga deh pon the version  \\r\\nZiggy zaggy a watch the movements\\r\\n\\r\\n\",\n          \"come in  \\r\\nmake yourself at home  \\r\\ni'm a bit late  \\r\\nhate to make you wait  \\r\\n  \\r\\nbut heart songs  \\r\\nare still on my mind  \\r\\nthere's never the time  \\r\\nto write down these lines  \\r\\n  \\r\\nhow can you say  \\r\\nthat i don't need you  \\r\\njust be sure  \\r\\nno more, no less  \\r\\nlet love confess to you  \\r\\nwhat you must do  \\r\\n  \\r\\ncome on  \\r\\nlet's hit the road  \\r\\ni'm up to my tricks  \\r\\ni know they seem cold  \\r\\n  \\r\\nbut heart songs  \\r\\nare all that i am  \\r\\ni use the same words  \\r\\nto say the same things  \\r\\n  \\r\\nhow can you say  \\r\\nthat i don't need you  \\r\\njust be sure  \\r\\nno more, no less  \\r\\nlet love confess to you  \\r\\nwhat you must do  \\r\\n  \\r\\nhow can you say  \\r\\nthat i don't need you  \\r\\njust be sure  \\r\\nno more, no less  \\r\\nlet love confess to you  \\r\\nno less\\r\\n\\r\\n\"\n        ],\n        \"semantic_type\": \"\",\n        \"description\": \"\"\n      }\n    }\n  ]\n}"
            }
          },
          "metadata": {},
          "execution_count": 51
        }
      ],
      "source": [
        "df.tail(5)"
      ]
    },
    {
      "cell_type": "markdown",
      "metadata": {
        "id": "k_YhGlv6o5-B"
      },
      "source": [
        "1. We will do **FEATURE SELECTION** , so drop (LINK) Column from Dataset\n",
        "2. Code given below perform two opeartion on **PANDAS dataframe** named **df**:\n",
        "\n",
        "     **df.drop('column_name',axis=1)** : It removes column from dataset.\n",
        "\n",
        "     The **axis=1** argument specifies that the operation should be done on the columns (axis 0 refers to rows).\n",
        "\n",
        "* axis = 0 (ROW)\n",
        "* axis = 1 (COLUMN)\n",
        "3. **reset_index (drop=True)** : resets the dataframe's index\n",
        "4. **drop=True** argument removes the old index from the DataFrame after assigning the new one.\n",
        "\n",
        "\n"
      ]
    },
    {
      "cell_type": "code",
      "execution_count": 52,
      "metadata": {
        "id": "z6BjM3CjnEEC"
      },
      "outputs": [],
      "source": [
        "df = df.sample(5000).drop('link',axis=1).reset_index(drop=True)"
      ]
    },
    {
      "cell_type": "code",
      "execution_count": 53,
      "metadata": {
        "id": "R4IFKs1ZnEBt",
        "colab": {
          "base_uri": "https://localhost:8080/",
          "height": 536
        },
        "outputId": "a2ef1e7a-1c13-4637-fb63-31f8846aa962"
      },
      "outputs": [
        {
          "output_type": "execute_result",
          "data": {
            "text/plain": [
              "               artist                                 song  \\\n",
              "0         Carly Simon                 Shoulder To Shoulder   \n",
              "1           Helloween                           Cold Sweat   \n",
              "2  Kris Kristofferson            Out Of Mind, Out Of Sight   \n",
              "3           Kate Bush  And Dream Of Sheep (Live) [Act Two]   \n",
              "4          Paul Simon    How Can You Live In The Northeast   \n",
              "5            Iggy Pop                  Neighborhood Threat   \n",
              "6         Mark Ronson                  Apply Some Pressure   \n",
              "7           Amy Grant                     I Don't Know Why   \n",
              "8        Randy Travis                     Forever Together   \n",
              "9    Barbra Streisand                       All Of My Life   \n",
              "\n",
              "                                                text  \n",
              "0  We stand shoulder to shoulder  \\r\\nWe see eye ...  \n",
              "1  I put my money in the suitcase  \\r\\nAnd headed...  \n",
              "2  Buddy, tip your bottle back  \\r\\nClimb aboard ...  \n",
              "3  [Verse 1]  \\r\\nLittle light shining  \\r\\nLittl...  \n",
              "4  We heard the fireworks. Rushed out to watch th...  \n",
              "5  Down where your paint is cracking  \\r\\nLook do...  \n",
              "6  (feat. Paul Smith)  \\r\\n  \\r\\nYou know that I ...  \n",
              "7  This is one of those moments  \\r\\nWhen all tha...  \n",
              "8  I took you for granted  \\r\\nSo many years  \\r\\...  \n",
              "9  I was alone  \\r\\nYou were alone  \\r\\nParallel ...  "
            ],
            "text/html": [
              "\n",
              "  <div id=\"df-728e5732-ec8a-4cfb-90d7-a2477bf8b71d\" class=\"colab-df-container\">\n",
              "    <div>\n",
              "<style scoped>\n",
              "    .dataframe tbody tr th:only-of-type {\n",
              "        vertical-align: middle;\n",
              "    }\n",
              "\n",
              "    .dataframe tbody tr th {\n",
              "        vertical-align: top;\n",
              "    }\n",
              "\n",
              "    .dataframe thead th {\n",
              "        text-align: right;\n",
              "    }\n",
              "</style>\n",
              "<table border=\"1\" class=\"dataframe\">\n",
              "  <thead>\n",
              "    <tr style=\"text-align: right;\">\n",
              "      <th></th>\n",
              "      <th>artist</th>\n",
              "      <th>song</th>\n",
              "      <th>text</th>\n",
              "    </tr>\n",
              "  </thead>\n",
              "  <tbody>\n",
              "    <tr>\n",
              "      <th>0</th>\n",
              "      <td>Carly Simon</td>\n",
              "      <td>Shoulder To Shoulder</td>\n",
              "      <td>We stand shoulder to shoulder  \\r\\nWe see eye ...</td>\n",
              "    </tr>\n",
              "    <tr>\n",
              "      <th>1</th>\n",
              "      <td>Helloween</td>\n",
              "      <td>Cold Sweat</td>\n",
              "      <td>I put my money in the suitcase  \\r\\nAnd headed...</td>\n",
              "    </tr>\n",
              "    <tr>\n",
              "      <th>2</th>\n",
              "      <td>Kris Kristofferson</td>\n",
              "      <td>Out Of Mind, Out Of Sight</td>\n",
              "      <td>Buddy, tip your bottle back  \\r\\nClimb aboard ...</td>\n",
              "    </tr>\n",
              "    <tr>\n",
              "      <th>3</th>\n",
              "      <td>Kate Bush</td>\n",
              "      <td>And Dream Of Sheep (Live) [Act Two]</td>\n",
              "      <td>[Verse 1]  \\r\\nLittle light shining  \\r\\nLittl...</td>\n",
              "    </tr>\n",
              "    <tr>\n",
              "      <th>4</th>\n",
              "      <td>Paul Simon</td>\n",
              "      <td>How Can You Live In The Northeast</td>\n",
              "      <td>We heard the fireworks. Rushed out to watch th...</td>\n",
              "    </tr>\n",
              "    <tr>\n",
              "      <th>5</th>\n",
              "      <td>Iggy Pop</td>\n",
              "      <td>Neighborhood Threat</td>\n",
              "      <td>Down where your paint is cracking  \\r\\nLook do...</td>\n",
              "    </tr>\n",
              "    <tr>\n",
              "      <th>6</th>\n",
              "      <td>Mark Ronson</td>\n",
              "      <td>Apply Some Pressure</td>\n",
              "      <td>(feat. Paul Smith)  \\r\\n  \\r\\nYou know that I ...</td>\n",
              "    </tr>\n",
              "    <tr>\n",
              "      <th>7</th>\n",
              "      <td>Amy Grant</td>\n",
              "      <td>I Don't Know Why</td>\n",
              "      <td>This is one of those moments  \\r\\nWhen all tha...</td>\n",
              "    </tr>\n",
              "    <tr>\n",
              "      <th>8</th>\n",
              "      <td>Randy Travis</td>\n",
              "      <td>Forever Together</td>\n",
              "      <td>I took you for granted  \\r\\nSo many years  \\r\\...</td>\n",
              "    </tr>\n",
              "    <tr>\n",
              "      <th>9</th>\n",
              "      <td>Barbra Streisand</td>\n",
              "      <td>All Of My Life</td>\n",
              "      <td>I was alone  \\r\\nYou were alone  \\r\\nParallel ...</td>\n",
              "    </tr>\n",
              "  </tbody>\n",
              "</table>\n",
              "</div>\n",
              "    <div class=\"colab-df-buttons\">\n",
              "\n",
              "  <div class=\"colab-df-container\">\n",
              "    <button class=\"colab-df-convert\" onclick=\"convertToInteractive('df-728e5732-ec8a-4cfb-90d7-a2477bf8b71d')\"\n",
              "            title=\"Convert this dataframe to an interactive table.\"\n",
              "            style=\"display:none;\">\n",
              "\n",
              "  <svg xmlns=\"http://www.w3.org/2000/svg\" height=\"24px\" viewBox=\"0 -960 960 960\">\n",
              "    <path d=\"M120-120v-720h720v720H120Zm60-500h600v-160H180v160Zm220 220h160v-160H400v160Zm0 220h160v-160H400v160ZM180-400h160v-160H180v160Zm440 0h160v-160H620v160ZM180-180h160v-160H180v160Zm440 0h160v-160H620v160Z\"/>\n",
              "  </svg>\n",
              "    </button>\n",
              "\n",
              "  <style>\n",
              "    .colab-df-container {\n",
              "      display:flex;\n",
              "      gap: 12px;\n",
              "    }\n",
              "\n",
              "    .colab-df-convert {\n",
              "      background-color: #E8F0FE;\n",
              "      border: none;\n",
              "      border-radius: 50%;\n",
              "      cursor: pointer;\n",
              "      display: none;\n",
              "      fill: #1967D2;\n",
              "      height: 32px;\n",
              "      padding: 0 0 0 0;\n",
              "      width: 32px;\n",
              "    }\n",
              "\n",
              "    .colab-df-convert:hover {\n",
              "      background-color: #E2EBFA;\n",
              "      box-shadow: 0px 1px 2px rgba(60, 64, 67, 0.3), 0px 1px 3px 1px rgba(60, 64, 67, 0.15);\n",
              "      fill: #174EA6;\n",
              "    }\n",
              "\n",
              "    .colab-df-buttons div {\n",
              "      margin-bottom: 4px;\n",
              "    }\n",
              "\n",
              "    [theme=dark] .colab-df-convert {\n",
              "      background-color: #3B4455;\n",
              "      fill: #D2E3FC;\n",
              "    }\n",
              "\n",
              "    [theme=dark] .colab-df-convert:hover {\n",
              "      background-color: #434B5C;\n",
              "      box-shadow: 0px 1px 3px 1px rgba(0, 0, 0, 0.15);\n",
              "      filter: drop-shadow(0px 1px 2px rgba(0, 0, 0, 0.3));\n",
              "      fill: #FFFFFF;\n",
              "    }\n",
              "  </style>\n",
              "\n",
              "    <script>\n",
              "      const buttonEl =\n",
              "        document.querySelector('#df-728e5732-ec8a-4cfb-90d7-a2477bf8b71d button.colab-df-convert');\n",
              "      buttonEl.style.display =\n",
              "        google.colab.kernel.accessAllowed ? 'block' : 'none';\n",
              "\n",
              "      async function convertToInteractive(key) {\n",
              "        const element = document.querySelector('#df-728e5732-ec8a-4cfb-90d7-a2477bf8b71d');\n",
              "        const dataTable =\n",
              "          await google.colab.kernel.invokeFunction('convertToInteractive',\n",
              "                                                    [key], {});\n",
              "        if (!dataTable) return;\n",
              "\n",
              "        const docLinkHtml = 'Like what you see? Visit the ' +\n",
              "          '<a target=\"_blank\" href=https://colab.research.google.com/notebooks/data_table.ipynb>data table notebook</a>'\n",
              "          + ' to learn more about interactive tables.';\n",
              "        element.innerHTML = '';\n",
              "        dataTable['output_type'] = 'display_data';\n",
              "        await google.colab.output.renderOutput(dataTable, element);\n",
              "        const docLink = document.createElement('div');\n",
              "        docLink.innerHTML = docLinkHtml;\n",
              "        element.appendChild(docLink);\n",
              "      }\n",
              "    </script>\n",
              "  </div>\n",
              "\n",
              "\n",
              "<div id=\"df-c028de51-a231-43c6-8f0c-57593b9459cc\">\n",
              "  <button class=\"colab-df-quickchart\" onclick=\"quickchart('df-c028de51-a231-43c6-8f0c-57593b9459cc')\"\n",
              "            title=\"Suggest charts\"\n",
              "            style=\"display:none;\">\n",
              "\n",
              "<svg xmlns=\"http://www.w3.org/2000/svg\" height=\"24px\"viewBox=\"0 0 24 24\"\n",
              "     width=\"24px\">\n",
              "    <g>\n",
              "        <path d=\"M19 3H5c-1.1 0-2 .9-2 2v14c0 1.1.9 2 2 2h14c1.1 0 2-.9 2-2V5c0-1.1-.9-2-2-2zM9 17H7v-7h2v7zm4 0h-2V7h2v10zm4 0h-2v-4h2v4z\"/>\n",
              "    </g>\n",
              "</svg>\n",
              "  </button>\n",
              "\n",
              "<style>\n",
              "  .colab-df-quickchart {\n",
              "      --bg-color: #E8F0FE;\n",
              "      --fill-color: #1967D2;\n",
              "      --hover-bg-color: #E2EBFA;\n",
              "      --hover-fill-color: #174EA6;\n",
              "      --disabled-fill-color: #AAA;\n",
              "      --disabled-bg-color: #DDD;\n",
              "  }\n",
              "\n",
              "  [theme=dark] .colab-df-quickchart {\n",
              "      --bg-color: #3B4455;\n",
              "      --fill-color: #D2E3FC;\n",
              "      --hover-bg-color: #434B5C;\n",
              "      --hover-fill-color: #FFFFFF;\n",
              "      --disabled-bg-color: #3B4455;\n",
              "      --disabled-fill-color: #666;\n",
              "  }\n",
              "\n",
              "  .colab-df-quickchart {\n",
              "    background-color: var(--bg-color);\n",
              "    border: none;\n",
              "    border-radius: 50%;\n",
              "    cursor: pointer;\n",
              "    display: none;\n",
              "    fill: var(--fill-color);\n",
              "    height: 32px;\n",
              "    padding: 0;\n",
              "    width: 32px;\n",
              "  }\n",
              "\n",
              "  .colab-df-quickchart:hover {\n",
              "    background-color: var(--hover-bg-color);\n",
              "    box-shadow: 0 1px 2px rgba(60, 64, 67, 0.3), 0 1px 3px 1px rgba(60, 64, 67, 0.15);\n",
              "    fill: var(--button-hover-fill-color);\n",
              "  }\n",
              "\n",
              "  .colab-df-quickchart-complete:disabled,\n",
              "  .colab-df-quickchart-complete:disabled:hover {\n",
              "    background-color: var(--disabled-bg-color);\n",
              "    fill: var(--disabled-fill-color);\n",
              "    box-shadow: none;\n",
              "  }\n",
              "\n",
              "  .colab-df-spinner {\n",
              "    border: 2px solid var(--fill-color);\n",
              "    border-color: transparent;\n",
              "    border-bottom-color: var(--fill-color);\n",
              "    animation:\n",
              "      spin 1s steps(1) infinite;\n",
              "  }\n",
              "\n",
              "  @keyframes spin {\n",
              "    0% {\n",
              "      border-color: transparent;\n",
              "      border-bottom-color: var(--fill-color);\n",
              "      border-left-color: var(--fill-color);\n",
              "    }\n",
              "    20% {\n",
              "      border-color: transparent;\n",
              "      border-left-color: var(--fill-color);\n",
              "      border-top-color: var(--fill-color);\n",
              "    }\n",
              "    30% {\n",
              "      border-color: transparent;\n",
              "      border-left-color: var(--fill-color);\n",
              "      border-top-color: var(--fill-color);\n",
              "      border-right-color: var(--fill-color);\n",
              "    }\n",
              "    40% {\n",
              "      border-color: transparent;\n",
              "      border-right-color: var(--fill-color);\n",
              "      border-top-color: var(--fill-color);\n",
              "    }\n",
              "    60% {\n",
              "      border-color: transparent;\n",
              "      border-right-color: var(--fill-color);\n",
              "    }\n",
              "    80% {\n",
              "      border-color: transparent;\n",
              "      border-right-color: var(--fill-color);\n",
              "      border-bottom-color: var(--fill-color);\n",
              "    }\n",
              "    90% {\n",
              "      border-color: transparent;\n",
              "      border-bottom-color: var(--fill-color);\n",
              "    }\n",
              "  }\n",
              "</style>\n",
              "\n",
              "  <script>\n",
              "    async function quickchart(key) {\n",
              "      const quickchartButtonEl =\n",
              "        document.querySelector('#' + key + ' button');\n",
              "      quickchartButtonEl.disabled = true;  // To prevent multiple clicks.\n",
              "      quickchartButtonEl.classList.add('colab-df-spinner');\n",
              "      try {\n",
              "        const charts = await google.colab.kernel.invokeFunction(\n",
              "            'suggestCharts', [key], {});\n",
              "      } catch (error) {\n",
              "        console.error('Error during call to suggestCharts:', error);\n",
              "      }\n",
              "      quickchartButtonEl.classList.remove('colab-df-spinner');\n",
              "      quickchartButtonEl.classList.add('colab-df-quickchart-complete');\n",
              "    }\n",
              "    (() => {\n",
              "      let quickchartButtonEl =\n",
              "        document.querySelector('#df-c028de51-a231-43c6-8f0c-57593b9459cc button');\n",
              "      quickchartButtonEl.style.display =\n",
              "        google.colab.kernel.accessAllowed ? 'block' : 'none';\n",
              "    })();\n",
              "  </script>\n",
              "</div>\n",
              "\n",
              "    </div>\n",
              "  </div>\n"
            ],
            "application/vnd.google.colaboratory.intrinsic+json": {
              "type": "dataframe",
              "variable_name": "df",
              "summary": "{\n  \"name\": \"df\",\n  \"rows\": 5000,\n  \"fields\": [\n    {\n      \"column\": \"artist\",\n      \"properties\": {\n        \"dtype\": \"category\",\n        \"num_unique_values\": 600,\n        \"samples\": [\n          \"James Taylor\",\n          \"Thin Lizzy\",\n          \"Imperials\"\n        ],\n        \"semantic_type\": \"\",\n        \"description\": \"\"\n      }\n    },\n    {\n      \"column\": \"song\",\n      \"properties\": {\n        \"dtype\": \"string\",\n        \"num_unique_values\": 4808,\n        \"samples\": [\n          \"Born To Be Wild\",\n          \"Song Of The South\",\n          \"Everywhere I Turn\"\n        ],\n        \"semantic_type\": \"\",\n        \"description\": \"\"\n      }\n    },\n    {\n      \"column\": \"text\",\n      \"properties\": {\n        \"dtype\": \"string\",\n        \"num_unique_values\": 4998,\n        \"samples\": [\n          \"Spanish Johnny drove in from the underworld last night  \\r\\nWith bruised arms and broken rhythm and a beat-up old Buick but dressed just\\r\\nlike dynamite  \\r\\nHe tried sellin' his heart to the hard girls over on Easy Street  \\r\\nBut they said, \\\"Johnny, it falls apart so easily, and you know hearts these\\r\\ndays are cheap\\\"  \\r\\nAnd the pimps swung their axes and said, \\\"Johnny, you're a cheater\\\"  \\r\\nAnd the pimps swung their axes and said, \\\"Johnny, you're a liar\\\"  \\r\\nAnd from out of the shadows came a young girl's voice, said, \\\"Johnny, don't\\r\\ncry\\\"  \\r\\nPuerto Rican Jane, oh, won't you tell me, what's your name?  \\r\\nI want to drive you down to the other side of town  \\r\\nWhere paradise ain't so crowded and there'll be action goin' down on Shanty\\r\\nLane tonight  \\r\\nAll the golden-heeled fairies in a real bitch-fight  \\r\\nPull .38's and kiss their girls goodnight  \\r\\n  \\r\\nGoodnight, it's alright, Jane  \\r\\nNow let them black boys in to light the soul flame  \\r\\nWe may find it out on the street tonight, baby  \\r\\nOr we may walk until the daylight, maybe  \\r\\n  \\r\\nWell, like a cool Romeo he made his moves, oh, she looked so fine  \\r\\nLike a late Juliet, she knew she'd never be true but then, she really didn't\\r\\nmind  \\r\\nUpstairs a band was playin' and the singer was singin' something about going\\r\\nhome  \\r\\nShe whispered, \\\"Spanish Johnny, you can leave me tonight, but just don't leave\\r\\nme alone\\\"  \\r\\nAnd Johnny cried, \\\"Puerto Rican Jane, word is down, the cops have found the\\r\\nvein\\\"  \\r\\nThem barefoot boys left their homes for the woods  \\r\\nThem little barefoot street boys, they said their homes ain't no good  \\r\\nThey left the corners, threw away their switchblade knives and kissed each\\r\\nother goodbye  \\r\\n  \\r\\nJohnny was sittin' on the fire escape, watchin' the kids playin' down the\\r\\nstreet  \\r\\nHe called down, \\\"Hey little heroes, summer's long, but I guess it ain't very\\r\\nsweet around here anymore\\\"  \\r\\nJaney sleeps in sheets damp with sweat  \\r\\nJohnny sits up alone and watches her dream on, dream on  \\r\\nAnd the sister prays for lost souls, then breaks down in the chapel after\\r\\neveryone's gone  \\r\\n  \\r\\nJane moves over to share her pillow but opens her eyes to see Johnny up and\\r\\nputting his clothes on  \\r\\nShe says, \\\"Those romantic young boys, all they ever want to do is fight  \\r\\nThose romantic young boys, they're callin' through the window  \\r\\nHey, Spanish Johnny, you want to make a little easy money tonight?\\\"  \\r\\n  \\r\\nAnd Johnny whispered, \\\"Goodnight, it's all tight, Jane  \\r\\nI'll meet you tomorrow night on Lover's Lane  \\r\\nWe may find it out on the street tonight, now, baby  \\r\\nOr we may walk until the daylight, maybe\\\"  \\r\\nGoodnight, it's alright, Jane  \\r\\nI'm gonna meet you tomorrow night on Lover's Lane  \\r\\nWe can find it out on the street tonight, now, baby  \\r\\nOr we may walk until the daylight, maybe\\r\\n\\r\\n\",\n          \"Hello baby, it's a long time  \\r\\nI know you're here  \\r\\nI feel you close to me  \\r\\nSo much to say but  \\r\\nMaking all the words  \\r\\nI save them all inside  \\r\\nThen I see you and they disappear  \\r\\nLike leaves beneath the snow  \\r\\nAnd life don't wait for everyone  \\r\\nAnd yesterday, I let you go  \\r\\n  \\r\\nI'm watching you tonight  \\r\\nAnd I waited for so long  \\r\\nI've been living on your memory  \\r\\nIn a world where we were one  \\r\\nAnd you told me you could make it on your own  \\r\\n  \\r\\nI'm watching you tonight  \\r\\nAnd it's making me cry  \\r\\nWhen I lost you, I lost everything  \\r\\nBut our love should never die  \\r\\nNot mine, my love is born to be your love  \\r\\nOh baby  \\r\\nTo make history near you  \\r\\nBut the moment when I see me in your eyes  \\r\\nYou're gone, you're gone  \\r\\n  \\r\\nYou can say goodbye if you want to  \\r\\nI love you but I'll try to understand  \\r\\nBut in my soul I know it's meant to be  \\r\\nTogether you and me  \\r\\n  \\r\\nBut I know you came to fade away  \\r\\nLike voices in the wind  \\r\\nAnd I wonder if you feel my love  \\r\\nIt's stronger than it's ever been  \\r\\n  \\r\\nI'm watching you tonight  \\r\\nAnd there's no other one  \\r\\nAll the love we gave eternally  \\r\\nNow it's dying in the sun  \\r\\nNot mine, my love was born to be your love  \\r\\nOh baby  \\r\\nTo make history near you  \\r\\nBut that moment when I see me in your eyes  \\r\\nYou're gone, you're gone, you're gone\\r\\n\\r\\n\",\n          \"Hungry Eyes  \\r\\n  \\r\\n  \\r\\nI've been meaning to tell you  \\r\\nI've got this feelin' that won't subside  \\r\\nI look at you and I fantasize  \\r\\nYou are mine tonight  \\r\\nNow I've got you in my sights  \\r\\n  \\r\\nWith these hungry eyes  \\r\\nOne look at you and I can't disguise  \\r\\nI've got hungry eyes  \\r\\nI feel the magic between you and I  \\r\\n  \\r\\nI want to hold you so hear me out  \\r\\nI want to show you what love's all about  \\r\\nDarlin' tonight  \\r\\nNow I've got you in my sights  \\r\\n  \\r\\nWith these hungry eyes  \\r\\nOne look at you and I can't disguise  \\r\\nI've got hungry eyes  \\r\\nI feel the magic between you  \\r\\nAnd I've got hungry eyes  \\r\\nNow I've got you in my sights  \\r\\nWith these hungry eyes  \\r\\nNow did I take you by surprise  \\r\\n  \\r\\nI need you to see  \\r\\nThis love was meant to be  \\r\\n  \\r\\nI've got hungry eyes  \\r\\nOne look at you and I can't disguise  \\r\\nI've got hungry eyes  \\r\\nI feel the magic between you  \\r\\nAnd I've got hungry eyes  \\r\\nNow I've got you in my sights  \\r\\nWith those hungry eyes  \\r\\nDid I take you by surprise  \\r\\n  \\r\\nWith my hungry eyes\\r\\n\\r\\n\"\n        ],\n        \"semantic_type\": \"\",\n        \"description\": \"\"\n      }\n    }\n  ]\n}"
            }
          },
          "metadata": {},
          "execution_count": 53
        }
      ],
      "source": [
        "df.head(10)"
      ]
    },
    {
      "cell_type": "markdown",
      "metadata": {
        "id": "0U7FmeWGuZJN"
      },
      "source": [
        "To see full data of any BOX of table\n",
        "* **df[column name][index]**\n",
        "\n"
      ]
    },
    {
      "cell_type": "code",
      "execution_count": 54,
      "metadata": {
        "id": "QulVxOldnD-k",
        "colab": {
          "base_uri": "https://localhost:8080/",
          "height": 163
        },
        "outputId": "0b9ed438-a90f-456f-9046-41d4be526c82"
      },
      "outputs": [
        {
          "output_type": "execute_result",
          "data": {
            "text/plain": [
              "\"We stand shoulder to shoulder  \\r\\nWe see eye to eye  \\r\\nWe dive deep under water  \\r\\nWe jump high in the sky  \\r\\n  \\r\\nWe stand shoulder to shoulder  \\r\\nWe stand side to side  \\r\\nWhen one of us gets a tiny bit tired  \\r\\nOne gives the other a ride  \\r\\n  \\r\\nI've never had a best friend before  \\r\\nSo I can't be sure what it feels like  \\r\\nBut I think it feels more like this  \\r\\nI think I feel more like myself  \\r\\nWhen I'm with you  \\r\\n  \\r\\nFinding, losing and finding  \\r\\nLosing and finding  \\r\\nMaking a bond that is strong  \\r\\nBuilding a house for our friendship  \\r\\nBreathing a breath for our song  \\r\\nFor our song\\r\\n\\r\\n\""
            ],
            "application/vnd.google.colaboratory.intrinsic+json": {
              "type": "string"
            }
          },
          "metadata": {},
          "execution_count": 54
        }
      ],
      "source": [
        "df['text'][0]"
      ]
    },
    {
      "cell_type": "markdown",
      "metadata": {
        "id": "zTZvoofxwN24"
      },
      "source": [
        "**TEXT CLEANING / TEXT PRE-PROCESSING**\n",
        "\n",
        "1. \\r\\n : in the code needs to be cleaned\n",
        "2. Take random sample from dataset"
      ]
    },
    {
      "cell_type": "code",
      "execution_count": 55,
      "metadata": {
        "id": "f5mIRz_InD45",
        "colab": {
          "base_uri": "https://localhost:8080/"
        },
        "outputId": "291fa46b-1767-4f09-975f-4b7ec5a65d47"
      },
      "outputs": [
        {
          "output_type": "execute_result",
          "data": {
            "text/plain": [
              "(5000, 3)"
            ]
          },
          "metadata": {},
          "execution_count": 55
        }
      ],
      "source": [
        "df.shape"
      ]
    },
    {
      "cell_type": "markdown",
      "metadata": {
        "id": "-jlLqAVivFE6"
      },
      "source": [
        "**Caret ^** indicates **negation** (i.e., don't match these characters).\n",
        "\n",
        "r'^/w/s  =  remove everything except letter , digit & underscore"
      ]
    },
    {
      "cell_type": "markdown",
      "metadata": {
        "id": "d85AfPPJwv70"
      },
      "source": [
        "1. **df['text'].str.lower():**\n",
        "\n",
        "* .lower() method converts all characters in each string to lowercase.\n",
        "2. **.replace(r'^\\w\\s', '', regex=True):**\n",
        "\n",
        "* This applies the .replace() method to the lowercase strings.\n",
        "* **^**: The beginning of the string.\n",
        "* \\w: Any word character (a-z, A-Z, 0-9, or underscore).\n",
        "* \\s: Any whitespace character (space, tab, newline, etc.).\n",
        "* The second argument is an empty string '', indicating that the **matched pattern will be replaced with nothing.**\n",
        "* **regex=True** argument explicitly specifies that the first argument is a regular expression.\n",
        "3. **.replace(r'\\n',' ', regex=True):**\n",
        "\n",
        "* The pattern r'\\n' matches a **single newline character (\\n).**\n",
        "It is replaced with a **space** character ()."
      ]
    },
    {
      "cell_type": "code",
      "execution_count": 56,
      "metadata": {
        "id": "k760YSmxnD2K"
      },
      "outputs": [],
      "source": [
        "df['text'] = df['text'].str.lower().replace(r'^\\w\\s','').replace(r'\\n',' ',regex=True)"
      ]
    },
    {
      "cell_type": "markdown",
      "metadata": {
        "id": "-p6fYgD8yQAz"
      },
      "source": [
        "**TEXTUAL DATA -> NUMERICAL VECTORS using:**\n",
        "1. N-Gram\n",
        "2. TF-IDF (Term Frequency - Inverse Document Frequency)\n",
        "3. BAG-of-WORDS\n",
        "\n",
        "**TEXT PROCESSING: enhance ability to represent & analyze textual data**\n",
        "1. WORD2VEC\n",
        "2. AVERAGE WORD2VEC"
      ]
    },
    {
      "cell_type": "markdown",
      "metadata": {
        "id": "DCMo0VYf8z_A"
      },
      "source": [
        "**COSINE SIMILARITY**:\n",
        "\n"
      ]
    },
    {
      "cell_type": "code",
      "execution_count": 57,
      "metadata": {
        "id": "LB8JM_3WnDzU",
        "colab": {
          "base_uri": "https://localhost:8080/",
          "height": 293
        },
        "outputId": "c3fe8fbe-23ad-44c8-bdd2-2dc9ec189856"
      },
      "outputs": [
        {
          "output_type": "execute_result",
          "data": {
            "text/plain": [
              "               artist                               song  \\\n",
              "4995  Christmas Songs  Bring A Torch, Jeanette, Isabella   \n",
              "4996        Helloween                            Kill It   \n",
              "4997           ZZ Top                        Brown Sugar   \n",
              "4998    Justin Bieber                                 Up   \n",
              "4999   Britney Spears                               Liar   \n",
              "\n",
              "                                                   text  \n",
              "4995  (french carol, ca. 1553)  \\r   \\r bring a torc...  \n",
              "4996  i'm your maker  \\r mold your mind  \\r idea-cre...  \n",
              "4997  my friends, they all told me,  \\r man, there's...  \n",
              "4998  it's a big big world  \\r it's easy to get lost...  \n",
              "4999  [verse 1]  \\r tall tale, such a damn shame  \\r...  "
            ],
            "text/html": [
              "\n",
              "  <div id=\"df-db132e6a-e9d5-4b35-a2e4-9a7dd70688ff\" class=\"colab-df-container\">\n",
              "    <div>\n",
              "<style scoped>\n",
              "    .dataframe tbody tr th:only-of-type {\n",
              "        vertical-align: middle;\n",
              "    }\n",
              "\n",
              "    .dataframe tbody tr th {\n",
              "        vertical-align: top;\n",
              "    }\n",
              "\n",
              "    .dataframe thead th {\n",
              "        text-align: right;\n",
              "    }\n",
              "</style>\n",
              "<table border=\"1\" class=\"dataframe\">\n",
              "  <thead>\n",
              "    <tr style=\"text-align: right;\">\n",
              "      <th></th>\n",
              "      <th>artist</th>\n",
              "      <th>song</th>\n",
              "      <th>text</th>\n",
              "    </tr>\n",
              "  </thead>\n",
              "  <tbody>\n",
              "    <tr>\n",
              "      <th>4995</th>\n",
              "      <td>Christmas Songs</td>\n",
              "      <td>Bring A Torch, Jeanette, Isabella</td>\n",
              "      <td>(french carol, ca. 1553)  \\r   \\r bring a torc...</td>\n",
              "    </tr>\n",
              "    <tr>\n",
              "      <th>4996</th>\n",
              "      <td>Helloween</td>\n",
              "      <td>Kill It</td>\n",
              "      <td>i'm your maker  \\r mold your mind  \\r idea-cre...</td>\n",
              "    </tr>\n",
              "    <tr>\n",
              "      <th>4997</th>\n",
              "      <td>ZZ Top</td>\n",
              "      <td>Brown Sugar</td>\n",
              "      <td>my friends, they all told me,  \\r man, there's...</td>\n",
              "    </tr>\n",
              "    <tr>\n",
              "      <th>4998</th>\n",
              "      <td>Justin Bieber</td>\n",
              "      <td>Up</td>\n",
              "      <td>it's a big big world  \\r it's easy to get lost...</td>\n",
              "    </tr>\n",
              "    <tr>\n",
              "      <th>4999</th>\n",
              "      <td>Britney Spears</td>\n",
              "      <td>Liar</td>\n",
              "      <td>[verse 1]  \\r tall tale, such a damn shame  \\r...</td>\n",
              "    </tr>\n",
              "  </tbody>\n",
              "</table>\n",
              "</div>\n",
              "    <div class=\"colab-df-buttons\">\n",
              "\n",
              "  <div class=\"colab-df-container\">\n",
              "    <button class=\"colab-df-convert\" onclick=\"convertToInteractive('df-db132e6a-e9d5-4b35-a2e4-9a7dd70688ff')\"\n",
              "            title=\"Convert this dataframe to an interactive table.\"\n",
              "            style=\"display:none;\">\n",
              "\n",
              "  <svg xmlns=\"http://www.w3.org/2000/svg\" height=\"24px\" viewBox=\"0 -960 960 960\">\n",
              "    <path d=\"M120-120v-720h720v720H120Zm60-500h600v-160H180v160Zm220 220h160v-160H400v160Zm0 220h160v-160H400v160ZM180-400h160v-160H180v160Zm440 0h160v-160H620v160ZM180-180h160v-160H180v160Zm440 0h160v-160H620v160Z\"/>\n",
              "  </svg>\n",
              "    </button>\n",
              "\n",
              "  <style>\n",
              "    .colab-df-container {\n",
              "      display:flex;\n",
              "      gap: 12px;\n",
              "    }\n",
              "\n",
              "    .colab-df-convert {\n",
              "      background-color: #E8F0FE;\n",
              "      border: none;\n",
              "      border-radius: 50%;\n",
              "      cursor: pointer;\n",
              "      display: none;\n",
              "      fill: #1967D2;\n",
              "      height: 32px;\n",
              "      padding: 0 0 0 0;\n",
              "      width: 32px;\n",
              "    }\n",
              "\n",
              "    .colab-df-convert:hover {\n",
              "      background-color: #E2EBFA;\n",
              "      box-shadow: 0px 1px 2px rgba(60, 64, 67, 0.3), 0px 1px 3px 1px rgba(60, 64, 67, 0.15);\n",
              "      fill: #174EA6;\n",
              "    }\n",
              "\n",
              "    .colab-df-buttons div {\n",
              "      margin-bottom: 4px;\n",
              "    }\n",
              "\n",
              "    [theme=dark] .colab-df-convert {\n",
              "      background-color: #3B4455;\n",
              "      fill: #D2E3FC;\n",
              "    }\n",
              "\n",
              "    [theme=dark] .colab-df-convert:hover {\n",
              "      background-color: #434B5C;\n",
              "      box-shadow: 0px 1px 3px 1px rgba(0, 0, 0, 0.15);\n",
              "      filter: drop-shadow(0px 1px 2px rgba(0, 0, 0, 0.3));\n",
              "      fill: #FFFFFF;\n",
              "    }\n",
              "  </style>\n",
              "\n",
              "    <script>\n",
              "      const buttonEl =\n",
              "        document.querySelector('#df-db132e6a-e9d5-4b35-a2e4-9a7dd70688ff button.colab-df-convert');\n",
              "      buttonEl.style.display =\n",
              "        google.colab.kernel.accessAllowed ? 'block' : 'none';\n",
              "\n",
              "      async function convertToInteractive(key) {\n",
              "        const element = document.querySelector('#df-db132e6a-e9d5-4b35-a2e4-9a7dd70688ff');\n",
              "        const dataTable =\n",
              "          await google.colab.kernel.invokeFunction('convertToInteractive',\n",
              "                                                    [key], {});\n",
              "        if (!dataTable) return;\n",
              "\n",
              "        const docLinkHtml = 'Like what you see? Visit the ' +\n",
              "          '<a target=\"_blank\" href=https://colab.research.google.com/notebooks/data_table.ipynb>data table notebook</a>'\n",
              "          + ' to learn more about interactive tables.';\n",
              "        element.innerHTML = '';\n",
              "        dataTable['output_type'] = 'display_data';\n",
              "        await google.colab.output.renderOutput(dataTable, element);\n",
              "        const docLink = document.createElement('div');\n",
              "        docLink.innerHTML = docLinkHtml;\n",
              "        element.appendChild(docLink);\n",
              "      }\n",
              "    </script>\n",
              "  </div>\n",
              "\n",
              "\n",
              "<div id=\"df-bda75026-d561-42db-ade6-e77e476e93fe\">\n",
              "  <button class=\"colab-df-quickchart\" onclick=\"quickchart('df-bda75026-d561-42db-ade6-e77e476e93fe')\"\n",
              "            title=\"Suggest charts\"\n",
              "            style=\"display:none;\">\n",
              "\n",
              "<svg xmlns=\"http://www.w3.org/2000/svg\" height=\"24px\"viewBox=\"0 0 24 24\"\n",
              "     width=\"24px\">\n",
              "    <g>\n",
              "        <path d=\"M19 3H5c-1.1 0-2 .9-2 2v14c0 1.1.9 2 2 2h14c1.1 0 2-.9 2-2V5c0-1.1-.9-2-2-2zM9 17H7v-7h2v7zm4 0h-2V7h2v10zm4 0h-2v-4h2v4z\"/>\n",
              "    </g>\n",
              "</svg>\n",
              "  </button>\n",
              "\n",
              "<style>\n",
              "  .colab-df-quickchart {\n",
              "      --bg-color: #E8F0FE;\n",
              "      --fill-color: #1967D2;\n",
              "      --hover-bg-color: #E2EBFA;\n",
              "      --hover-fill-color: #174EA6;\n",
              "      --disabled-fill-color: #AAA;\n",
              "      --disabled-bg-color: #DDD;\n",
              "  }\n",
              "\n",
              "  [theme=dark] .colab-df-quickchart {\n",
              "      --bg-color: #3B4455;\n",
              "      --fill-color: #D2E3FC;\n",
              "      --hover-bg-color: #434B5C;\n",
              "      --hover-fill-color: #FFFFFF;\n",
              "      --disabled-bg-color: #3B4455;\n",
              "      --disabled-fill-color: #666;\n",
              "  }\n",
              "\n",
              "  .colab-df-quickchart {\n",
              "    background-color: var(--bg-color);\n",
              "    border: none;\n",
              "    border-radius: 50%;\n",
              "    cursor: pointer;\n",
              "    display: none;\n",
              "    fill: var(--fill-color);\n",
              "    height: 32px;\n",
              "    padding: 0;\n",
              "    width: 32px;\n",
              "  }\n",
              "\n",
              "  .colab-df-quickchart:hover {\n",
              "    background-color: var(--hover-bg-color);\n",
              "    box-shadow: 0 1px 2px rgba(60, 64, 67, 0.3), 0 1px 3px 1px rgba(60, 64, 67, 0.15);\n",
              "    fill: var(--button-hover-fill-color);\n",
              "  }\n",
              "\n",
              "  .colab-df-quickchart-complete:disabled,\n",
              "  .colab-df-quickchart-complete:disabled:hover {\n",
              "    background-color: var(--disabled-bg-color);\n",
              "    fill: var(--disabled-fill-color);\n",
              "    box-shadow: none;\n",
              "  }\n",
              "\n",
              "  .colab-df-spinner {\n",
              "    border: 2px solid var(--fill-color);\n",
              "    border-color: transparent;\n",
              "    border-bottom-color: var(--fill-color);\n",
              "    animation:\n",
              "      spin 1s steps(1) infinite;\n",
              "  }\n",
              "\n",
              "  @keyframes spin {\n",
              "    0% {\n",
              "      border-color: transparent;\n",
              "      border-bottom-color: var(--fill-color);\n",
              "      border-left-color: var(--fill-color);\n",
              "    }\n",
              "    20% {\n",
              "      border-color: transparent;\n",
              "      border-left-color: var(--fill-color);\n",
              "      border-top-color: var(--fill-color);\n",
              "    }\n",
              "    30% {\n",
              "      border-color: transparent;\n",
              "      border-left-color: var(--fill-color);\n",
              "      border-top-color: var(--fill-color);\n",
              "      border-right-color: var(--fill-color);\n",
              "    }\n",
              "    40% {\n",
              "      border-color: transparent;\n",
              "      border-right-color: var(--fill-color);\n",
              "      border-top-color: var(--fill-color);\n",
              "    }\n",
              "    60% {\n",
              "      border-color: transparent;\n",
              "      border-right-color: var(--fill-color);\n",
              "    }\n",
              "    80% {\n",
              "      border-color: transparent;\n",
              "      border-right-color: var(--fill-color);\n",
              "      border-bottom-color: var(--fill-color);\n",
              "    }\n",
              "    90% {\n",
              "      border-color: transparent;\n",
              "      border-bottom-color: var(--fill-color);\n",
              "    }\n",
              "  }\n",
              "</style>\n",
              "\n",
              "  <script>\n",
              "    async function quickchart(key) {\n",
              "      const quickchartButtonEl =\n",
              "        document.querySelector('#' + key + ' button');\n",
              "      quickchartButtonEl.disabled = true;  // To prevent multiple clicks.\n",
              "      quickchartButtonEl.classList.add('colab-df-spinner');\n",
              "      try {\n",
              "        const charts = await google.colab.kernel.invokeFunction(\n",
              "            'suggestCharts', [key], {});\n",
              "      } catch (error) {\n",
              "        console.error('Error during call to suggestCharts:', error);\n",
              "      }\n",
              "      quickchartButtonEl.classList.remove('colab-df-spinner');\n",
              "      quickchartButtonEl.classList.add('colab-df-quickchart-complete');\n",
              "    }\n",
              "    (() => {\n",
              "      let quickchartButtonEl =\n",
              "        document.querySelector('#df-bda75026-d561-42db-ade6-e77e476e93fe button');\n",
              "      quickchartButtonEl.style.display =\n",
              "        google.colab.kernel.accessAllowed ? 'block' : 'none';\n",
              "    })();\n",
              "  </script>\n",
              "</div>\n",
              "\n",
              "    </div>\n",
              "  </div>\n"
            ],
            "application/vnd.google.colaboratory.intrinsic+json": {
              "type": "dataframe",
              "summary": "{\n  \"name\": \"df\",\n  \"rows\": 5,\n  \"fields\": [\n    {\n      \"column\": \"artist\",\n      \"properties\": {\n        \"dtype\": \"string\",\n        \"num_unique_values\": 5,\n        \"samples\": [\n          \"Helloween\",\n          \"Britney Spears\",\n          \"ZZ Top\"\n        ],\n        \"semantic_type\": \"\",\n        \"description\": \"\"\n      }\n    },\n    {\n      \"column\": \"song\",\n      \"properties\": {\n        \"dtype\": \"string\",\n        \"num_unique_values\": 5,\n        \"samples\": [\n          \"Kill It\",\n          \"Liar\",\n          \"Brown Sugar\"\n        ],\n        \"semantic_type\": \"\",\n        \"description\": \"\"\n      }\n    },\n    {\n      \"column\": \"text\",\n      \"properties\": {\n        \"dtype\": \"string\",\n        \"num_unique_values\": 5,\n        \"samples\": [\n          \"i'm your maker  \\r mold your mind  \\r idea-creator  \\r bias from behind  \\r   \\r people never wonder  \\r how the world goes round  \\r they who care go under  \\r that's what i'm about  \\r   \\r i kill it, kill it, kill it  \\r kill it, kill it  \\r care must die  \\r kill it, kill it, kill it  \\r what we can't tie  \\r what we can't buy  \\r must die  \\r   \\r i'm soul hunter  \\r of the might  \\r upright hatemonger  \\r angel of the blind  \\r   \\r people never wonder  \\r how the world goes round  \\r they who care go under  \\r that's what i'm about  \\r   \\r i kill it, kill it, kill it  \\r kill it, kill it  \\r care must die  \\r kill it, kill it, kill it  \\r   \\r people never wonder  \\r how the world goes round  \\r they who know must follow  \\r they who don't die bound  \\r   \\r i pay billions  \\r all got a price  \\r plain corruption  \\r no roll of the dice  \\r   \\r people never wonder  \\r how the world goes round  \\r they who care go under  \\r that's what i'm about  \\r   \\r i kill it, kill it, kill it  \\r kill it, kill it  \\r care must die  \\r kill it, kill it, kill it  \\r what we can't tie  \\r what we can't buy  \\r must die\\r \\r \",\n          \"[verse 1]  \\r tall tale, such a damn shame  \\r hindsight, i can see it all so plain  \\r kamikaze fire come down  \\r fire come down, fire-fire come down  \\r left, right, nowhere to turn  \\r collecting the ash from the bridges you burned  \\r kamikaze fire come down  \\r fire come down, fire-fire come down  \\r   \\r [pre-chorus]  \\r (ah) it's too late for apologies  \\r (ah) nothing you can offer me now  \\r (ah) i'm looking at you on your knees  \\r (ah) and i'm all listened out  \\r [chorus]  \\r call, call, call  \\r but i'm never gonna come  \\r baby cry, cry, cry  \\r you ain't fooling anyone  \\r you know i know that you know i know  \\r that you're a liar, a liar  \\r you can crawl, crawl, crawl  \\r you can beg and you can plead  \\r baby talk, talk, talk  \\r keep on lying through your teeth  \\r you know i know that you know i know  \\r that you're a liar, a liar  \\r   \\r [verse 2]  \\r i hear you all night, talk in your sleep  \\r saying all kinda names but none of them me  \\r keeping secrets under your sheets  \\r under you sheets, under-under your sheets  \\r you can cry wolf  \\r but you know i ain't gonna be here tomorrow, oh no  \\r i ain't fucking with your dirty, dirty, dirty laundry  \\r dirty laundry, dirty-dirty laundry  \\r   \\r [pre-chorus]  \\r (ah) it's too late for apologies  \\r (ah) nothing you can offer me now  \\r (ah) i'm looking at you on your knees  \\r (ah) and i'm all listened out  \\r   \\r [chorus]  \\r call, call, call  \\r but i'm never gonna come  \\r baby cry, cry, cry  \\r you ain't fooling anyone  \\r you know i know that you know i know  \\r that you're a liar, a liar  \\r you can crawl, crawl, crawl  \\r you can beg and you can plead  \\r baby talk, talk, talk  \\r keep on lying through your teeth  \\r you know i know that you know i know  \\r that you're a liar, a liar  \\r   \\r [bridge]  \\r so here we go  \\r wo-wo-wo-wo-wo-wo  \\r wo-wo-wo-wo-wo-wo  \\r so here we go  \\r wo-wo-wo-wo-wo-wo  \\r here we go (you're a liar, liar)  \\r   \\r [chorus]  \\r you can call, call, call  \\r but i'm never gonna come  \\r baby cry, cry, cry  \\r you ain't fooling anyone  \\r you know i know that you know i know  \\r that you're a liar, a liar  \\r you can crawl, crawl, crawl  \\r you can beg and you can plead  \\r baby talk, talk, talk  \\r keep on lying through your teeth  \\r you know i know that you know i know  \\r that you're a liar, a liar  \\r   \\r [outro]  \\r so here we go  \\r wo-wo-wo-wo-wo-wo  \\r wo-wo-wo-wo-wo-wo  \\r wo-wo-wo-wo-wo-wo  \\r you're a liar, a liar\\r \\r \",\n          \"my friends, they all told me,  \\r man, there's something gonna change your life.  \\r my friends, they all told me,  \\r man, there's something gonna change your life.  \\r gotta have that brown sugar.  \\r man it's just gonna change my life.  \\r man, i gotta have that brown sugar.  \\r man, it's just gonna make me feel so right.  \\r   \\r there's something make me feel good,  \\r and it's gonna change my life.  \\r there's something make me feel good,  \\r and it's gonna change my life.  \\r i gotta have some of that brown sugar,  \\r gotta try it before i die.  \\r   \\r man it sure do save me  \\r when there's no place left for me.  \\r man it sure do save me  \\r when there's no place left for me.  \\r gotta have some of that brown sugar  \\r as long as that's gonna set me free.  \\r   \\r man, there's something make me feel good  \\r and it's gonna change my life.  \\r man, there's something make me feel good  \\r and it's gonna change my life.  \\r i gotta have some of that brown sugar,  \\r gotta try it before i die.\\r \\r \"\n        ],\n        \"semantic_type\": \"\",\n        \"description\": \"\"\n      }\n    }\n  ]\n}"
            }
          },
          "metadata": {},
          "execution_count": 57
        }
      ],
      "source": [
        "df.tail(5)"
      ]
    },
    {
      "cell_type": "code",
      "execution_count": 58,
      "metadata": {
        "id": "d5MSlNaNnDwf",
        "colab": {
          "base_uri": "https://localhost:8080/"
        },
        "outputId": "f07b5a73-7dab-4db7-fbb9-952fdf601512"
      },
      "outputs": [
        {
          "output_type": "stream",
          "name": "stderr",
          "text": [
            "[nltk_data] Downloading package punkt to /root/nltk_data...\n",
            "[nltk_data]   Package punkt is already up-to-date!\n"
          ]
        }
      ],
      "source": [
        "import nltk\n",
        "nltk.download('punkt')\n",
        "from nltk.stem.porter import PorterStemmer"
      ]
    },
    {
      "cell_type": "code",
      "execution_count": 59,
      "metadata": {
        "id": "SFDWVkxVnDuE"
      },
      "outputs": [],
      "source": [
        "stemmer = PorterStemmer()"
      ]
    },
    {
      "cell_type": "code",
      "execution_count": 60,
      "metadata": {
        "id": "52JwQtuCnDqu"
      },
      "outputs": [],
      "source": [
        "def token(txt):\n",
        "    token = nltk.word_tokenize(txt)\n",
        "    a = [stemmer.stem(w) for w in token]\n",
        "    return \" \".join(a)"
      ]
    },
    {
      "cell_type": "markdown",
      "metadata": {
        "id": "jAYJuBNycs0b"
      },
      "source": [
        "**STEMMING**"
      ]
    },
    {
      "cell_type": "code",
      "execution_count": 61,
      "metadata": {
        "id": "_s1RXSq0nDnp",
        "colab": {
          "base_uri": "https://localhost:8080/",
          "height": 36
        },
        "outputId": "62609593-7005-4298-fb20-2e3d05a8f493"
      },
      "outputs": [
        {
          "output_type": "execute_result",
          "data": {
            "text/plain": [
              "'thing thing call love love love love'"
            ],
            "application/vnd.google.colaboratory.intrinsic+json": {
              "type": "string"
            }
          },
          "metadata": {},
          "execution_count": 61
        }
      ],
      "source": [
        "token(\"Thing things Called Love loving loves loved\")"
      ]
    },
    {
      "cell_type": "markdown",
      "metadata": {
        "id": "aGkUxpFNd3yx"
      },
      "source": [
        "1. **Feature extraction** is the process of identifying and selecting the most important information or characteristics from a data set.\n",
        "2. It helps find the **crucial patterns** making computers better at predicting things by focusing on what matters in the data.\n",
        "\n",
        "#Common Feature Extraction Techniques:\n",
        "**Dimentionality Reduction** can be done in 2 ways:\n",
        "  1. **Feature Selection:** By only keeping the most relevant variables from the original dataset\n",
        "\n",
        "  2.**Feature Extraction:** By finding a smaller set of new variables, each being a combination of the input variables, containing basically the same information as the input variables.\n",
        "\n",
        "      i. PCA(Principal Component Analysis)\n",
        "\n",
        "      ii. LDA(Linear Discriminant Analysis)"
      ]
    },
    {
      "cell_type": "markdown",
      "metadata": {
        "id": "cNLqwE9IjEw8"
      },
      "source": [
        "**lambda** argument(s) : expression\n",
        "\n",
        "(lambda x : x * 2)(3)\n",
        "\n",
        "OUTPUT = 6"
      ]
    },
    {
      "cell_type": "code",
      "execution_count": 62,
      "metadata": {
        "id": "o1scHH46ijPB",
        "colab": {
          "base_uri": "https://localhost:8080/",
          "height": 458
        },
        "outputId": "416d7647-7dcb-4864-e678-646fd3d173b1"
      },
      "outputs": [
        {
          "output_type": "execute_result",
          "data": {
            "text/plain": [
              "0       we stand shoulder to shoulder we see eye to ey...\n",
              "1       i put my money in the suitcas and head for the...\n",
              "2       buddi , tip your bottl back climb aboard the b...\n",
              "3       [ vers 1 ] littl light shine littl light will ...\n",
              "4       we heard the firework . rush out to watch the ...\n",
              "                              ...                        \n",
              "4995    ( french carol , ca . 1553 ) bring a torch , j...\n",
              "4996    i 'm your maker mold your mind idea-cr bia fro...\n",
              "4997    my friend , they all told me , man , there 's ...\n",
              "4998    it 's a big big world it 's easi to get lost i...\n",
              "4999    [ vers 1 ] tall tale , such a damn shame hinds...\n",
              "Name: text, Length: 5000, dtype: object"
            ],
            "text/html": [
              "<div>\n",
              "<style scoped>\n",
              "    .dataframe tbody tr th:only-of-type {\n",
              "        vertical-align: middle;\n",
              "    }\n",
              "\n",
              "    .dataframe tbody tr th {\n",
              "        vertical-align: top;\n",
              "    }\n",
              "\n",
              "    .dataframe thead th {\n",
              "        text-align: right;\n",
              "    }\n",
              "</style>\n",
              "<table border=\"1\" class=\"dataframe\">\n",
              "  <thead>\n",
              "    <tr style=\"text-align: right;\">\n",
              "      <th></th>\n",
              "      <th>text</th>\n",
              "    </tr>\n",
              "  </thead>\n",
              "  <tbody>\n",
              "    <tr>\n",
              "      <th>0</th>\n",
              "      <td>we stand shoulder to shoulder we see eye to ey...</td>\n",
              "    </tr>\n",
              "    <tr>\n",
              "      <th>1</th>\n",
              "      <td>i put my money in the suitcas and head for the...</td>\n",
              "    </tr>\n",
              "    <tr>\n",
              "      <th>2</th>\n",
              "      <td>buddi , tip your bottl back climb aboard the b...</td>\n",
              "    </tr>\n",
              "    <tr>\n",
              "      <th>3</th>\n",
              "      <td>[ vers 1 ] littl light shine littl light will ...</td>\n",
              "    </tr>\n",
              "    <tr>\n",
              "      <th>4</th>\n",
              "      <td>we heard the firework . rush out to watch the ...</td>\n",
              "    </tr>\n",
              "    <tr>\n",
              "      <th>...</th>\n",
              "      <td>...</td>\n",
              "    </tr>\n",
              "    <tr>\n",
              "      <th>4995</th>\n",
              "      <td>( french carol , ca . 1553 ) bring a torch , j...</td>\n",
              "    </tr>\n",
              "    <tr>\n",
              "      <th>4996</th>\n",
              "      <td>i 'm your maker mold your mind idea-cr bia fro...</td>\n",
              "    </tr>\n",
              "    <tr>\n",
              "      <th>4997</th>\n",
              "      <td>my friend , they all told me , man , there 's ...</td>\n",
              "    </tr>\n",
              "    <tr>\n",
              "      <th>4998</th>\n",
              "      <td>it 's a big big world it 's easi to get lost i...</td>\n",
              "    </tr>\n",
              "    <tr>\n",
              "      <th>4999</th>\n",
              "      <td>[ vers 1 ] tall tale , such a damn shame hinds...</td>\n",
              "    </tr>\n",
              "  </tbody>\n",
              "</table>\n",
              "<p>5000 rows × 1 columns</p>\n",
              "</div><br><label><b>dtype:</b> object</label>"
            ]
          },
          "metadata": {},
          "execution_count": 62
        }
      ],
      "source": [
        "df['text'].apply(lambda x : token(x))"
      ]
    },
    {
      "cell_type": "code",
      "execution_count": 63,
      "metadata": {
        "id": "ol0EVTOZnDkj"
      },
      "outputs": [],
      "source": [
        "from sklearn.feature_extraction.text import TfidfVectorizer\n",
        "from sklearn.metrics.pairwise import cosine_similarity"
      ]
    },
    {
      "cell_type": "code",
      "execution_count": 64,
      "metadata": {
        "id": "0x2aMPVOnDao"
      },
      "outputs": [],
      "source": [
        "tfid = TfidfVectorizer(analyzer = 'word' , stop_words = 'english')"
      ]
    },
    {
      "cell_type": "markdown",
      "metadata": {
        "id": "u9X64dZtkR9l"
      },
      "source": [
        "**TF-IDF Vectorizer:**\n",
        "\n",
        "TF-IDF stands for \"Term Frequency-Inverse Document Frequency.\" It's a technique in text analysis that converts **text data** into **numerical features**.\n",
        "**TfidfVectorizer** class from the **sklearn.feature_extraction.text** module is used to create this vectorizer.\n",
        "\n",
        "* **analyzer='word':** This specifies that the text should be **analyzed at the word level**. Words will be treated as individual features, **ignoring** punctuation or special characters.\n",
        "\n",
        "* **stop_words='english':** This removes commonly occurring words (stop words) from the vocabulary. These words often don't carry much meaning and can add noise to the analysis."
      ]
    },
    {
      "cell_type": "code",
      "execution_count": 65,
      "metadata": {
        "id": "P96UHJ3J9oNy"
      },
      "outputs": [],
      "source": [
        "matrix = tfid.fit_transform(df['text'])"
      ]
    },
    {
      "cell_type": "code",
      "execution_count": 66,
      "metadata": {
        "id": "USkt5QaI9oKY"
      },
      "outputs": [],
      "source": [
        "similar = cosine_similarity(matrix)"
      ]
    },
    {
      "cell_type": "code",
      "execution_count": 67,
      "metadata": {
        "id": "4vVZQq2B9oHc",
        "colab": {
          "base_uri": "https://localhost:8080/"
        },
        "outputId": "373c7abc-f425-4f64-99a3-8a71cffe4450"
      },
      "outputs": [
        {
          "output_type": "execute_result",
          "data": {
            "text/plain": [
              "array([[1.        , 0.00336201, 0.01584151, ..., 0.01882708, 0.0090995 ,\n",
              "        0.        ],\n",
              "       [0.00336201, 1.        , 0.01192857, ..., 0.01002384, 0.01163575,\n",
              "        0.00124818],\n",
              "       [0.01584151, 0.01192857, 1.        , ..., 0.02160095, 0.01421176,\n",
              "        0.01521784],\n",
              "       ...,\n",
              "       [0.01882708, 0.01002384, 0.02160095, ..., 1.        , 0.04744161,\n",
              "        0.01404367],\n",
              "       [0.0090995 , 0.01163575, 0.01421176, ..., 0.04744161, 1.        ,\n",
              "        0.02677204],\n",
              "       [0.        , 0.00124818, 0.01521784, ..., 0.01404367, 0.02677204,\n",
              "        1.        ]])"
            ]
          },
          "metadata": {},
          "execution_count": 67
        }
      ],
      "source": [
        "cosine_similarity(matrix)"
      ]
    },
    {
      "cell_type": "code",
      "execution_count": 68,
      "metadata": {
        "id": "YurjXC1B9oEv",
        "colab": {
          "base_uri": "https://localhost:8080/"
        },
        "outputId": "83974391-7f91-47fa-d333-571b889c6a74"
      },
      "outputs": [
        {
          "output_type": "execute_result",
          "data": {
            "text/plain": [
              "array([0.00336201, 1.        , 0.01192857, ..., 0.01002384, 0.01163575,\n",
              "       0.00124818])"
            ]
          },
          "metadata": {},
          "execution_count": 68
        }
      ],
      "source": [
        "similar[1]"
      ]
    },
    {
      "cell_type": "code",
      "execution_count": 76,
      "metadata": {
        "id": "XrqXNday9oBn",
        "colab": {
          "base_uri": "https://localhost:8080/",
          "height": 81
        },
        "outputId": "c293274e-f4d3-4052-e929-162f83419539"
      },
      "outputs": [
        {
          "output_type": "execute_result",
          "data": {
            "text/plain": [
              "      artist         song                                               text\n",
              "4997  ZZ Top  Brown Sugar  my friends, they all told me,  \\r man, there's..."
            ],
            "text/html": [
              "\n",
              "  <div id=\"df-b757be70-4b46-4478-aeb5-39dc1f5a4179\" class=\"colab-df-container\">\n",
              "    <div>\n",
              "<style scoped>\n",
              "    .dataframe tbody tr th:only-of-type {\n",
              "        vertical-align: middle;\n",
              "    }\n",
              "\n",
              "    .dataframe tbody tr th {\n",
              "        vertical-align: top;\n",
              "    }\n",
              "\n",
              "    .dataframe thead th {\n",
              "        text-align: right;\n",
              "    }\n",
              "</style>\n",
              "<table border=\"1\" class=\"dataframe\">\n",
              "  <thead>\n",
              "    <tr style=\"text-align: right;\">\n",
              "      <th></th>\n",
              "      <th>artist</th>\n",
              "      <th>song</th>\n",
              "      <th>text</th>\n",
              "    </tr>\n",
              "  </thead>\n",
              "  <tbody>\n",
              "    <tr>\n",
              "      <th>4997</th>\n",
              "      <td>ZZ Top</td>\n",
              "      <td>Brown Sugar</td>\n",
              "      <td>my friends, they all told me,  \\r man, there's...</td>\n",
              "    </tr>\n",
              "  </tbody>\n",
              "</table>\n",
              "</div>\n",
              "    <div class=\"colab-df-buttons\">\n",
              "\n",
              "  <div class=\"colab-df-container\">\n",
              "    <button class=\"colab-df-convert\" onclick=\"convertToInteractive('df-b757be70-4b46-4478-aeb5-39dc1f5a4179')\"\n",
              "            title=\"Convert this dataframe to an interactive table.\"\n",
              "            style=\"display:none;\">\n",
              "\n",
              "  <svg xmlns=\"http://www.w3.org/2000/svg\" height=\"24px\" viewBox=\"0 -960 960 960\">\n",
              "    <path d=\"M120-120v-720h720v720H120Zm60-500h600v-160H180v160Zm220 220h160v-160H400v160Zm0 220h160v-160H400v160ZM180-400h160v-160H180v160Zm440 0h160v-160H620v160ZM180-180h160v-160H180v160Zm440 0h160v-160H620v160Z\"/>\n",
              "  </svg>\n",
              "    </button>\n",
              "\n",
              "  <style>\n",
              "    .colab-df-container {\n",
              "      display:flex;\n",
              "      gap: 12px;\n",
              "    }\n",
              "\n",
              "    .colab-df-convert {\n",
              "      background-color: #E8F0FE;\n",
              "      border: none;\n",
              "      border-radius: 50%;\n",
              "      cursor: pointer;\n",
              "      display: none;\n",
              "      fill: #1967D2;\n",
              "      height: 32px;\n",
              "      padding: 0 0 0 0;\n",
              "      width: 32px;\n",
              "    }\n",
              "\n",
              "    .colab-df-convert:hover {\n",
              "      background-color: #E2EBFA;\n",
              "      box-shadow: 0px 1px 2px rgba(60, 64, 67, 0.3), 0px 1px 3px 1px rgba(60, 64, 67, 0.15);\n",
              "      fill: #174EA6;\n",
              "    }\n",
              "\n",
              "    .colab-df-buttons div {\n",
              "      margin-bottom: 4px;\n",
              "    }\n",
              "\n",
              "    [theme=dark] .colab-df-convert {\n",
              "      background-color: #3B4455;\n",
              "      fill: #D2E3FC;\n",
              "    }\n",
              "\n",
              "    [theme=dark] .colab-df-convert:hover {\n",
              "      background-color: #434B5C;\n",
              "      box-shadow: 0px 1px 3px 1px rgba(0, 0, 0, 0.15);\n",
              "      filter: drop-shadow(0px 1px 2px rgba(0, 0, 0, 0.3));\n",
              "      fill: #FFFFFF;\n",
              "    }\n",
              "  </style>\n",
              "\n",
              "    <script>\n",
              "      const buttonEl =\n",
              "        document.querySelector('#df-b757be70-4b46-4478-aeb5-39dc1f5a4179 button.colab-df-convert');\n",
              "      buttonEl.style.display =\n",
              "        google.colab.kernel.accessAllowed ? 'block' : 'none';\n",
              "\n",
              "      async function convertToInteractive(key) {\n",
              "        const element = document.querySelector('#df-b757be70-4b46-4478-aeb5-39dc1f5a4179');\n",
              "        const dataTable =\n",
              "          await google.colab.kernel.invokeFunction('convertToInteractive',\n",
              "                                                    [key], {});\n",
              "        if (!dataTable) return;\n",
              "\n",
              "        const docLinkHtml = 'Like what you see? Visit the ' +\n",
              "          '<a target=\"_blank\" href=https://colab.research.google.com/notebooks/data_table.ipynb>data table notebook</a>'\n",
              "          + ' to learn more about interactive tables.';\n",
              "        element.innerHTML = '';\n",
              "        dataTable['output_type'] = 'display_data';\n",
              "        await google.colab.output.renderOutput(dataTable, element);\n",
              "        const docLink = document.createElement('div');\n",
              "        docLink.innerHTML = docLinkHtml;\n",
              "        element.appendChild(docLink);\n",
              "      }\n",
              "    </script>\n",
              "  </div>\n",
              "\n",
              "\n",
              "    </div>\n",
              "  </div>\n"
            ],
            "application/vnd.google.colaboratory.intrinsic+json": {
              "type": "dataframe",
              "summary": "{\n  \"name\": \"df[df['song'] == \\\"Brown Sugar\\\"]\",\n  \"rows\": 1,\n  \"fields\": [\n    {\n      \"column\": \"artist\",\n      \"properties\": {\n        \"dtype\": \"string\",\n        \"num_unique_values\": 1,\n        \"samples\": [\n          \"ZZ Top\"\n        ],\n        \"semantic_type\": \"\",\n        \"description\": \"\"\n      }\n    },\n    {\n      \"column\": \"song\",\n      \"properties\": {\n        \"dtype\": \"string\",\n        \"num_unique_values\": 1,\n        \"samples\": [\n          \"Brown Sugar\"\n        ],\n        \"semantic_type\": \"\",\n        \"description\": \"\"\n      }\n    },\n    {\n      \"column\": \"text\",\n      \"properties\": {\n        \"dtype\": \"string\",\n        \"num_unique_values\": 1,\n        \"samples\": [\n          \"my friends, they all told me,  \\r man, there's something gonna change your life.  \\r my friends, they all told me,  \\r man, there's something gonna change your life.  \\r gotta have that brown sugar.  \\r man it's just gonna change my life.  \\r man, i gotta have that brown sugar.  \\r man, it's just gonna make me feel so right.  \\r   \\r there's something make me feel good,  \\r and it's gonna change my life.  \\r there's something make me feel good,  \\r and it's gonna change my life.  \\r i gotta have some of that brown sugar,  \\r gotta try it before i die.  \\r   \\r man it sure do save me  \\r when there's no place left for me.  \\r man it sure do save me  \\r when there's no place left for me.  \\r gotta have some of that brown sugar  \\r as long as that's gonna set me free.  \\r   \\r man, there's something make me feel good  \\r and it's gonna change my life.  \\r man, there's something make me feel good  \\r and it's gonna change my life.  \\r i gotta have some of that brown sugar,  \\r gotta try it before i die.\\r \\r \"\n        ],\n        \"semantic_type\": \"\",\n        \"description\": \"\"\n      }\n    }\n  ]\n}"
            }
          },
          "metadata": {},
          "execution_count": 76
        }
      ],
      "source": [
        "df[df['song'] == \"Brown Sugar\"]"
      ]
    },
    {
      "cell_type": "markdown",
      "metadata": {
        "id": "hwHXW-5dm0dt"
      },
      "source": [
        "To get the index number:"
      ]
    },
    {
      "cell_type": "code",
      "execution_count": 77,
      "metadata": {
        "id": "lvkF3kLe9n_C",
        "colab": {
          "base_uri": "https://localhost:8080/"
        },
        "outputId": "4126d6d4-2b7a-45a6-c785-44cd226ad920"
      },
      "outputs": [
        {
          "output_type": "execute_result",
          "data": {
            "text/plain": [
              "4997"
            ]
          },
          "metadata": {},
          "execution_count": 77
        }
      ],
      "source": [
        "df[df['song'] == \"Brown Sugar\"].index[0]"
      ]
    },
    {
      "cell_type": "markdown",
      "metadata": {
        "id": "HN1RYTPNmU9p"
      },
      "source": [
        "# Recommender System"
      ]
    },
    {
      "cell_type": "markdown",
      "metadata": {
        "id": "g0X1jos5peR3"
      },
      "source": [
        "distance[1:21] will decide how many songs are going to be recommended."
      ]
    },
    {
      "cell_type": "code",
      "execution_count": 78,
      "metadata": {
        "id": "6pXXJospnkr1"
      },
      "outputs": [],
      "source": [
        "def recommender(song_name):\n",
        "  idx = df[df['song'] == song_name].index[0]\n",
        "  distance = sorted(list(enumerate(similar[idx])), reverse = True , key = lambda x:x[1])\n",
        "  song = []\n",
        "  for s_id in distance[1:21]:\n",
        "    song.append(df.iloc[s_id[0]].song)\n",
        "  return song"
      ]
    },
    {
      "cell_type": "code",
      "execution_count": 79,
      "metadata": {
        "id": "uX9XoYVlonBt",
        "colab": {
          "base_uri": "https://localhost:8080/",
          "height": 315
        },
        "outputId": "4cc8cf79-08a7-4fe4-fe56-bbdd1a186f6e"
      },
      "outputs": [
        {
          "output_type": "error",
          "ename": "IndexError",
          "evalue": "index 0 is out of bounds for axis 0 with size 0",
          "traceback": [
            "\u001b[0;31m---------------------------------------------------------------------------\u001b[0m",
            "\u001b[0;31mIndexError\u001b[0m                                Traceback (most recent call last)",
            "\u001b[0;32m<ipython-input-79-d9d68b555772>\u001b[0m in \u001b[0;36m<cell line: 1>\u001b[0;34m()\u001b[0m\n\u001b[0;32m----> 1\u001b[0;31m \u001b[0mrecommender\u001b[0m\u001b[0;34m(\u001b[0m\u001b[0;34m\"Low And Lonely\"\u001b[0m\u001b[0;34m)\u001b[0m\u001b[0;34m\u001b[0m\u001b[0;34m\u001b[0m\u001b[0m\n\u001b[0m",
            "\u001b[0;32m<ipython-input-78-3b9247ef6fc1>\u001b[0m in \u001b[0;36mrecommender\u001b[0;34m(song_name)\u001b[0m\n\u001b[1;32m      1\u001b[0m \u001b[0;32mdef\u001b[0m \u001b[0mrecommender\u001b[0m\u001b[0;34m(\u001b[0m\u001b[0msong_name\u001b[0m\u001b[0;34m)\u001b[0m\u001b[0;34m:\u001b[0m\u001b[0;34m\u001b[0m\u001b[0;34m\u001b[0m\u001b[0m\n\u001b[0;32m----> 2\u001b[0;31m   \u001b[0midx\u001b[0m \u001b[0;34m=\u001b[0m \u001b[0mdf\u001b[0m\u001b[0;34m[\u001b[0m\u001b[0mdf\u001b[0m\u001b[0;34m[\u001b[0m\u001b[0;34m'song'\u001b[0m\u001b[0;34m]\u001b[0m \u001b[0;34m==\u001b[0m \u001b[0msong_name\u001b[0m\u001b[0;34m]\u001b[0m\u001b[0;34m.\u001b[0m\u001b[0mindex\u001b[0m\u001b[0;34m[\u001b[0m\u001b[0;36m0\u001b[0m\u001b[0;34m]\u001b[0m\u001b[0;34m\u001b[0m\u001b[0;34m\u001b[0m\u001b[0m\n\u001b[0m\u001b[1;32m      3\u001b[0m   \u001b[0mdistance\u001b[0m \u001b[0;34m=\u001b[0m \u001b[0msorted\u001b[0m\u001b[0;34m(\u001b[0m\u001b[0mlist\u001b[0m\u001b[0;34m(\u001b[0m\u001b[0menumerate\u001b[0m\u001b[0;34m(\u001b[0m\u001b[0msimilar\u001b[0m\u001b[0;34m[\u001b[0m\u001b[0midx\u001b[0m\u001b[0;34m]\u001b[0m\u001b[0;34m)\u001b[0m\u001b[0;34m)\u001b[0m\u001b[0;34m,\u001b[0m \u001b[0mreverse\u001b[0m \u001b[0;34m=\u001b[0m \u001b[0;32mTrue\u001b[0m \u001b[0;34m,\u001b[0m \u001b[0mkey\u001b[0m \u001b[0;34m=\u001b[0m \u001b[0;32mlambda\u001b[0m \u001b[0mx\u001b[0m\u001b[0;34m:\u001b[0m\u001b[0mx\u001b[0m\u001b[0;34m[\u001b[0m\u001b[0;36m1\u001b[0m\u001b[0;34m]\u001b[0m\u001b[0;34m)\u001b[0m\u001b[0;34m\u001b[0m\u001b[0;34m\u001b[0m\u001b[0m\n\u001b[1;32m      4\u001b[0m   \u001b[0msong\u001b[0m \u001b[0;34m=\u001b[0m \u001b[0;34m[\u001b[0m\u001b[0;34m]\u001b[0m\u001b[0;34m\u001b[0m\u001b[0;34m\u001b[0m\u001b[0m\n\u001b[1;32m      5\u001b[0m   \u001b[0;32mfor\u001b[0m \u001b[0ms_id\u001b[0m \u001b[0;32min\u001b[0m \u001b[0mdistance\u001b[0m\u001b[0;34m[\u001b[0m\u001b[0;36m1\u001b[0m\u001b[0;34m:\u001b[0m\u001b[0;36m21\u001b[0m\u001b[0;34m]\u001b[0m\u001b[0;34m:\u001b[0m\u001b[0;34m\u001b[0m\u001b[0;34m\u001b[0m\u001b[0m\n",
            "\u001b[0;32m/usr/local/lib/python3.10/dist-packages/pandas/core/indexes/base.py\u001b[0m in \u001b[0;36m__getitem__\u001b[0;34m(self, key)\u001b[0m\n\u001b[1;32m   5364\u001b[0m             \u001b[0;31m# GH#44051 exclude bool, which would return a 2d ndarray\u001b[0m\u001b[0;34m\u001b[0m\u001b[0;34m\u001b[0m\u001b[0m\n\u001b[1;32m   5365\u001b[0m             \u001b[0mkey\u001b[0m \u001b[0;34m=\u001b[0m \u001b[0mcom\u001b[0m\u001b[0;34m.\u001b[0m\u001b[0mcast_scalar_indexer\u001b[0m\u001b[0;34m(\u001b[0m\u001b[0mkey\u001b[0m\u001b[0;34m)\u001b[0m\u001b[0;34m\u001b[0m\u001b[0;34m\u001b[0m\u001b[0m\n\u001b[0;32m-> 5366\u001b[0;31m             \u001b[0;32mreturn\u001b[0m \u001b[0mgetitem\u001b[0m\u001b[0;34m(\u001b[0m\u001b[0mkey\u001b[0m\u001b[0;34m)\u001b[0m\u001b[0;34m\u001b[0m\u001b[0;34m\u001b[0m\u001b[0m\n\u001b[0m\u001b[1;32m   5367\u001b[0m \u001b[0;34m\u001b[0m\u001b[0m\n\u001b[1;32m   5368\u001b[0m         \u001b[0;32mif\u001b[0m \u001b[0misinstance\u001b[0m\u001b[0;34m(\u001b[0m\u001b[0mkey\u001b[0m\u001b[0;34m,\u001b[0m \u001b[0mslice\u001b[0m\u001b[0;34m)\u001b[0m\u001b[0;34m:\u001b[0m\u001b[0;34m\u001b[0m\u001b[0;34m\u001b[0m\u001b[0m\n",
            "\u001b[0;31mIndexError\u001b[0m: index 0 is out of bounds for axis 0 with size 0"
          ]
        }
      ],
      "source": [
        "recommender(\"Low And Lonely\")"
      ]
    },
    {
      "cell_type": "markdown",
      "metadata": {
        "id": "nJts_Gdzpv64"
      },
      "source": [
        "# WEB APPLICATION:"
      ]
    },
    {
      "cell_type": "code",
      "execution_count": 80,
      "metadata": {
        "id": "gk8DTWNcondX"
      },
      "outputs": [],
      "source": [
        "import pickle"
      ]
    },
    {
      "cell_type": "code",
      "execution_count": 81,
      "metadata": {
        "id": "uN6_8PNponqK"
      },
      "outputs": [],
      "source": [
        "pickle.dump(similar,open(\"similarity\",\"wb\"))"
      ]
    },
    {
      "cell_type": "code",
      "execution_count": 82,
      "metadata": {
        "id": "B8VniIlTonv-"
      },
      "outputs": [],
      "source": [
        "pickle.dump(df,open(\"df\",\"wb\"))"
      ]
    },
    {
      "cell_type": "code",
      "execution_count": 83,
      "metadata": {
        "colab": {
          "base_uri": "https://localhost:8080/"
        },
        "id": "YAsG8ALxJThT",
        "outputId": "656b0c66-5228-46e3-ce21-bbba006249cd"
      },
      "outputs": [
        {
          "output_type": "stream",
          "name": "stdout",
          "text": [
            "Requirement already satisfied: Spotipy in /usr/local/lib/python3.10/dist-packages (2.24.0)\n",
            "Requirement already satisfied: redis>=3.5.3 in /usr/local/lib/python3.10/dist-packages (from Spotipy) (5.0.8)\n",
            "Requirement already satisfied: requests>=2.25.0 in /usr/local/lib/python3.10/dist-packages (from Spotipy) (2.32.3)\n",
            "Requirement already satisfied: urllib3>=1.26.0 in /usr/local/lib/python3.10/dist-packages (from Spotipy) (2.0.7)\n",
            "Requirement already satisfied: async-timeout>=4.0.3 in /usr/local/lib/python3.10/dist-packages (from redis>=3.5.3->Spotipy) (4.0.3)\n",
            "Requirement already satisfied: charset-normalizer<4,>=2 in /usr/local/lib/python3.10/dist-packages (from requests>=2.25.0->Spotipy) (3.3.2)\n",
            "Requirement already satisfied: idna<4,>=2.5 in /usr/local/lib/python3.10/dist-packages (from requests>=2.25.0->Spotipy) (3.8)\n",
            "Requirement already satisfied: certifi>=2017.4.17 in /usr/local/lib/python3.10/dist-packages (from requests>=2.25.0->Spotipy) (2024.8.30)\n"
          ]
        }
      ],
      "source": [
        "!pip install Spotipy"
      ]
    },
    {
      "cell_type": "markdown",
      "metadata": {
        "id": "qsqC_MeCJyhE"
      },
      "source": [
        "# Initialize the SPOTIFY client"
      ]
    },
    {
      "cell_type": "code",
      "execution_count": 84,
      "metadata": {
        "id": "tWeRLxPrF_yW"
      },
      "outputs": [],
      "source": [
        "!pip install -q streamlit"
      ]
    },
    {
      "cell_type": "code",
      "execution_count": 85,
      "metadata": {
        "id": "WXOiys5QooJD"
      },
      "outputs": [],
      "source": [
        "import pickle\n",
        "import streamlit as st\n",
        "import spotipy\n",
        "from spotipy.oauth2 import SpotifyClientCredentials\n",
        "\n",
        "CLIENT_ID = \"af24d58b9e9a42648927b18f60136ccb\"\n",
        "CLIENT_SECRET = \"b44fb0188e434576ac84221f94733c86\"\n",
        "\n",
        "# Initialize the Spotify client\n",
        "client_credentials_manager = SpotifyClientCredentials(client_id=CLIENT_ID, client_secret=CLIENT_SECRET)\n",
        "sp = spotipy.Spotify(client_credentials_manager=client_credentials_manager)\n",
        "\n",
        "def get_song_album_cover_url(song_name, artist_name):\n",
        "    search_query = f\"track:{song_name} artist:{artist_name}\"\n",
        "    results = sp.search(q=search_query, type=\"track\")\n",
        "\n",
        "    if results and results[\"tracks\"][\"items\"]:\n",
        "        track = results[\"tracks\"][\"items\"][0]\n",
        "        album_cover_url = track[\"album\"][\"images\"][0][\"url\"]\n",
        "        print(album_cover_url)\n",
        "        return album_cover_url\n",
        "    else:\n",
        "        return \"https://i.postimg.cc/0QNxYz4V/social.png\""
      ]
    },
    {
      "cell_type": "code",
      "execution_count": 86,
      "metadata": {
        "id": "1S8I45HAN6Hl"
      },
      "outputs": [],
      "source": [
        "def recommend(song):\n",
        "    index = music[music['song'] == song].index[0]\n",
        "    distances = sorted(list(enumerate(similarity[index])), reverse=True, key=lambda x: x[1])\n",
        "    recommended_music_names = []\n",
        "    recommended_music_posters = []\n",
        "    for i in distances[1:6]:\n",
        "        # fetch the movie poster\n",
        "        artist = music.iloc[i[0]].artist\n",
        "        print(artist)\n",
        "        print(music.iloc[i[0]].song)\n",
        "        recommended_music_posters.append(get_song_album_cover_url(music.iloc[i[0]].song, artist))\n",
        "        recommended_music_names.append(music.iloc[i[0]].song)\n",
        "\n",
        "    return recommended_music_names,recommended_music_posters"
      ]
    },
    {
      "cell_type": "code",
      "execution_count": 87,
      "metadata": {
        "colab": {
          "base_uri": "https://localhost:8080/"
        },
        "id": "twhYayZ2N7Wf",
        "outputId": "73405e14-0abc-4af4-a7db-3c7a166afc6d"
      },
      "outputs": [
        {
          "output_type": "stream",
          "name": "stderr",
          "text": [
            "2024-09-14 18:09:47.591 Thread 'MainThread': missing ScriptRunContext! This warning can be ignored when running in bare mode.\n",
            "2024-09-14 18:09:47.593 Thread 'MainThread': missing ScriptRunContext! This warning can be ignored when running in bare mode.\n"
          ]
        }
      ],
      "source": [
        "st.header('Music Recommendation Systems')\n",
        "music = pickle.load(open('/content/df','rb'))\n",
        "similarity = pickle.load(open('/content/similarity','rb'))"
      ]
    },
    {
      "cell_type": "code",
      "execution_count": 88,
      "metadata": {
        "colab": {
          "base_uri": "https://localhost:8080/"
        },
        "id": "6bUShjiEQny5",
        "outputId": "f62aa39e-809a-4b37-881c-0fad06f8b434"
      },
      "outputs": [
        {
          "output_type": "stream",
          "name": "stderr",
          "text": [
            "2024-09-14 18:09:49.576 Thread 'MainThread': missing ScriptRunContext! This warning can be ignored when running in bare mode.\n",
            "2024-09-14 18:09:49.578 Thread 'MainThread': missing ScriptRunContext! This warning can be ignored when running in bare mode.\n",
            "2024-09-14 18:09:49.589 Thread 'MainThread': missing ScriptRunContext! This warning can be ignored when running in bare mode.\n",
            "2024-09-14 18:09:49.602 Thread 'MainThread': missing ScriptRunContext! This warning can be ignored when running in bare mode.\n",
            "2024-09-14 18:09:49.610 Thread 'MainThread': missing ScriptRunContext! This warning can be ignored when running in bare mode.\n",
            "2024-09-14 18:09:49.618 Thread 'MainThread': missing ScriptRunContext! This warning can be ignored when running in bare mode.\n",
            "2024-09-14 18:09:49.621 Thread 'MainThread': missing ScriptRunContext! This warning can be ignored when running in bare mode.\n",
            "2024-09-14 18:09:49.624 Thread 'MainThread': missing ScriptRunContext! This warning can be ignored when running in bare mode.\n",
            "2024-09-14 18:09:49.627 Thread 'MainThread': missing ScriptRunContext! This warning can be ignored when running in bare mode.\n"
          ]
        }
      ],
      "source": [
        "music_list = music['song'].values\n",
        "selected_movie = st.selectbox(\n",
        "    \"Type or select a song from the dropdown\",\n",
        "    music_list\n",
        ")\n",
        "\n",
        "if st.button('Show Recommendation'):\n",
        "    recommended_music_names,recommended_music_posters = recommend(selected_movie)\n",
        "    col1, col2, col3, col4, col5= st.columns(5)\n",
        "    with col1:\n",
        "        st.text(recommended_music_names[0])\n",
        "        st.image(recommended_music_posters[0])\n",
        "    with col2:\n",
        "        st.text(recommended_music_names[1])\n",
        "        st.image(recommended_music_posters[1])\n",
        "\n",
        "    with col3:\n",
        "        st.text(recommended_music_names[2])\n",
        "        st.image(recommended_music_posters[2])\n",
        "    with col4:\n",
        "        st.text(recommended_music_names[3])\n",
        "        st.image(recommended_music_posters[3])\n",
        "    with col5:\n",
        "        st.text(recommended_music_names[4])\n",
        "        st.image(recommended_music_posters[4])"
      ]
    },
    {
      "cell_type": "markdown",
      "source": [
        "Install Local Tunnel"
      ],
      "metadata": {
        "id": "FlyaAuRfPKFc"
      }
    },
    {
      "cell_type": "code",
      "source": [
        "!npm install localtunnel"
      ],
      "metadata": {
        "id": "AVZwlrpNPMa6",
        "colab": {
          "base_uri": "https://localhost:8080/"
        },
        "outputId": "52c3169a-09b4-4c2d-c97a-bfcc2adb0965"
      },
      "execution_count": 89,
      "outputs": [
        {
          "output_type": "stream",
          "name": "stdout",
          "text": [
            "\u001b[K\u001b[?25h\n",
            "up to date, audited 23 packages in 577ms\n",
            "\n",
            "3 packages are looking for funding\n",
            "  run `npm fund` for details\n",
            "\n",
            "2 \u001b[33m\u001b[1mmoderate\u001b[22m\u001b[39m severity vulnerabilities\n",
            "\n",
            "To address all issues (including breaking changes), run:\n",
            "  npm audit fix --force\n",
            "\n",
            "Run `npm audit` for details.\n"
          ]
        }
      ]
    },
    {
      "cell_type": "markdown",
      "source": [
        "Export the port 8501"
      ],
      "metadata": {
        "id": "fvFakBKFPb6d"
      }
    },
    {
      "cell_type": "code",
      "source": [
        "!npx localtunnel --port 8501"
      ],
      "metadata": {
        "id": "1DXf0dB1Pbdg",
        "colab": {
          "base_uri": "https://localhost:8080/"
        },
        "outputId": "2abf3282-7398-454e-a2ad-33f77352efa0"
      },
      "execution_count": 90,
      "outputs": [
        {
          "output_type": "stream",
          "name": "stdout",
          "text": [
            "your url is: https://cyan-keys-juggle.loca.lt\n",
            "^C\n"
          ]
        }
      ]
    },
    {
      "cell_type": "markdown",
      "metadata": {
        "id": "hF_P0AKN81W7"
      },
      "source": [
        "To run code on streamlit web page"
      ]
    },
    {
      "cell_type": "code",
      "execution_count": 91,
      "metadata": {
        "colab": {
          "base_uri": "https://localhost:8080/"
        },
        "id": "W7ajZEr98RrJ",
        "outputId": "6b561263-5cbe-4480-fbd2-e201fbbe880a"
      },
      "outputs": [
        {
          "output_type": "stream",
          "name": "stdout",
          "text": [
            "\n",
            "Collecting usage statistics. To deactivate, set browser.gatherUsageStats to false.\n",
            "\u001b[0m\n",
            "\u001b[0m\n",
            "\u001b[34m\u001b[1m  You can now view your Streamlit app in your browser.\u001b[0m\n",
            "\u001b[0m\n",
            "\u001b[34m  Local URL: \u001b[0m\u001b[1mhttp://localhost:8501\u001b[0m\n",
            "\u001b[34m  Network URL: \u001b[0m\u001b[1mhttp://172.28.0.12:8501\u001b[0m\n",
            "\u001b[34m  External URL: \u001b[0m\u001b[1mhttp://34.139.26.128:8501\u001b[0m\n",
            "\u001b[0m\n",
            "\u001b[34m  Stopping...\u001b[0m\n",
            "Traceback (most recent call last):\n",
            "  File \"/usr/local/bin/streamlit\", line 8, in <module>\n",
            "    sys.exit(main())\n",
            "  File \"/usr/local/lib/python3.10/dist-packages/click/core.py\", line 1157, in __call__\n",
            "    return self.main(*args, **kwargs)\n",
            "  File \"/usr/local/lib/python3.10/dist-packages/click/core.py\", line 1078, in main\n",
            "    rv = self.invoke(ctx)\n",
            "  File \"/usr/local/lib/python3.10/dist-packages/click/core.py\", line 1688, in invoke\n",
            "    return _process_result(sub_ctx.command.invoke(sub_ctx))\n",
            "  File \"/usr/local/lib/python3.10/dist-packages/click/core.py\", line 1434, in invoke\n",
            "    return ctx.invoke(self.callback, **ctx.params)\n",
            "  File \"/usr/local/lib/python3.10/dist-packages/click/core.py\", line 783, in invoke\n",
            "    return __callback(*args, **kwargs)\n",
            "  File \"/usr/local/lib/python3.10/dist-packages/streamlit/web/cli.py\", line 238, in main_run\n",
            "    _main_run(target, args, flag_options=kwargs)\n",
            "  File \"/usr/local/lib/python3.10/dist-packages/streamlit/web/cli.py\", line 274, in _main_run\n",
            "    bootstrap.run(file, is_hello, args, flag_options)\n",
            "  File \"/usr/local/lib/python3.10/dist-packages/streamlit/web/bootstrap.py\", line 326, in run\n",
            "    asyncio.run(run_server())\n",
            "  File \"/usr/lib/python3.10/asyncio/runners.py\", line 44, in run\n",
            "    return loop.run_until_complete(main)\n",
            "  File \"/usr/lib/python3.10/asyncio/base_events.py\", line 636, in run_until_complete\n",
            "    self.run_forever()\n",
            "  File \"/usr/lib/python3.10/asyncio/base_events.py\", line 603, in run_forever\n",
            "    self._run_once()\n",
            "  File \"/usr/lib/python3.10/asyncio/base_events.py\", line 1871, in _run_once\n",
            "    event_list = self._selector.select(timeout)\n",
            "  File \"/usr/lib/python3.10/selectors.py\", line 469, in select\n",
            "    fd_event_list = self._selector.poll(timeout, max_ev)\n",
            "  File \"/usr/local/lib/python3.10/dist-packages/streamlit/web/bootstrap.py\", line 44, in signal_handler\n",
            "    server.stop()\n",
            "  File \"/usr/local/lib/python3.10/dist-packages/streamlit/web/server/server.py\", line 404, in stop\n",
            "    cli_util.print_to_cli(\"  Stopping...\", fg=\"blue\")\n",
            "  File \"/usr/local/lib/python3.10/dist-packages/streamlit/cli_util.py\", line 29, in print_to_cli\n",
            "    click.secho(message, **kwargs)\n",
            "  File \"/usr/local/lib/python3.10/dist-packages/click/termui.py\", line 634, in secho\n",
            "    return echo(message, file=file, nl=nl, err=err, color=color)\n",
            "  File \"/usr/local/lib/python3.10/dist-packages/click/utils.py\", line 318, in echo\n",
            "    file.write(out)  # type: ignore\n",
            "  File \"/usr/local/lib/python3.10/dist-packages/streamlit/web/bootstrap.py\", line 44, in signal_handler\n",
            "    server.stop()\n",
            "  File \"/usr/local/lib/python3.10/dist-packages/streamlit/web/server/server.py\", line 404, in stop\n",
            "    cli_util.print_to_cli(\"  Stopping...\", fg=\"blue\")\n",
            "  File \"/usr/local/lib/python3.10/dist-packages/streamlit/cli_util.py\", line 29, in print_to_cli\n",
            "    click.secho(message, **kwargs)\n",
            "  File \"/usr/local/lib/python3.10/dist-packages/click/termui.py\", line 634, in secho\n",
            "    return echo(message, file=file, nl=nl, err=err, color=color)\n",
            "  File \"/usr/local/lib/python3.10/dist-packages/click/utils.py\", line 318, in echo\n",
            "    file.write(out)  # type: ignore\n",
            "RuntimeError: reentrant call inside <_io.BufferedWriter name='<stdout>'>\n"
          ]
        }
      ],
      "source": [
        "!streamlit run /usr/local/lib/python3.10/dist-packages/colab_kernel_launcher.py"
      ]
    }
  ],
  "metadata": {
    "colab": {
      "provenance": [],
      "authorship_tag": "ABX9TyMul/CH+nLlT7g7xM56Iqs9",
      "include_colab_link": true
    },
    "kernelspec": {
      "display_name": "Python 3",
      "name": "python3"
    },
    "language_info": {
      "name": "python"
    }
  },
  "nbformat": 4,
  "nbformat_minor": 0
}