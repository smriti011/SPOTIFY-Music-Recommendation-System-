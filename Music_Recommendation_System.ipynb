{
  "cells": [
    {
      "cell_type": "markdown",
      "metadata": {
        "id": "wgjxYYL0xacZ"
      },
      "source": [
        "**IMPORT LIBRARIES**"
      ]
    },
    {
      "cell_type": "code",
      "execution_count": null,
      "metadata": {
        "id": "4BkRcotTnAJQ"
      },
      "outputs": [],
      "source": [
        "import pandas as pd"
      ]
    },
    {
      "cell_type": "code",
      "execution_count": null,
      "metadata": {
        "id": "45gsR1StnES6"
      },
      "outputs": [],
      "source": [
        "df = pd.read_csv(\"/content/spotify_millsongdata.csv\",engine=\"python\",\n",
        "                 on_bad_lines='skip',\n",
        "                 encoding='utf-8')"
      ]
    },
    {
      "cell_type": "code",
      "execution_count": null,
      "metadata": {
        "colab": {
          "base_uri": "https://localhost:8080/"
        },
        "id": "rj4W7OSDnEPa",
        "outputId": "3ebe7ffe-7dce-45a1-9b93-df34793df5a7"
      },
      "outputs": [
        {
          "data": {
            "text/plain": [
              "(9894, 4)"
            ]
          },
          "execution_count": 7,
          "metadata": {},
          "output_type": "execute_result"
        }
      ],
      "source": [
        "df.shape"
      ]
    },
    {
      "cell_type": "code",
      "execution_count": null,
      "metadata": {
        "colab": {
          "base_uri": "https://localhost:8080/"
        },
        "id": "BMpqsnJDnEMm",
        "outputId": "1d5dbada-4539-4a1c-cdfb-9e14503ee1de"
      },
      "outputs": [
        {
          "data": {
            "text/plain": [
              "artist    0\n",
              "song      0\n",
              "link      0\n",
              "text      0\n",
              "dtype: int64"
            ]
          },
          "execution_count": 8,
          "metadata": {},
          "output_type": "execute_result"
        }
      ],
      "source": [
        "df.isnull().sum()"
      ]
    },
    {
      "cell_type": "code",
      "execution_count": null,
      "metadata": {
        "colab": {
          "base_uri": "https://localhost:8080/",
          "height": 206
        },
        "id": "UfOqH7h_nEKG",
        "outputId": "64cbb16c-4115-4c57-c645-f8440f7e9de1"
      },
      "outputs": [
        {
          "data": {
            "application/vnd.google.colaboratory.intrinsic+json": {
              "summary": "{\n  \"name\": \"df\",\n  \"rows\": 9894,\n  \"fields\": [\n    {\n      \"column\": \"artist\",\n      \"properties\": {\n        \"dtype\": \"category\",\n        \"num_unique_values\": 257,\n        \"samples\": [\n          \"Gary Valenciano\",\n          \"Guided By Voices\",\n          \"Dan Fogelberg\"\n        ],\n        \"semantic_type\": \"\",\n        \"description\": \"\"\n      }\n    },\n    {\n      \"column\": \"song\",\n      \"properties\": {\n        \"dtype\": \"string\",\n        \"num_unique_values\": 9045,\n        \"samples\": [\n          \"Could It Be\",\n          \"The Day Before You Came\",\n          \"Hang Up The Phone\"\n        ],\n        \"semantic_type\": \"\",\n        \"description\": \"\"\n      }\n    },\n    {\n      \"column\": \"link\",\n      \"properties\": {\n        \"dtype\": \"string\",\n        \"num_unique_values\": 9894,\n        \"samples\": [\n          \"/f/fun/some+nights_20989900.html\",\n          \"/b/black+sabbath/ear+in+the+wall_20594070.html\",\n          \"/c/carpenters/goodnight_20027781.html\"\n        ],\n        \"semantic_type\": \"\",\n        \"description\": \"\"\n      }\n    },\n    {\n      \"column\": \"text\",\n      \"properties\": {\n        \"dtype\": \"string\",\n        \"num_unique_values\": 9886,\n        \"samples\": [\n          \"I tried and tried, finally I realized  \\r\\nWhy she left this 3D world behind  \\r\\nGo!  \\r\\nShe got tired of the same old story  \\r\\nShe had a mind that would not quit  \\r\\nShe'd insist a plot must exist  \\r\\nWith an ending that she could not guess  \\r\\nShe tried hard to convince me  \\r\\nThen she took off like a bright idea  \\r\\nShe believed there just had to be  \\r\\nA movie that she'd never seen  \\r\\nI watched as her fingers drew  \\r\\nA perfect line in space  \\r\\nI watched as she looked on through  \\r\\nInto another place  \\r\\nShe found out what she'd been missing  \\r\\nShe decided she could change her luck  \\r\\nShe was right, life's not black and white  \\r\\nIt's something more than meets the eye  \\r\\nI watched as her fingers drew  \\r\\nA perfect line in space  \\r\\nI watched as she walked straight through  \\r\\nInto another place  \\r\\nShe parted with convention  \\r\\nNow she's living in the 4th dimension  \\r\\nWithout me  \\r\\nI watched as her fingers drew  \\r\\nA perfect line in space  \\r\\nI watched as she walked straight through  \\r\\nInto another place  \\r\\nI tried and tried and still I don't know why  \\r\\nShe left me no address or a way to guess  \\r\\nI tried and tried, finally I realized  \\r\\nWhy she left this 3D world behind  \\r\\nNow she's somewhere in the 4th dimension  \\r\\nShe's living in 4D  \\r\\nShe found herself a new direction there  \\r\\nShe's living without me  \\r\\nShe's living in 4D  \\r\\nShe's living without me  \\r\\nSomewhere in the 4th dimension  \\r\\nShe's living in 4D  \\r\\nShe found herself a new direction there  \\r\\nShe's living without me  \\r\\nShe's living in 4D  \\r\\nShe's living without me  \\r\\n\\r\\n\",\n          \"I'm not what you've sized me up to be inside your head  \\r\\nNo way you could ever see me how I really am  \\r\\nBe careful what you say  \\r\\nBecause some things never change  \\r\\nIt's such a waste of time, but it's so strange  \\r\\nYou're only right when something's wrong  \\r\\n  \\r\\nYou've tried to give me everything that I could never have  \\r\\nI thought that you were trying to improve upon yourself  \\r\\nBe careful what you say  \\r\\nBecause some things never change  \\r\\nIt's such a waste of time, but it's so strange  \\r\\nYou're only right when something's wrong  \\r\\n  \\r\\nAre you ready to do something about it?  \\r\\nOr is it already too late?  \\r\\nI've given up everything  \\r\\nIt hasn't changed a single thing  \\r\\nAre you ready to do something about it?  \\r\\nOr will you take the easy way?  \\r\\nI can already see you start to disappear  \\r\\nThe take-away\\r\\n\\r\\n\",\n          \"Hey! Ev'rybody, let's get it on  \\r\\nYou got one more chance 'fore the lights come on  \\r\\nDon't let nobody turn you 'round. go 'head on  \\r\\nDo your thing, come on, get down!  \\r\\nI want to know, can you hear me ? Does it sound alright ?  \\r\\nAm I comin' through clearly, gettin' down tonight ?  \\r\\nWell, go on, do your thing, till I call for the lights  \\r\\nWell, is ev'rybody happy ?  \\r\\nI wanna hear you say \\\"Yes\\\"  \\r\\nI wanna know, are you happy ?  \\r\\nI wanna hear you confess  \\r\\nCome on, are you happy ?  \\r\\nLet me hear you say \\\"Yes\\\"  \\r\\nTurn the house lights on  \\r\\nLet the clock tick on  \\r\\nTurn the house lights on  \\r\\nWhile I'm playing my song  \\r\\nLet the night roll on  \\r\\nEv'rybody, rock on!  \\r\\nDo you want us to stop ?  \\r\\nDo you want us to play ?  \\r\\nDo you want us to go ?  \\r\\nDo you want us to stay ?  \\r\\nJust diggin' this boogie  \\r\\nAll night and all day  \\r\\nWell, hold your hand up higher  \\r\\nSo the drummer won't tire  \\r\\nHold it up a little higher  \\r\\nSet the building on fire  \\r\\nMy throat is gettin' drier  \\r\\nSo you gotta get higher  \\r\\n(Get on down there now and get it!)  \\r\\nWe gotta go now  \\r\\nYeah, we gotta split  \\r\\nGotta go get a little bit  \\r\\nNo, no, no, no, we gotta quit  \\r\\nI'll go sit by my old git in the pit  \\r\\nBye, bye, bye, this is it  \\r\\nNow you know we gotta go now  \\r\\nGot to leave the show now  \\r\\nThe police at the door now  \\r\\nGotta close this show now  \\r\\nWe really gon' go now  \\r\\nRaise your hand once more now  \\r\\nGet that hand up higher  \\r\\nWell, a little bit higher  \\r\\nI got to see your hand  \\r\\nYeah, a little bit higher  \\r\\nWell, a little bit higher  \\r\\nHigher, higher  \\r\\n(Get it up there now, get it up there)  \\r\\nHigher, higher, higher, higher, higher  \\r\\nHigher, higher, higher, higher, higher  \\r\\nHigher, bye, bye  \\r\\n  \\r\\n\\r\\n\"\n        ],\n        \"semantic_type\": \"\",\n        \"description\": \"\"\n      }\n    }\n  ]\n}",
              "type": "dataframe",
              "variable_name": "df"
            },
            "text/html": [
              "\n",
              "  <div id=\"df-1de602c6-9e3c-4925-96ff-86f11453c4ac\" class=\"colab-df-container\">\n",
              "    <div>\n",
              "<style scoped>\n",
              "    .dataframe tbody tr th:only-of-type {\n",
              "        vertical-align: middle;\n",
              "    }\n",
              "\n",
              "    .dataframe tbody tr th {\n",
              "        vertical-align: top;\n",
              "    }\n",
              "\n",
              "    .dataframe thead th {\n",
              "        text-align: right;\n",
              "    }\n",
              "</style>\n",
              "<table border=\"1\" class=\"dataframe\">\n",
              "  <thead>\n",
              "    <tr style=\"text-align: right;\">\n",
              "      <th></th>\n",
              "      <th>artist</th>\n",
              "      <th>song</th>\n",
              "      <th>link</th>\n",
              "      <th>text</th>\n",
              "    </tr>\n",
              "  </thead>\n",
              "  <tbody>\n",
              "    <tr>\n",
              "      <th>0</th>\n",
              "      <td>ABBA</td>\n",
              "      <td>Ahe's My Kind Of Girl</td>\n",
              "      <td>/a/abba/ahes+my+kind+of+girl_20598417.html</td>\n",
              "      <td>Look at her face, it's a wonderful face  \\r\\nA...</td>\n",
              "    </tr>\n",
              "    <tr>\n",
              "      <th>1</th>\n",
              "      <td>ABBA</td>\n",
              "      <td>Andante, Andante</td>\n",
              "      <td>/a/abba/andante+andante_20002708.html</td>\n",
              "      <td>Take it easy with me, please  \\r\\nTouch me gen...</td>\n",
              "    </tr>\n",
              "    <tr>\n",
              "      <th>2</th>\n",
              "      <td>ABBA</td>\n",
              "      <td>As Good As New</td>\n",
              "      <td>/a/abba/as+good+as+new_20003033.html</td>\n",
              "      <td>I'll never know why I had to go  \\r\\nWhy I had...</td>\n",
              "    </tr>\n",
              "    <tr>\n",
              "      <th>3</th>\n",
              "      <td>ABBA</td>\n",
              "      <td>Bang</td>\n",
              "      <td>/a/abba/bang_20598415.html</td>\n",
              "      <td>Making somebody happy is a question of give an...</td>\n",
              "    </tr>\n",
              "    <tr>\n",
              "      <th>4</th>\n",
              "      <td>ABBA</td>\n",
              "      <td>Bang-A-Boomerang</td>\n",
              "      <td>/a/abba/bang+a+boomerang_20002668.html</td>\n",
              "      <td>Making somebody happy is a question of give an...</td>\n",
              "    </tr>\n",
              "  </tbody>\n",
              "</table>\n",
              "</div>\n",
              "    <div class=\"colab-df-buttons\">\n",
              "\n",
              "  <div class=\"colab-df-container\">\n",
              "    <button class=\"colab-df-convert\" onclick=\"convertToInteractive('df-1de602c6-9e3c-4925-96ff-86f11453c4ac')\"\n",
              "            title=\"Convert this dataframe to an interactive table.\"\n",
              "            style=\"display:none;\">\n",
              "\n",
              "  <svg xmlns=\"http://www.w3.org/2000/svg\" height=\"24px\" viewBox=\"0 -960 960 960\">\n",
              "    <path d=\"M120-120v-720h720v720H120Zm60-500h600v-160H180v160Zm220 220h160v-160H400v160Zm0 220h160v-160H400v160ZM180-400h160v-160H180v160Zm440 0h160v-160H620v160ZM180-180h160v-160H180v160Zm440 0h160v-160H620v160Z\"/>\n",
              "  </svg>\n",
              "    </button>\n",
              "\n",
              "  <style>\n",
              "    .colab-df-container {\n",
              "      display:flex;\n",
              "      gap: 12px;\n",
              "    }\n",
              "\n",
              "    .colab-df-convert {\n",
              "      background-color: #E8F0FE;\n",
              "      border: none;\n",
              "      border-radius: 50%;\n",
              "      cursor: pointer;\n",
              "      display: none;\n",
              "      fill: #1967D2;\n",
              "      height: 32px;\n",
              "      padding: 0 0 0 0;\n",
              "      width: 32px;\n",
              "    }\n",
              "\n",
              "    .colab-df-convert:hover {\n",
              "      background-color: #E2EBFA;\n",
              "      box-shadow: 0px 1px 2px rgba(60, 64, 67, 0.3), 0px 1px 3px 1px rgba(60, 64, 67, 0.15);\n",
              "      fill: #174EA6;\n",
              "    }\n",
              "\n",
              "    .colab-df-buttons div {\n",
              "      margin-bottom: 4px;\n",
              "    }\n",
              "\n",
              "    [theme=dark] .colab-df-convert {\n",
              "      background-color: #3B4455;\n",
              "      fill: #D2E3FC;\n",
              "    }\n",
              "\n",
              "    [theme=dark] .colab-df-convert:hover {\n",
              "      background-color: #434B5C;\n",
              "      box-shadow: 0px 1px 3px 1px rgba(0, 0, 0, 0.15);\n",
              "      filter: drop-shadow(0px 1px 2px rgba(0, 0, 0, 0.3));\n",
              "      fill: #FFFFFF;\n",
              "    }\n",
              "  </style>\n",
              "\n",
              "    <script>\n",
              "      const buttonEl =\n",
              "        document.querySelector('#df-1de602c6-9e3c-4925-96ff-86f11453c4ac button.colab-df-convert');\n",
              "      buttonEl.style.display =\n",
              "        google.colab.kernel.accessAllowed ? 'block' : 'none';\n",
              "\n",
              "      async function convertToInteractive(key) {\n",
              "        const element = document.querySelector('#df-1de602c6-9e3c-4925-96ff-86f11453c4ac');\n",
              "        const dataTable =\n",
              "          await google.colab.kernel.invokeFunction('convertToInteractive',\n",
              "                                                    [key], {});\n",
              "        if (!dataTable) return;\n",
              "\n",
              "        const docLinkHtml = 'Like what you see? Visit the ' +\n",
              "          '<a target=\"_blank\" href=https://colab.research.google.com/notebooks/data_table.ipynb>data table notebook</a>'\n",
              "          + ' to learn more about interactive tables.';\n",
              "        element.innerHTML = '';\n",
              "        dataTable['output_type'] = 'display_data';\n",
              "        await google.colab.output.renderOutput(dataTable, element);\n",
              "        const docLink = document.createElement('div');\n",
              "        docLink.innerHTML = docLinkHtml;\n",
              "        element.appendChild(docLink);\n",
              "      }\n",
              "    </script>\n",
              "  </div>\n",
              "\n",
              "\n",
              "<div id=\"df-9288f7d5-8005-4bf7-b324-39c58089c1b9\">\n",
              "  <button class=\"colab-df-quickchart\" onclick=\"quickchart('df-9288f7d5-8005-4bf7-b324-39c58089c1b9')\"\n",
              "            title=\"Suggest charts\"\n",
              "            style=\"display:none;\">\n",
              "\n",
              "<svg xmlns=\"http://www.w3.org/2000/svg\" height=\"24px\"viewBox=\"0 0 24 24\"\n",
              "     width=\"24px\">\n",
              "    <g>\n",
              "        <path d=\"M19 3H5c-1.1 0-2 .9-2 2v14c0 1.1.9 2 2 2h14c1.1 0 2-.9 2-2V5c0-1.1-.9-2-2-2zM9 17H7v-7h2v7zm4 0h-2V7h2v10zm4 0h-2v-4h2v4z\"/>\n",
              "    </g>\n",
              "</svg>\n",
              "  </button>\n",
              "\n",
              "<style>\n",
              "  .colab-df-quickchart {\n",
              "      --bg-color: #E8F0FE;\n",
              "      --fill-color: #1967D2;\n",
              "      --hover-bg-color: #E2EBFA;\n",
              "      --hover-fill-color: #174EA6;\n",
              "      --disabled-fill-color: #AAA;\n",
              "      --disabled-bg-color: #DDD;\n",
              "  }\n",
              "\n",
              "  [theme=dark] .colab-df-quickchart {\n",
              "      --bg-color: #3B4455;\n",
              "      --fill-color: #D2E3FC;\n",
              "      --hover-bg-color: #434B5C;\n",
              "      --hover-fill-color: #FFFFFF;\n",
              "      --disabled-bg-color: #3B4455;\n",
              "      --disabled-fill-color: #666;\n",
              "  }\n",
              "\n",
              "  .colab-df-quickchart {\n",
              "    background-color: var(--bg-color);\n",
              "    border: none;\n",
              "    border-radius: 50%;\n",
              "    cursor: pointer;\n",
              "    display: none;\n",
              "    fill: var(--fill-color);\n",
              "    height: 32px;\n",
              "    padding: 0;\n",
              "    width: 32px;\n",
              "  }\n",
              "\n",
              "  .colab-df-quickchart:hover {\n",
              "    background-color: var(--hover-bg-color);\n",
              "    box-shadow: 0 1px 2px rgba(60, 64, 67, 0.3), 0 1px 3px 1px rgba(60, 64, 67, 0.15);\n",
              "    fill: var(--button-hover-fill-color);\n",
              "  }\n",
              "\n",
              "  .colab-df-quickchart-complete:disabled,\n",
              "  .colab-df-quickchart-complete:disabled:hover {\n",
              "    background-color: var(--disabled-bg-color);\n",
              "    fill: var(--disabled-fill-color);\n",
              "    box-shadow: none;\n",
              "  }\n",
              "\n",
              "  .colab-df-spinner {\n",
              "    border: 2px solid var(--fill-color);\n",
              "    border-color: transparent;\n",
              "    border-bottom-color: var(--fill-color);\n",
              "    animation:\n",
              "      spin 1s steps(1) infinite;\n",
              "  }\n",
              "\n",
              "  @keyframes spin {\n",
              "    0% {\n",
              "      border-color: transparent;\n",
              "      border-bottom-color: var(--fill-color);\n",
              "      border-left-color: var(--fill-color);\n",
              "    }\n",
              "    20% {\n",
              "      border-color: transparent;\n",
              "      border-left-color: var(--fill-color);\n",
              "      border-top-color: var(--fill-color);\n",
              "    }\n",
              "    30% {\n",
              "      border-color: transparent;\n",
              "      border-left-color: var(--fill-color);\n",
              "      border-top-color: var(--fill-color);\n",
              "      border-right-color: var(--fill-color);\n",
              "    }\n",
              "    40% {\n",
              "      border-color: transparent;\n",
              "      border-right-color: var(--fill-color);\n",
              "      border-top-color: var(--fill-color);\n",
              "    }\n",
              "    60% {\n",
              "      border-color: transparent;\n",
              "      border-right-color: var(--fill-color);\n",
              "    }\n",
              "    80% {\n",
              "      border-color: transparent;\n",
              "      border-right-color: var(--fill-color);\n",
              "      border-bottom-color: var(--fill-color);\n",
              "    }\n",
              "    90% {\n",
              "      border-color: transparent;\n",
              "      border-bottom-color: var(--fill-color);\n",
              "    }\n",
              "  }\n",
              "</style>\n",
              "\n",
              "  <script>\n",
              "    async function quickchart(key) {\n",
              "      const quickchartButtonEl =\n",
              "        document.querySelector('#' + key + ' button');\n",
              "      quickchartButtonEl.disabled = true;  // To prevent multiple clicks.\n",
              "      quickchartButtonEl.classList.add('colab-df-spinner');\n",
              "      try {\n",
              "        const charts = await google.colab.kernel.invokeFunction(\n",
              "            'suggestCharts', [key], {});\n",
              "      } catch (error) {\n",
              "        console.error('Error during call to suggestCharts:', error);\n",
              "      }\n",
              "      quickchartButtonEl.classList.remove('colab-df-spinner');\n",
              "      quickchartButtonEl.classList.add('colab-df-quickchart-complete');\n",
              "    }\n",
              "    (() => {\n",
              "      let quickchartButtonEl =\n",
              "        document.querySelector('#df-9288f7d5-8005-4bf7-b324-39c58089c1b9 button');\n",
              "      quickchartButtonEl.style.display =\n",
              "        google.colab.kernel.accessAllowed ? 'block' : 'none';\n",
              "    })();\n",
              "  </script>\n",
              "</div>\n",
              "\n",
              "    </div>\n",
              "  </div>\n"
            ],
            "text/plain": [
              "  artist                   song                                        link  \\\n",
              "0   ABBA  Ahe's My Kind Of Girl  /a/abba/ahes+my+kind+of+girl_20598417.html   \n",
              "1   ABBA       Andante, Andante       /a/abba/andante+andante_20002708.html   \n",
              "2   ABBA         As Good As New        /a/abba/as+good+as+new_20003033.html   \n",
              "3   ABBA                   Bang                  /a/abba/bang_20598415.html   \n",
              "4   ABBA       Bang-A-Boomerang      /a/abba/bang+a+boomerang_20002668.html   \n",
              "\n",
              "                                                text  \n",
              "0  Look at her face, it's a wonderful face  \\r\\nA...  \n",
              "1  Take it easy with me, please  \\r\\nTouch me gen...  \n",
              "2  I'll never know why I had to go  \\r\\nWhy I had...  \n",
              "3  Making somebody happy is a question of give an...  \n",
              "4  Making somebody happy is a question of give an...  "
            ]
          },
          "execution_count": 9,
          "metadata": {},
          "output_type": "execute_result"
        }
      ],
      "source": [
        "df.head(5)"
      ]
    },
    {
      "cell_type": "code",
      "execution_count": null,
      "metadata": {
        "colab": {
          "base_uri": "https://localhost:8080/",
          "height": 206
        },
        "id": "6-yA7CpXnEHP",
        "outputId": "b1422328-00c0-42a6-dd8c-53bf293e64f1"
      },
      "outputs": [
        {
          "data": {
            "application/vnd.google.colaboratory.intrinsic+json": {
              "summary": "{\n  \"name\": \"df\",\n  \"rows\": 5,\n  \"fields\": [\n    {\n      \"column\": \"artist\",\n      \"properties\": {\n        \"dtype\": \"category\",\n        \"num_unique_values\": 1,\n        \"samples\": [\n          \"Judas Priest\"\n        ],\n        \"semantic_type\": \"\",\n        \"description\": \"\"\n      }\n    },\n    {\n      \"column\": \"song\",\n      \"properties\": {\n        \"dtype\": \"string\",\n        \"num_unique_values\": 5,\n        \"samples\": [\n          \"Killing Machine\"\n        ],\n        \"semantic_type\": \"\",\n        \"description\": \"\"\n      }\n    },\n    {\n      \"column\": \"link\",\n      \"properties\": {\n        \"dtype\": \"string\",\n        \"num_unique_values\": 5,\n        \"samples\": [\n          \"/j/judas+priest/killing+machine_20076102.html\"\n        ],\n        \"semantic_type\": \"\",\n        \"description\": \"\"\n      }\n    },\n    {\n      \"column\": \"text\",\n      \"properties\": {\n        \"dtype\": \"string\",\n        \"num_unique_values\": 5,\n        \"samples\": [\n          \"I never give no answers, I never tell no lies  \\r\\nI never walk a straight line so I never get surprised  \\r\\nI don't ask no favors so I won't get abused  \\r\\nI learned to win when I was young  \\r\\nSo I'm never ever gonna lose  \\r\\n  \\r\\nThey pay me the money and I'll do the job  \\r\\nI got a contract on you  \\r\\nI got a contract, on you  \\r\\n  \\r\\nI never ask no questions, I never speak my mind  \\r\\nI always found that silence helps to keep me and my kind alive  \\r\\nI take care of business, It takes care of me  \\r\\nI look after myself and do it well  \\r\\n'cause somebody's always looking for me  \\r\\n  \\r\\nThey pay me the money and I'll do the job  \\r\\nI got a contract on you  \\r\\nI got a contract on you  \\r\\n  \\r\\nWhat manner of man am I?  \\r\\nA gun, lump sum and then I move on  \\r\\nWhat manner of man are you?  \\r\\nStab a friend's back to jump a queue  \\r\\n  \\r\\nI do what I do 'cause I can't do nothing better  \\r\\nYou do what you do, just defendin' yourself  \\r\\n  \\r\\n'cause you ain't got nothin' better to do  \\r\\n  \\r\\nI got no place, no name, I'm just a killing machine  \\r\\nI kept the population down, if you know what I mean  \\r\\nI never stop in one place, I move about the cities  \\r\\nGot expensive tastes, but I hasten to add that  \\r\\nI'm the best that there is  \\r\\n  \\r\\nThey pay me the money and I'll do the job  \\r\\nI got a contract on you  \\r\\nI got a contract on you  \\r\\n  \\r\\nI got a contract on you  \\r\\nI got a contract on you\\r\\n\\r\\n\"\n        ],\n        \"semantic_type\": \"\",\n        \"description\": \"\"\n      }\n    }\n  ]\n}",
              "type": "dataframe"
            },
            "text/html": [
              "\n",
              "  <div id=\"df-ec85d0ee-e79a-405e-b01e-443f2407fa09\" class=\"colab-df-container\">\n",
              "    <div>\n",
              "<style scoped>\n",
              "    .dataframe tbody tr th:only-of-type {\n",
              "        vertical-align: middle;\n",
              "    }\n",
              "\n",
              "    .dataframe tbody tr th {\n",
              "        vertical-align: top;\n",
              "    }\n",
              "\n",
              "    .dataframe thead th {\n",
              "        text-align: right;\n",
              "    }\n",
              "</style>\n",
              "<table border=\"1\" class=\"dataframe\">\n",
              "  <thead>\n",
              "    <tr style=\"text-align: right;\">\n",
              "      <th></th>\n",
              "      <th>artist</th>\n",
              "      <th>song</th>\n",
              "      <th>link</th>\n",
              "      <th>text</th>\n",
              "    </tr>\n",
              "  </thead>\n",
              "  <tbody>\n",
              "    <tr>\n",
              "      <th>9889</th>\n",
              "      <td>Judas Priest</td>\n",
              "      <td>Jugulator</td>\n",
              "      <td>/j/judas+priest/jugulator_20076095.html</td>\n",
              "      <td>Now let's see what you're made of  \\r\\nHe is c...</td>\n",
              "    </tr>\n",
              "    <tr>\n",
              "      <th>9890</th>\n",
              "      <td>Judas Priest</td>\n",
              "      <td>Killing Machine</td>\n",
              "      <td>/j/judas+priest/killing+machine_20076102.html</td>\n",
              "      <td>I never give no answers, I never tell no lies ...</td>\n",
              "    </tr>\n",
              "    <tr>\n",
              "      <th>9891</th>\n",
              "      <td>Judas Priest</td>\n",
              "      <td>Last Rose Of Summer</td>\n",
              "      <td>/j/judas+priest/last+rose+of+summer_20076231.html</td>\n",
              "      <td>Throughout the soft and timeless days of Augus...</td>\n",
              "    </tr>\n",
              "    <tr>\n",
              "      <th>9892</th>\n",
              "      <td>Judas Priest</td>\n",
              "      <td>Leather Rebel</td>\n",
              "      <td>/j/judas+priest/leather+rebel_20076144.html</td>\n",
              "      <td>Hero of the night  \\r\\nBlood and thunder  \\r\\n...</td>\n",
              "    </tr>\n",
              "    <tr>\n",
              "      <th>9893</th>\n",
              "      <td>Judas Priest</td>\n",
              "      <td>Lost And Found</td>\n",
              "      <td>/j/judas+priest/lost+and+found_10154541.html</td>\n",
              "      <td>I always used to be afraid  \\r\\nThat I was goi...</td>\n",
              "    </tr>\n",
              "  </tbody>\n",
              "</table>\n",
              "</div>\n",
              "    <div class=\"colab-df-buttons\">\n",
              "\n",
              "  <div class=\"colab-df-container\">\n",
              "    <button class=\"colab-df-convert\" onclick=\"convertToInteractive('df-ec85d0ee-e79a-405e-b01e-443f2407fa09')\"\n",
              "            title=\"Convert this dataframe to an interactive table.\"\n",
              "            style=\"display:none;\">\n",
              "\n",
              "  <svg xmlns=\"http://www.w3.org/2000/svg\" height=\"24px\" viewBox=\"0 -960 960 960\">\n",
              "    <path d=\"M120-120v-720h720v720H120Zm60-500h600v-160H180v160Zm220 220h160v-160H400v160Zm0 220h160v-160H400v160ZM180-400h160v-160H180v160Zm440 0h160v-160H620v160ZM180-180h160v-160H180v160Zm440 0h160v-160H620v160Z\"/>\n",
              "  </svg>\n",
              "    </button>\n",
              "\n",
              "  <style>\n",
              "    .colab-df-container {\n",
              "      display:flex;\n",
              "      gap: 12px;\n",
              "    }\n",
              "\n",
              "    .colab-df-convert {\n",
              "      background-color: #E8F0FE;\n",
              "      border: none;\n",
              "      border-radius: 50%;\n",
              "      cursor: pointer;\n",
              "      display: none;\n",
              "      fill: #1967D2;\n",
              "      height: 32px;\n",
              "      padding: 0 0 0 0;\n",
              "      width: 32px;\n",
              "    }\n",
              "\n",
              "    .colab-df-convert:hover {\n",
              "      background-color: #E2EBFA;\n",
              "      box-shadow: 0px 1px 2px rgba(60, 64, 67, 0.3), 0px 1px 3px 1px rgba(60, 64, 67, 0.15);\n",
              "      fill: #174EA6;\n",
              "    }\n",
              "\n",
              "    .colab-df-buttons div {\n",
              "      margin-bottom: 4px;\n",
              "    }\n",
              "\n",
              "    [theme=dark] .colab-df-convert {\n",
              "      background-color: #3B4455;\n",
              "      fill: #D2E3FC;\n",
              "    }\n",
              "\n",
              "    [theme=dark] .colab-df-convert:hover {\n",
              "      background-color: #434B5C;\n",
              "      box-shadow: 0px 1px 3px 1px rgba(0, 0, 0, 0.15);\n",
              "      filter: drop-shadow(0px 1px 2px rgba(0, 0, 0, 0.3));\n",
              "      fill: #FFFFFF;\n",
              "    }\n",
              "  </style>\n",
              "\n",
              "    <script>\n",
              "      const buttonEl =\n",
              "        document.querySelector('#df-ec85d0ee-e79a-405e-b01e-443f2407fa09 button.colab-df-convert');\n",
              "      buttonEl.style.display =\n",
              "        google.colab.kernel.accessAllowed ? 'block' : 'none';\n",
              "\n",
              "      async function convertToInteractive(key) {\n",
              "        const element = document.querySelector('#df-ec85d0ee-e79a-405e-b01e-443f2407fa09');\n",
              "        const dataTable =\n",
              "          await google.colab.kernel.invokeFunction('convertToInteractive',\n",
              "                                                    [key], {});\n",
              "        if (!dataTable) return;\n",
              "\n",
              "        const docLinkHtml = 'Like what you see? Visit the ' +\n",
              "          '<a target=\"_blank\" href=https://colab.research.google.com/notebooks/data_table.ipynb>data table notebook</a>'\n",
              "          + ' to learn more about interactive tables.';\n",
              "        element.innerHTML = '';\n",
              "        dataTable['output_type'] = 'display_data';\n",
              "        await google.colab.output.renderOutput(dataTable, element);\n",
              "        const docLink = document.createElement('div');\n",
              "        docLink.innerHTML = docLinkHtml;\n",
              "        element.appendChild(docLink);\n",
              "      }\n",
              "    </script>\n",
              "  </div>\n",
              "\n",
              "\n",
              "<div id=\"df-78e56e96-66e3-4240-af45-627d9e935454\">\n",
              "  <button class=\"colab-df-quickchart\" onclick=\"quickchart('df-78e56e96-66e3-4240-af45-627d9e935454')\"\n",
              "            title=\"Suggest charts\"\n",
              "            style=\"display:none;\">\n",
              "\n",
              "<svg xmlns=\"http://www.w3.org/2000/svg\" height=\"24px\"viewBox=\"0 0 24 24\"\n",
              "     width=\"24px\">\n",
              "    <g>\n",
              "        <path d=\"M19 3H5c-1.1 0-2 .9-2 2v14c0 1.1.9 2 2 2h14c1.1 0 2-.9 2-2V5c0-1.1-.9-2-2-2zM9 17H7v-7h2v7zm4 0h-2V7h2v10zm4 0h-2v-4h2v4z\"/>\n",
              "    </g>\n",
              "</svg>\n",
              "  </button>\n",
              "\n",
              "<style>\n",
              "  .colab-df-quickchart {\n",
              "      --bg-color: #E8F0FE;\n",
              "      --fill-color: #1967D2;\n",
              "      --hover-bg-color: #E2EBFA;\n",
              "      --hover-fill-color: #174EA6;\n",
              "      --disabled-fill-color: #AAA;\n",
              "      --disabled-bg-color: #DDD;\n",
              "  }\n",
              "\n",
              "  [theme=dark] .colab-df-quickchart {\n",
              "      --bg-color: #3B4455;\n",
              "      --fill-color: #D2E3FC;\n",
              "      --hover-bg-color: #434B5C;\n",
              "      --hover-fill-color: #FFFFFF;\n",
              "      --disabled-bg-color: #3B4455;\n",
              "      --disabled-fill-color: #666;\n",
              "  }\n",
              "\n",
              "  .colab-df-quickchart {\n",
              "    background-color: var(--bg-color);\n",
              "    border: none;\n",
              "    border-radius: 50%;\n",
              "    cursor: pointer;\n",
              "    display: none;\n",
              "    fill: var(--fill-color);\n",
              "    height: 32px;\n",
              "    padding: 0;\n",
              "    width: 32px;\n",
              "  }\n",
              "\n",
              "  .colab-df-quickchart:hover {\n",
              "    background-color: var(--hover-bg-color);\n",
              "    box-shadow: 0 1px 2px rgba(60, 64, 67, 0.3), 0 1px 3px 1px rgba(60, 64, 67, 0.15);\n",
              "    fill: var(--button-hover-fill-color);\n",
              "  }\n",
              "\n",
              "  .colab-df-quickchart-complete:disabled,\n",
              "  .colab-df-quickchart-complete:disabled:hover {\n",
              "    background-color: var(--disabled-bg-color);\n",
              "    fill: var(--disabled-fill-color);\n",
              "    box-shadow: none;\n",
              "  }\n",
              "\n",
              "  .colab-df-spinner {\n",
              "    border: 2px solid var(--fill-color);\n",
              "    border-color: transparent;\n",
              "    border-bottom-color: var(--fill-color);\n",
              "    animation:\n",
              "      spin 1s steps(1) infinite;\n",
              "  }\n",
              "\n",
              "  @keyframes spin {\n",
              "    0% {\n",
              "      border-color: transparent;\n",
              "      border-bottom-color: var(--fill-color);\n",
              "      border-left-color: var(--fill-color);\n",
              "    }\n",
              "    20% {\n",
              "      border-color: transparent;\n",
              "      border-left-color: var(--fill-color);\n",
              "      border-top-color: var(--fill-color);\n",
              "    }\n",
              "    30% {\n",
              "      border-color: transparent;\n",
              "      border-left-color: var(--fill-color);\n",
              "      border-top-color: var(--fill-color);\n",
              "      border-right-color: var(--fill-color);\n",
              "    }\n",
              "    40% {\n",
              "      border-color: transparent;\n",
              "      border-right-color: var(--fill-color);\n",
              "      border-top-color: var(--fill-color);\n",
              "    }\n",
              "    60% {\n",
              "      border-color: transparent;\n",
              "      border-right-color: var(--fill-color);\n",
              "    }\n",
              "    80% {\n",
              "      border-color: transparent;\n",
              "      border-right-color: var(--fill-color);\n",
              "      border-bottom-color: var(--fill-color);\n",
              "    }\n",
              "    90% {\n",
              "      border-color: transparent;\n",
              "      border-bottom-color: var(--fill-color);\n",
              "    }\n",
              "  }\n",
              "</style>\n",
              "\n",
              "  <script>\n",
              "    async function quickchart(key) {\n",
              "      const quickchartButtonEl =\n",
              "        document.querySelector('#' + key + ' button');\n",
              "      quickchartButtonEl.disabled = true;  // To prevent multiple clicks.\n",
              "      quickchartButtonEl.classList.add('colab-df-spinner');\n",
              "      try {\n",
              "        const charts = await google.colab.kernel.invokeFunction(\n",
              "            'suggestCharts', [key], {});\n",
              "      } catch (error) {\n",
              "        console.error('Error during call to suggestCharts:', error);\n",
              "      }\n",
              "      quickchartButtonEl.classList.remove('colab-df-spinner');\n",
              "      quickchartButtonEl.classList.add('colab-df-quickchart-complete');\n",
              "    }\n",
              "    (() => {\n",
              "      let quickchartButtonEl =\n",
              "        document.querySelector('#df-78e56e96-66e3-4240-af45-627d9e935454 button');\n",
              "      quickchartButtonEl.style.display =\n",
              "        google.colab.kernel.accessAllowed ? 'block' : 'none';\n",
              "    })();\n",
              "  </script>\n",
              "</div>\n",
              "\n",
              "    </div>\n",
              "  </div>\n"
            ],
            "text/plain": [
              "            artist                 song  \\\n",
              "9889  Judas Priest            Jugulator   \n",
              "9890  Judas Priest      Killing Machine   \n",
              "9891  Judas Priest  Last Rose Of Summer   \n",
              "9892  Judas Priest        Leather Rebel   \n",
              "9893  Judas Priest       Lost And Found   \n",
              "\n",
              "                                                   link  \\\n",
              "9889            /j/judas+priest/jugulator_20076095.html   \n",
              "9890      /j/judas+priest/killing+machine_20076102.html   \n",
              "9891  /j/judas+priest/last+rose+of+summer_20076231.html   \n",
              "9892        /j/judas+priest/leather+rebel_20076144.html   \n",
              "9893       /j/judas+priest/lost+and+found_10154541.html   \n",
              "\n",
              "                                                   text  \n",
              "9889  Now let's see what you're made of  \\r\\nHe is c...  \n",
              "9890  I never give no answers, I never tell no lies ...  \n",
              "9891  Throughout the soft and timeless days of Augus...  \n",
              "9892  Hero of the night  \\r\\nBlood and thunder  \\r\\n...  \n",
              "9893  I always used to be afraid  \\r\\nThat I was goi...  "
            ]
          },
          "execution_count": 10,
          "metadata": {},
          "output_type": "execute_result"
        }
      ],
      "source": [
        "df.tail(5)"
      ]
    },
    {
      "cell_type": "markdown",
      "metadata": {
        "id": "k_YhGlv6o5-B"
      },
      "source": [
        "1. We will do **FEATURE SELECTION** , so drop (LINK) Column from Dataset\n",
        "2. Code given below perform two opeartion on **PANDAS dataframe** named **df**:\n",
        "\n",
        "     **df.drop('column_name',axis=1)** : It removes column from dataset.\n",
        "\n",
        "     The **axis=1** argument specifies that the operation should be done on the columns (axis 0 refers to rows).\n",
        "\n",
        "* axis = 0 (ROW)\n",
        "* axis = 1 (COLUMN)\n",
        "3. **reset_index (drop=True)** : resets the dataframe's index\n",
        "4. **drop=True** argument removes the old index from the DataFrame after assigning the new one.\n",
        "\n",
        "\n"
      ]
    },
    {
      "cell_type": "code",
      "execution_count": null,
      "metadata": {
        "id": "z6BjM3CjnEEC"
      },
      "outputs": [],
      "source": [
        "df = df.sample(5000).drop('link',axis=1).reset_index(drop=True)"
      ]
    },
    {
      "cell_type": "code",
      "execution_count": null,
      "metadata": {
        "colab": {
          "base_uri": "https://localhost:8080/",
          "height": 363
        },
        "id": "R4IFKs1ZnEBt",
        "outputId": "12851432-b6af-4ce9-98f1-52ecaa9dd81f"
      },
      "outputs": [
        {
          "data": {
            "application/vnd.google.colaboratory.intrinsic+json": {
              "summary": "{\n  \"name\": \"df\",\n  \"rows\": 5000,\n  \"fields\": [\n    {\n      \"column\": \"artist\",\n      \"properties\": {\n        \"dtype\": \"category\",\n        \"num_unique_values\": 254,\n        \"samples\": [\n          \"Glee\",\n          \"Chris Rea\",\n          \"Elton John\"\n        ],\n        \"semantic_type\": \"\",\n        \"description\": \"\"\n      }\n    },\n    {\n      \"column\": \"song\",\n      \"properties\": {\n        \"dtype\": \"string\",\n        \"num_unique_values\": 4750,\n        \"samples\": [\n          \"All The Things You Are\",\n          \"I'm Just A Name\",\n          \"Angry Blues\"\n        ],\n        \"semantic_type\": \"\",\n        \"description\": \"\"\n      }\n    },\n    {\n      \"column\": \"text\",\n      \"properties\": {\n        \"dtype\": \"string\",\n        \"num_unique_values\": 4999,\n        \"samples\": [\n          \"God rest ye merry, gentlemen, let nothing you dismay  \\r\\nRemember Christ our Savior was born on Christmas Day  \\r\\nTo save us all from Satan's power when we were gone astray  \\r\\n  \\r\\n[Chorus:]  \\r\\nOh, tidings of comfort and joy, comfort and joy  \\r\\nOh tidings of comfort and joy  \\r\\n  \\r\\nFrom God our heavenly Father, a blessed angel came  \\r\\nAnd unto certain shepherds brought tidings of the same  \\r\\nHow that in Bethlehem was born the Son of God by name\\r\\n\\r\\n\",\n          \"[Chorus]  \\r\\nI've got you under my skin  \\r\\nI've got you deep in the heart of me  \\r\\nSo deep in my heart, that you're really a part of me  \\r\\nI've got you under my skin  \\r\\n  \\r\\nI've tried so not to give in  \\r\\nI've said to myself this affair never will go so well  \\r\\nBut why should I try to resist, when baby will I know than well  \\r\\nThat I've got you under my skin  \\r\\n  \\r\\nI'd sacrifice anything come what might  \\r\\nFor the sake of having you near  \\r\\nIn spite of a warning voice that comes in the night  \\r\\nAnd repeats, repeats in my ear  \\r\\n  \\r\\nDon't you know you fool, you never can win  \\r\\nUse your mentality, wake up to reality  \\r\\nBut each time I do, just the thought of you  \\r\\nMakes me stop before I begin  \\r\\nCause I've got you under my skin  \\r\\n  \\r\\n[Chorus]  \\r\\n  \\r\\nI've got you [Repeats]  \\r\\n  \\r\\n[Chorus]\\r\\n\\r\\n\",\n          \"Oh you bring hope to the hopeless  \\r\\nAnd light to those in the darkness  \\r\\nAnd death to life, now I'm alive  \\r\\n  \\r\\nOh you give peace to the restless  \\r\\nAnd joy to homes that are broken  \\r\\nI see you now, in you I'm found  \\r\\n  \\r\\nAnd you open the door for me  \\r\\nAnd you lay down your life to set me free  \\r\\nAll that I am will serve you lord  \\r\\n  \\r\\nOh you fill those who are empty  \\r\\nAnd rescue those in the valley  \\r\\nAnd through it all you calm my soul  \\r\\n  \\r\\nOh now you find me in my weakness  \\r\\nAnd heal the wounds of my heartache  \\r\\nAnd worship for you in spirit and truth  \\r\\n  \\r\\nAnd you open the door for me  \\r\\nAnd you lay down your life to set me free  \\r\\nAll that I am will serve you lord  \\r\\n  \\r\\nAnd you open my eyes to see  \\r\\nAll the wondering all of christ in me  \\r\\nJesus you're everything I need  \\r\\n  \\r\\n(Worship)  \\r\\n  \\r\\nAll honor  \\r\\nAll glory  \\r\\nAll praise to you (repeat)  \\r\\n  \\r\\nAnd you open the door for me  \\r\\nAnd you lay down your life to set me free  \\r\\nAll that I am will serve you lord  \\r\\n  \\r\\nAnd you open my eyes to see  \\r\\nAll the wondering all of christ in me  \\r\\nJesus you're everything I need\\r\\n\\r\\n\"\n        ],\n        \"semantic_type\": \"\",\n        \"description\": \"\"\n      }\n    }\n  ]\n}",
              "type": "dataframe",
              "variable_name": "df"
            },
            "text/html": [
              "\n",
              "  <div id=\"df-62e69e07-e070-439c-a84e-715334b503dc\" class=\"colab-df-container\">\n",
              "    <div>\n",
              "<style scoped>\n",
              "    .dataframe tbody tr th:only-of-type {\n",
              "        vertical-align: middle;\n",
              "    }\n",
              "\n",
              "    .dataframe tbody tr th {\n",
              "        vertical-align: top;\n",
              "    }\n",
              "\n",
              "    .dataframe thead th {\n",
              "        text-align: right;\n",
              "    }\n",
              "</style>\n",
              "<table border=\"1\" class=\"dataframe\">\n",
              "  <thead>\n",
              "    <tr style=\"text-align: right;\">\n",
              "      <th></th>\n",
              "      <th>artist</th>\n",
              "      <th>song</th>\n",
              "      <th>text</th>\n",
              "    </tr>\n",
              "  </thead>\n",
              "  <tbody>\n",
              "    <tr>\n",
              "      <th>0</th>\n",
              "      <td>Coldplay</td>\n",
              "      <td>Twisted Logic</td>\n",
              "      <td>Sunlight, opened up my eyes  \\r\\nTo see for th...</td>\n",
              "    </tr>\n",
              "    <tr>\n",
              "      <th>1</th>\n",
              "      <td>Joni Mitchell</td>\n",
              "      <td>Impossible Dreamer</td>\n",
              "      <td>The street was loud  \\r\\nFrom an angry crowd a...</td>\n",
              "    </tr>\n",
              "    <tr>\n",
              "      <th>2</th>\n",
              "      <td>Iggy Pop</td>\n",
              "      <td>Dancing With The Big Boys</td>\n",
              "      <td>Something's going on in society  \\r\\n(dancing ...</td>\n",
              "    </tr>\n",
              "    <tr>\n",
              "      <th>3</th>\n",
              "      <td>Harry Belafonte</td>\n",
              "      <td>We Are The Wave</td>\n",
              "      <td>The sea will wash against the rock  \\r\\nThe ro...</td>\n",
              "    </tr>\n",
              "    <tr>\n",
              "      <th>4</th>\n",
              "      <td>Donna Summer</td>\n",
              "      <td>Sing Along</td>\n",
              "      <td>I've an emptiness inside  \\r\\nThat can only be...</td>\n",
              "    </tr>\n",
              "    <tr>\n",
              "      <th>5</th>\n",
              "      <td>Celine Dion</td>\n",
              "      <td>At Seventeen</td>\n",
              "      <td>I learned the truth at seventeen  \\r\\nThat lov...</td>\n",
              "    </tr>\n",
              "    <tr>\n",
              "      <th>6</th>\n",
              "      <td>Chris Rea</td>\n",
              "      <td>Lucky Day</td>\n",
              "      <td>A little bit of daylight shine on your pillow ...</td>\n",
              "    </tr>\n",
              "    <tr>\n",
              "      <th>7</th>\n",
              "      <td>Cake</td>\n",
              "      <td>Shadow Stabbing</td>\n",
              "      <td>Adjectives on the typewriter  \\r\\nHe moves his...</td>\n",
              "    </tr>\n",
              "    <tr>\n",
              "      <th>8</th>\n",
              "      <td>Ed Sheeran</td>\n",
              "      <td>Even My Dad Does Sometimes</td>\n",
              "      <td>It's alright to cry even my dad does sometimes...</td>\n",
              "    </tr>\n",
              "    <tr>\n",
              "      <th>9</th>\n",
              "      <td>The Beatles</td>\n",
              "      <td>Blue Suede Shoes</td>\n",
              "      <td>You can knock me down,  \\r\\nSlap my face  \\r\\n...</td>\n",
              "    </tr>\n",
              "  </tbody>\n",
              "</table>\n",
              "</div>\n",
              "    <div class=\"colab-df-buttons\">\n",
              "\n",
              "  <div class=\"colab-df-container\">\n",
              "    <button class=\"colab-df-convert\" onclick=\"convertToInteractive('df-62e69e07-e070-439c-a84e-715334b503dc')\"\n",
              "            title=\"Convert this dataframe to an interactive table.\"\n",
              "            style=\"display:none;\">\n",
              "\n",
              "  <svg xmlns=\"http://www.w3.org/2000/svg\" height=\"24px\" viewBox=\"0 -960 960 960\">\n",
              "    <path d=\"M120-120v-720h720v720H120Zm60-500h600v-160H180v160Zm220 220h160v-160H400v160Zm0 220h160v-160H400v160ZM180-400h160v-160H180v160Zm440 0h160v-160H620v160ZM180-180h160v-160H180v160Zm440 0h160v-160H620v160Z\"/>\n",
              "  </svg>\n",
              "    </button>\n",
              "\n",
              "  <style>\n",
              "    .colab-df-container {\n",
              "      display:flex;\n",
              "      gap: 12px;\n",
              "    }\n",
              "\n",
              "    .colab-df-convert {\n",
              "      background-color: #E8F0FE;\n",
              "      border: none;\n",
              "      border-radius: 50%;\n",
              "      cursor: pointer;\n",
              "      display: none;\n",
              "      fill: #1967D2;\n",
              "      height: 32px;\n",
              "      padding: 0 0 0 0;\n",
              "      width: 32px;\n",
              "    }\n",
              "\n",
              "    .colab-df-convert:hover {\n",
              "      background-color: #E2EBFA;\n",
              "      box-shadow: 0px 1px 2px rgba(60, 64, 67, 0.3), 0px 1px 3px 1px rgba(60, 64, 67, 0.15);\n",
              "      fill: #174EA6;\n",
              "    }\n",
              "\n",
              "    .colab-df-buttons div {\n",
              "      margin-bottom: 4px;\n",
              "    }\n",
              "\n",
              "    [theme=dark] .colab-df-convert {\n",
              "      background-color: #3B4455;\n",
              "      fill: #D2E3FC;\n",
              "    }\n",
              "\n",
              "    [theme=dark] .colab-df-convert:hover {\n",
              "      background-color: #434B5C;\n",
              "      box-shadow: 0px 1px 3px 1px rgba(0, 0, 0, 0.15);\n",
              "      filter: drop-shadow(0px 1px 2px rgba(0, 0, 0, 0.3));\n",
              "      fill: #FFFFFF;\n",
              "    }\n",
              "  </style>\n",
              "\n",
              "    <script>\n",
              "      const buttonEl =\n",
              "        document.querySelector('#df-62e69e07-e070-439c-a84e-715334b503dc button.colab-df-convert');\n",
              "      buttonEl.style.display =\n",
              "        google.colab.kernel.accessAllowed ? 'block' : 'none';\n",
              "\n",
              "      async function convertToInteractive(key) {\n",
              "        const element = document.querySelector('#df-62e69e07-e070-439c-a84e-715334b503dc');\n",
              "        const dataTable =\n",
              "          await google.colab.kernel.invokeFunction('convertToInteractive',\n",
              "                                                    [key], {});\n",
              "        if (!dataTable) return;\n",
              "\n",
              "        const docLinkHtml = 'Like what you see? Visit the ' +\n",
              "          '<a target=\"_blank\" href=https://colab.research.google.com/notebooks/data_table.ipynb>data table notebook</a>'\n",
              "          + ' to learn more about interactive tables.';\n",
              "        element.innerHTML = '';\n",
              "        dataTable['output_type'] = 'display_data';\n",
              "        await google.colab.output.renderOutput(dataTable, element);\n",
              "        const docLink = document.createElement('div');\n",
              "        docLink.innerHTML = docLinkHtml;\n",
              "        element.appendChild(docLink);\n",
              "      }\n",
              "    </script>\n",
              "  </div>\n",
              "\n",
              "\n",
              "<div id=\"df-630bed61-d466-4284-884b-d31012c9b67a\">\n",
              "  <button class=\"colab-df-quickchart\" onclick=\"quickchart('df-630bed61-d466-4284-884b-d31012c9b67a')\"\n",
              "            title=\"Suggest charts\"\n",
              "            style=\"display:none;\">\n",
              "\n",
              "<svg xmlns=\"http://www.w3.org/2000/svg\" height=\"24px\"viewBox=\"0 0 24 24\"\n",
              "     width=\"24px\">\n",
              "    <g>\n",
              "        <path d=\"M19 3H5c-1.1 0-2 .9-2 2v14c0 1.1.9 2 2 2h14c1.1 0 2-.9 2-2V5c0-1.1-.9-2-2-2zM9 17H7v-7h2v7zm4 0h-2V7h2v10zm4 0h-2v-4h2v4z\"/>\n",
              "    </g>\n",
              "</svg>\n",
              "  </button>\n",
              "\n",
              "<style>\n",
              "  .colab-df-quickchart {\n",
              "      --bg-color: #E8F0FE;\n",
              "      --fill-color: #1967D2;\n",
              "      --hover-bg-color: #E2EBFA;\n",
              "      --hover-fill-color: #174EA6;\n",
              "      --disabled-fill-color: #AAA;\n",
              "      --disabled-bg-color: #DDD;\n",
              "  }\n",
              "\n",
              "  [theme=dark] .colab-df-quickchart {\n",
              "      --bg-color: #3B4455;\n",
              "      --fill-color: #D2E3FC;\n",
              "      --hover-bg-color: #434B5C;\n",
              "      --hover-fill-color: #FFFFFF;\n",
              "      --disabled-bg-color: #3B4455;\n",
              "      --disabled-fill-color: #666;\n",
              "  }\n",
              "\n",
              "  .colab-df-quickchart {\n",
              "    background-color: var(--bg-color);\n",
              "    border: none;\n",
              "    border-radius: 50%;\n",
              "    cursor: pointer;\n",
              "    display: none;\n",
              "    fill: var(--fill-color);\n",
              "    height: 32px;\n",
              "    padding: 0;\n",
              "    width: 32px;\n",
              "  }\n",
              "\n",
              "  .colab-df-quickchart:hover {\n",
              "    background-color: var(--hover-bg-color);\n",
              "    box-shadow: 0 1px 2px rgba(60, 64, 67, 0.3), 0 1px 3px 1px rgba(60, 64, 67, 0.15);\n",
              "    fill: var(--button-hover-fill-color);\n",
              "  }\n",
              "\n",
              "  .colab-df-quickchart-complete:disabled,\n",
              "  .colab-df-quickchart-complete:disabled:hover {\n",
              "    background-color: var(--disabled-bg-color);\n",
              "    fill: var(--disabled-fill-color);\n",
              "    box-shadow: none;\n",
              "  }\n",
              "\n",
              "  .colab-df-spinner {\n",
              "    border: 2px solid var(--fill-color);\n",
              "    border-color: transparent;\n",
              "    border-bottom-color: var(--fill-color);\n",
              "    animation:\n",
              "      spin 1s steps(1) infinite;\n",
              "  }\n",
              "\n",
              "  @keyframes spin {\n",
              "    0% {\n",
              "      border-color: transparent;\n",
              "      border-bottom-color: var(--fill-color);\n",
              "      border-left-color: var(--fill-color);\n",
              "    }\n",
              "    20% {\n",
              "      border-color: transparent;\n",
              "      border-left-color: var(--fill-color);\n",
              "      border-top-color: var(--fill-color);\n",
              "    }\n",
              "    30% {\n",
              "      border-color: transparent;\n",
              "      border-left-color: var(--fill-color);\n",
              "      border-top-color: var(--fill-color);\n",
              "      border-right-color: var(--fill-color);\n",
              "    }\n",
              "    40% {\n",
              "      border-color: transparent;\n",
              "      border-right-color: var(--fill-color);\n",
              "      border-top-color: var(--fill-color);\n",
              "    }\n",
              "    60% {\n",
              "      border-color: transparent;\n",
              "      border-right-color: var(--fill-color);\n",
              "    }\n",
              "    80% {\n",
              "      border-color: transparent;\n",
              "      border-right-color: var(--fill-color);\n",
              "      border-bottom-color: var(--fill-color);\n",
              "    }\n",
              "    90% {\n",
              "      border-color: transparent;\n",
              "      border-bottom-color: var(--fill-color);\n",
              "    }\n",
              "  }\n",
              "</style>\n",
              "\n",
              "  <script>\n",
              "    async function quickchart(key) {\n",
              "      const quickchartButtonEl =\n",
              "        document.querySelector('#' + key + ' button');\n",
              "      quickchartButtonEl.disabled = true;  // To prevent multiple clicks.\n",
              "      quickchartButtonEl.classList.add('colab-df-spinner');\n",
              "      try {\n",
              "        const charts = await google.colab.kernel.invokeFunction(\n",
              "            'suggestCharts', [key], {});\n",
              "      } catch (error) {\n",
              "        console.error('Error during call to suggestCharts:', error);\n",
              "      }\n",
              "      quickchartButtonEl.classList.remove('colab-df-spinner');\n",
              "      quickchartButtonEl.classList.add('colab-df-quickchart-complete');\n",
              "    }\n",
              "    (() => {\n",
              "      let quickchartButtonEl =\n",
              "        document.querySelector('#df-630bed61-d466-4284-884b-d31012c9b67a button');\n",
              "      quickchartButtonEl.style.display =\n",
              "        google.colab.kernel.accessAllowed ? 'block' : 'none';\n",
              "    })();\n",
              "  </script>\n",
              "</div>\n",
              "\n",
              "    </div>\n",
              "  </div>\n"
            ],
            "text/plain": [
              "            artist                        song  \\\n",
              "0         Coldplay               Twisted Logic   \n",
              "1    Joni Mitchell          Impossible Dreamer   \n",
              "2         Iggy Pop   Dancing With The Big Boys   \n",
              "3  Harry Belafonte             We Are The Wave   \n",
              "4     Donna Summer                  Sing Along   \n",
              "5      Celine Dion                At Seventeen   \n",
              "6        Chris Rea                   Lucky Day   \n",
              "7             Cake             Shadow Stabbing   \n",
              "8       Ed Sheeran  Even My Dad Does Sometimes   \n",
              "9      The Beatles            Blue Suede Shoes   \n",
              "\n",
              "                                                text  \n",
              "0  Sunlight, opened up my eyes  \\r\\nTo see for th...  \n",
              "1  The street was loud  \\r\\nFrom an angry crowd a...  \n",
              "2  Something's going on in society  \\r\\n(dancing ...  \n",
              "3  The sea will wash against the rock  \\r\\nThe ro...  \n",
              "4  I've an emptiness inside  \\r\\nThat can only be...  \n",
              "5  I learned the truth at seventeen  \\r\\nThat lov...  \n",
              "6  A little bit of daylight shine on your pillow ...  \n",
              "7  Adjectives on the typewriter  \\r\\nHe moves his...  \n",
              "8  It's alright to cry even my dad does sometimes...  \n",
              "9  You can knock me down,  \\r\\nSlap my face  \\r\\n...  "
            ]
          },
          "execution_count": 12,
          "metadata": {},
          "output_type": "execute_result"
        }
      ],
      "source": [
        "df.head(10)"
      ]
    },
    {
      "cell_type": "markdown",
      "metadata": {
        "id": "0U7FmeWGuZJN"
      },
      "source": [
        "To see full data of any BOX of table\n",
        "* **df[column name][index]**\n",
        "\n"
      ]
    },
    {
      "cell_type": "code",
      "execution_count": null,
      "metadata": {
        "colab": {
          "base_uri": "https://localhost:8080/",
          "height": 144
        },
        "id": "QulVxOldnD-k",
        "outputId": "be526882-b0c0-4833-f20e-78bfeb875903"
      },
      "outputs": [
        {
          "data": {
            "application/vnd.google.colaboratory.intrinsic+json": {
              "type": "string"
            },
            "text/plain": [
              "\"Sunlight, opened up my eyes  \\r\\nTo see for the first time  \\r\\nIt opened them up  \\r\\nAnd tonight, rivers will run dry  \\r\\nBut not for the first time  \\r\\nRivers will run  \\r\\n  \\r\\nHundreds of years in the future  \\r\\nThere could be computers  \\r\\nLooking for life on Earth  \\r\\nDon't fight for the wrong side  \\r\\nSay what you feel like  \\r\\nSay how you feel  \\r\\n  \\r\\nYou'll go backwards, but then  \\r\\nYou'll go forwards, again  \\r\\nYou'll go backwards, but then  \\r\\nYou'll go...  \\r\\n  \\r\\nCreated, then drilled and invaded  \\r\\nIf somebody made it  \\r\\nSomeone will mess it up  \\r\\nAnd you are not wrong to  \\r\\nAsk who does this belong to?  \\r\\nIt belongs to all of us  \\r\\n  \\r\\nYou'll go backwards, again  \\r\\nYou'll go forwards, again  \\r\\nYou'll go backwards, again  \\r\\nYou'll go forwards...  \\r\\n  \\r\\nYou'll go backwards, but then  \\r\\nYou'll go forwards, again  \\r\\nYou'll go backwards, but then  \\r\\nYou'll go forwards...\\r\\n\\r\\n\""
            ]
          },
          "execution_count": 13,
          "metadata": {},
          "output_type": "execute_result"
        }
      ],
      "source": [
        "df['text'][0]"
      ]
    },
    {
      "cell_type": "markdown",
      "metadata": {
        "id": "zTZvoofxwN24"
      },
      "source": [
        "**TEXT CLEANING / TEXT PRE-PROCESSING**\n",
        "\n",
        "1. \\r\\n : in the code needs to be cleaned\n",
        "2. Take random sample from dataset"
      ]
    },
    {
      "cell_type": "code",
      "execution_count": null,
      "metadata": {
        "colab": {
          "base_uri": "https://localhost:8080/"
        },
        "id": "f5mIRz_InD45",
        "outputId": "1b16d2d2-9f09-420c-d269-cf5992f4230e"
      },
      "outputs": [
        {
          "data": {
            "text/plain": [
              "(5000, 3)"
            ]
          },
          "execution_count": 14,
          "metadata": {},
          "output_type": "execute_result"
        }
      ],
      "source": [
        "df.shape"
      ]
    },
    {
      "cell_type": "markdown",
      "metadata": {
        "id": "-jlLqAVivFE6"
      },
      "source": [
        "**Caret ^** indicates **negation** (i.e., don't match these characters).\n",
        "\n",
        "r'^/w/s  =  remove everything except letter , digit & underscore"
      ]
    },
    {
      "cell_type": "markdown",
      "metadata": {
        "id": "d85AfPPJwv70"
      },
      "source": [
        "1. **df['text'].str.lower():**\n",
        "\n",
        "* .lower() method converts all characters in each string to lowercase.\n",
        "2. **.replace(r'^\\w\\s', '', regex=True):**\n",
        "\n",
        "* This applies the .replace() method to the lowercase strings.\n",
        "* **^**: The beginning of the string.\n",
        "* \\w: Any word character (a-z, A-Z, 0-9, or underscore).\n",
        "* \\s: Any whitespace character (space, tab, newline, etc.).\n",
        "* The second argument is an empty string '', indicating that the **matched pattern will be replaced with nothing.**\n",
        "* **regex=True** argument explicitly specifies that the first argument is a regular expression.\n",
        "3. **.replace(r'\\n',' ', regex=True):**\n",
        "\n",
        "* The pattern r'\\n' matches a **single newline character (\\n).**\n",
        "It is replaced with a **space** character ()."
      ]
    },
    {
      "cell_type": "code",
      "execution_count": null,
      "metadata": {
        "id": "k760YSmxnD2K"
      },
      "outputs": [],
      "source": [
        "df['text'] = df['text'].str.lower().replace(r'^\\w\\s','').replace(r'\\n',' ',regex=True)"
      ]
    },
    {
      "cell_type": "markdown",
      "metadata": {
        "id": "-p6fYgD8yQAz"
      },
      "source": [
        "**TEXTUAL DATA -> NUMERICAL VECTORS using:**\n",
        "1. N-Gram\n",
        "2. TF-IDF (Term Frequency - Inverse Document Frequency)\n",
        "3. BAG-of-WORDS\n",
        "\n",
        "**TEXT PROCESSING: enhance ability to represent & analyze textual data**\n",
        "1. WORD2VEC\n",
        "2. AVERAGE WORD2VEC"
      ]
    },
    {
      "cell_type": "markdown",
      "metadata": {
        "id": "DCMo0VYf8z_A"
      },
      "source": [
        "**COSINE SIMILARITY**:\n",
        "\n"
      ]
    },
    {
      "cell_type": "code",
      "execution_count": null,
      "metadata": {
        "colab": {
          "base_uri": "https://localhost:8080/",
          "height": 206
        },
        "id": "LB8JM_3WnDzU",
        "outputId": "511b85a7-dcdc-425a-e2a5-328f7334a710"
      },
      "outputs": [
        {
          "data": {
            "application/vnd.google.colaboratory.intrinsic+json": {
              "summary": "{\n  \"name\": \"df\",\n  \"rows\": 5,\n  \"fields\": [\n    {\n      \"column\": \"artist\",\n      \"properties\": {\n        \"dtype\": \"string\",\n        \"num_unique_values\": 5,\n        \"samples\": [\n          \"Chicago\",\n          \"Eddie Cochran\",\n          \"Hank Williams Jr.\"\n        ],\n        \"semantic_type\": \"\",\n        \"description\": \"\"\n      }\n    },\n    {\n      \"column\": \"song\",\n      \"properties\": {\n        \"dtype\": \"string\",\n        \"num_unique_values\": 5,\n        \"samples\": [\n          \"I Move On\",\n          \"Guilty Concience\",\n          \"I'd Rather Be Gone\"\n        ],\n        \"semantic_type\": \"\",\n        \"description\": \"\"\n      }\n    },\n    {\n      \"column\": \"text\",\n      \"properties\": {\n        \"dtype\": \"string\",\n        \"num_unique_values\": 5,\n        \"samples\": [\n          \"catherine zeta-jones: while truckin' down  \\r the road of life  \\r although all hope seems gone...  \\r i just move on  \\r   \\r renee zellweger: when i can't find a single star  \\r to hang my wish upon  \\r i just move on...  \\r i move on  \\r   \\r catherine zeta-jones: i run so fast!  \\r a shotgun blast  \\r can hurt me not one bit!  \\r   \\r renee zellweger: i'm on my toes! 'cause heaven knows  \\r a movin' target's hard to hit!  \\r   \\r both: so as we play  \\r an ex-ballet  \\r we're not the dyin' swan  \\r we just move on...  \\r we move on  \\r   \\r renee zellweger: just when it seems  \\r we're out of dreams  \\r and things have got us down...  \\r   \\r catherine zeta-jones: we don't despair!  \\r we don't go there!  \\r we hang our bonnets out of town!  \\r   \\r both: so there's no doubt  \\r we're well cut out  \\r to run life's marathon...  \\r we just move on...  \\r we just move on...  \\r   \\r so light of foot!  \\r we can't stay put!  \\r we just move on!  \\r   \\r yes, we move on...\\r \\r \",\n          \"guilty concience, don't you have a guilty concience  \\r honey when you hold someone new  \\r when you look into his eyes and tell him all those lies  \\r honey don't your concience bother you  \\r don't your concience bother you when your hear my name  \\r knowin' how you hurt your darlin'  \\r should fill your heart with shame  \\r guilty concience, guilty concience  \\r honey don't your concience bother you  \\r guilty concience, don't you have a guilty concience  \\r when you hold another in my place  \\r when you're walkin' by his side, dear are you satisfied  \\r or does a guilty concience bother you  \\r i still remember all the things you said that wasn't true  \\r and when you're holding someone else don't you remember too  \\r guilty concience, guilty concience  \\r honey don't your concience bother you  \\r   \\r guilty concience, don't you have a guilty concience  \\r honey when you hold someone new  \\r when you know that it is smart, you jump from heart to heart  \\r honey don't your concience bother you  \\r you told me once that you would love me till eternity  \\r and now you're tellin' someone else the same as you told me  \\r guilty concience, guilty concience  \\r don't a guilty concience bother you\\r \\r \",\n          \"i feel like a stranger in this home i built for you.  \\r and i can't understand this awful change you're goin' through.  \\r and lately i've been watchin' you grow colder everyday.  \\r and i'd rather be gone than in your way.  \\r   \\r i'd rather be gone than in your way.  \\r i'd rather see someone else here in my place.  \\r and if i decide on leavin' my world will end today.  \\r but i'd rather be gone than in your way.  \\r   \\r i'd rather be gone than in your way.  \\r i'd rather see someone else here in my place.  \\r and if i decide on leavin' my world will end today.  \\r but i'd rather be gone than in your way.  \\r i'd rather be gone than in your way.\\r \\r \"\n        ],\n        \"semantic_type\": \"\",\n        \"description\": \"\"\n      }\n    }\n  ]\n}",
              "type": "dataframe"
            },
            "text/html": [
              "\n",
              "  <div id=\"df-e64c357a-0a65-4de9-b4fd-a126746b4965\" class=\"colab-df-container\">\n",
              "    <div>\n",
              "<style scoped>\n",
              "    .dataframe tbody tr th:only-of-type {\n",
              "        vertical-align: middle;\n",
              "    }\n",
              "\n",
              "    .dataframe tbody tr th {\n",
              "        vertical-align: top;\n",
              "    }\n",
              "\n",
              "    .dataframe thead th {\n",
              "        text-align: right;\n",
              "    }\n",
              "</style>\n",
              "<table border=\"1\" class=\"dataframe\">\n",
              "  <thead>\n",
              "    <tr style=\"text-align: right;\">\n",
              "      <th></th>\n",
              "      <th>artist</th>\n",
              "      <th>song</th>\n",
              "      <th>text</th>\n",
              "    </tr>\n",
              "  </thead>\n",
              "  <tbody>\n",
              "    <tr>\n",
              "      <th>4995</th>\n",
              "      <td>Hank Williams</td>\n",
              "      <td>Low And Lonely</td>\n",
              "      <td>low and lonely, sad and blue  \\r thinking only...</td>\n",
              "    </tr>\n",
              "    <tr>\n",
              "      <th>4996</th>\n",
              "      <td>Chicago</td>\n",
              "      <td>I Move On</td>\n",
              "      <td>catherine zeta-jones: while truckin' down  \\r ...</td>\n",
              "    </tr>\n",
              "    <tr>\n",
              "      <th>4997</th>\n",
              "      <td>Hank Williams Jr.</td>\n",
              "      <td>I'd Rather Be Gone</td>\n",
              "      <td>i feel like a stranger in this home i built fo...</td>\n",
              "    </tr>\n",
              "    <tr>\n",
              "      <th>4998</th>\n",
              "      <td>Adele</td>\n",
              "      <td>You'll Never See Me Again</td>\n",
              "      <td>[verse 1]  \\r in the darkness of my heart is a...</td>\n",
              "    </tr>\n",
              "    <tr>\n",
              "      <th>4999</th>\n",
              "      <td>Eddie Cochran</td>\n",
              "      <td>Guilty Concience</td>\n",
              "      <td>guilty concience, don't you have a guilty conc...</td>\n",
              "    </tr>\n",
              "  </tbody>\n",
              "</table>\n",
              "</div>\n",
              "    <div class=\"colab-df-buttons\">\n",
              "\n",
              "  <div class=\"colab-df-container\">\n",
              "    <button class=\"colab-df-convert\" onclick=\"convertToInteractive('df-e64c357a-0a65-4de9-b4fd-a126746b4965')\"\n",
              "            title=\"Convert this dataframe to an interactive table.\"\n",
              "            style=\"display:none;\">\n",
              "\n",
              "  <svg xmlns=\"http://www.w3.org/2000/svg\" height=\"24px\" viewBox=\"0 -960 960 960\">\n",
              "    <path d=\"M120-120v-720h720v720H120Zm60-500h600v-160H180v160Zm220 220h160v-160H400v160Zm0 220h160v-160H400v160ZM180-400h160v-160H180v160Zm440 0h160v-160H620v160ZM180-180h160v-160H180v160Zm440 0h160v-160H620v160Z\"/>\n",
              "  </svg>\n",
              "    </button>\n",
              "\n",
              "  <style>\n",
              "    .colab-df-container {\n",
              "      display:flex;\n",
              "      gap: 12px;\n",
              "    }\n",
              "\n",
              "    .colab-df-convert {\n",
              "      background-color: #E8F0FE;\n",
              "      border: none;\n",
              "      border-radius: 50%;\n",
              "      cursor: pointer;\n",
              "      display: none;\n",
              "      fill: #1967D2;\n",
              "      height: 32px;\n",
              "      padding: 0 0 0 0;\n",
              "      width: 32px;\n",
              "    }\n",
              "\n",
              "    .colab-df-convert:hover {\n",
              "      background-color: #E2EBFA;\n",
              "      box-shadow: 0px 1px 2px rgba(60, 64, 67, 0.3), 0px 1px 3px 1px rgba(60, 64, 67, 0.15);\n",
              "      fill: #174EA6;\n",
              "    }\n",
              "\n",
              "    .colab-df-buttons div {\n",
              "      margin-bottom: 4px;\n",
              "    }\n",
              "\n",
              "    [theme=dark] .colab-df-convert {\n",
              "      background-color: #3B4455;\n",
              "      fill: #D2E3FC;\n",
              "    }\n",
              "\n",
              "    [theme=dark] .colab-df-convert:hover {\n",
              "      background-color: #434B5C;\n",
              "      box-shadow: 0px 1px 3px 1px rgba(0, 0, 0, 0.15);\n",
              "      filter: drop-shadow(0px 1px 2px rgba(0, 0, 0, 0.3));\n",
              "      fill: #FFFFFF;\n",
              "    }\n",
              "  </style>\n",
              "\n",
              "    <script>\n",
              "      const buttonEl =\n",
              "        document.querySelector('#df-e64c357a-0a65-4de9-b4fd-a126746b4965 button.colab-df-convert');\n",
              "      buttonEl.style.display =\n",
              "        google.colab.kernel.accessAllowed ? 'block' : 'none';\n",
              "\n",
              "      async function convertToInteractive(key) {\n",
              "        const element = document.querySelector('#df-e64c357a-0a65-4de9-b4fd-a126746b4965');\n",
              "        const dataTable =\n",
              "          await google.colab.kernel.invokeFunction('convertToInteractive',\n",
              "                                                    [key], {});\n",
              "        if (!dataTable) return;\n",
              "\n",
              "        const docLinkHtml = 'Like what you see? Visit the ' +\n",
              "          '<a target=\"_blank\" href=https://colab.research.google.com/notebooks/data_table.ipynb>data table notebook</a>'\n",
              "          + ' to learn more about interactive tables.';\n",
              "        element.innerHTML = '';\n",
              "        dataTable['output_type'] = 'display_data';\n",
              "        await google.colab.output.renderOutput(dataTable, element);\n",
              "        const docLink = document.createElement('div');\n",
              "        docLink.innerHTML = docLinkHtml;\n",
              "        element.appendChild(docLink);\n",
              "      }\n",
              "    </script>\n",
              "  </div>\n",
              "\n",
              "\n",
              "<div id=\"df-15422469-df50-40f5-86f4-46a5bfc7de28\">\n",
              "  <button class=\"colab-df-quickchart\" onclick=\"quickchart('df-15422469-df50-40f5-86f4-46a5bfc7de28')\"\n",
              "            title=\"Suggest charts\"\n",
              "            style=\"display:none;\">\n",
              "\n",
              "<svg xmlns=\"http://www.w3.org/2000/svg\" height=\"24px\"viewBox=\"0 0 24 24\"\n",
              "     width=\"24px\">\n",
              "    <g>\n",
              "        <path d=\"M19 3H5c-1.1 0-2 .9-2 2v14c0 1.1.9 2 2 2h14c1.1 0 2-.9 2-2V5c0-1.1-.9-2-2-2zM9 17H7v-7h2v7zm4 0h-2V7h2v10zm4 0h-2v-4h2v4z\"/>\n",
              "    </g>\n",
              "</svg>\n",
              "  </button>\n",
              "\n",
              "<style>\n",
              "  .colab-df-quickchart {\n",
              "      --bg-color: #E8F0FE;\n",
              "      --fill-color: #1967D2;\n",
              "      --hover-bg-color: #E2EBFA;\n",
              "      --hover-fill-color: #174EA6;\n",
              "      --disabled-fill-color: #AAA;\n",
              "      --disabled-bg-color: #DDD;\n",
              "  }\n",
              "\n",
              "  [theme=dark] .colab-df-quickchart {\n",
              "      --bg-color: #3B4455;\n",
              "      --fill-color: #D2E3FC;\n",
              "      --hover-bg-color: #434B5C;\n",
              "      --hover-fill-color: #FFFFFF;\n",
              "      --disabled-bg-color: #3B4455;\n",
              "      --disabled-fill-color: #666;\n",
              "  }\n",
              "\n",
              "  .colab-df-quickchart {\n",
              "    background-color: var(--bg-color);\n",
              "    border: none;\n",
              "    border-radius: 50%;\n",
              "    cursor: pointer;\n",
              "    display: none;\n",
              "    fill: var(--fill-color);\n",
              "    height: 32px;\n",
              "    padding: 0;\n",
              "    width: 32px;\n",
              "  }\n",
              "\n",
              "  .colab-df-quickchart:hover {\n",
              "    background-color: var(--hover-bg-color);\n",
              "    box-shadow: 0 1px 2px rgba(60, 64, 67, 0.3), 0 1px 3px 1px rgba(60, 64, 67, 0.15);\n",
              "    fill: var(--button-hover-fill-color);\n",
              "  }\n",
              "\n",
              "  .colab-df-quickchart-complete:disabled,\n",
              "  .colab-df-quickchart-complete:disabled:hover {\n",
              "    background-color: var(--disabled-bg-color);\n",
              "    fill: var(--disabled-fill-color);\n",
              "    box-shadow: none;\n",
              "  }\n",
              "\n",
              "  .colab-df-spinner {\n",
              "    border: 2px solid var(--fill-color);\n",
              "    border-color: transparent;\n",
              "    border-bottom-color: var(--fill-color);\n",
              "    animation:\n",
              "      spin 1s steps(1) infinite;\n",
              "  }\n",
              "\n",
              "  @keyframes spin {\n",
              "    0% {\n",
              "      border-color: transparent;\n",
              "      border-bottom-color: var(--fill-color);\n",
              "      border-left-color: var(--fill-color);\n",
              "    }\n",
              "    20% {\n",
              "      border-color: transparent;\n",
              "      border-left-color: var(--fill-color);\n",
              "      border-top-color: var(--fill-color);\n",
              "    }\n",
              "    30% {\n",
              "      border-color: transparent;\n",
              "      border-left-color: var(--fill-color);\n",
              "      border-top-color: var(--fill-color);\n",
              "      border-right-color: var(--fill-color);\n",
              "    }\n",
              "    40% {\n",
              "      border-color: transparent;\n",
              "      border-right-color: var(--fill-color);\n",
              "      border-top-color: var(--fill-color);\n",
              "    }\n",
              "    60% {\n",
              "      border-color: transparent;\n",
              "      border-right-color: var(--fill-color);\n",
              "    }\n",
              "    80% {\n",
              "      border-color: transparent;\n",
              "      border-right-color: var(--fill-color);\n",
              "      border-bottom-color: var(--fill-color);\n",
              "    }\n",
              "    90% {\n",
              "      border-color: transparent;\n",
              "      border-bottom-color: var(--fill-color);\n",
              "    }\n",
              "  }\n",
              "</style>\n",
              "\n",
              "  <script>\n",
              "    async function quickchart(key) {\n",
              "      const quickchartButtonEl =\n",
              "        document.querySelector('#' + key + ' button');\n",
              "      quickchartButtonEl.disabled = true;  // To prevent multiple clicks.\n",
              "      quickchartButtonEl.classList.add('colab-df-spinner');\n",
              "      try {\n",
              "        const charts = await google.colab.kernel.invokeFunction(\n",
              "            'suggestCharts', [key], {});\n",
              "      } catch (error) {\n",
              "        console.error('Error during call to suggestCharts:', error);\n",
              "      }\n",
              "      quickchartButtonEl.classList.remove('colab-df-spinner');\n",
              "      quickchartButtonEl.classList.add('colab-df-quickchart-complete');\n",
              "    }\n",
              "    (() => {\n",
              "      let quickchartButtonEl =\n",
              "        document.querySelector('#df-15422469-df50-40f5-86f4-46a5bfc7de28 button');\n",
              "      quickchartButtonEl.style.display =\n",
              "        google.colab.kernel.accessAllowed ? 'block' : 'none';\n",
              "    })();\n",
              "  </script>\n",
              "</div>\n",
              "\n",
              "    </div>\n",
              "  </div>\n"
            ],
            "text/plain": [
              "                 artist                       song  \\\n",
              "4995      Hank Williams             Low And Lonely   \n",
              "4996            Chicago                  I Move On   \n",
              "4997  Hank Williams Jr.         I'd Rather Be Gone   \n",
              "4998              Adele  You'll Never See Me Again   \n",
              "4999      Eddie Cochran           Guilty Concience   \n",
              "\n",
              "                                                   text  \n",
              "4995  low and lonely, sad and blue  \\r thinking only...  \n",
              "4996  catherine zeta-jones: while truckin' down  \\r ...  \n",
              "4997  i feel like a stranger in this home i built fo...  \n",
              "4998  [verse 1]  \\r in the darkness of my heart is a...  \n",
              "4999  guilty concience, don't you have a guilty conc...  "
            ]
          },
          "execution_count": 16,
          "metadata": {},
          "output_type": "execute_result"
        }
      ],
      "source": [
        "df.tail(5)"
      ]
    },
    {
      "cell_type": "code",
      "execution_count": null,
      "metadata": {
        "colab": {
          "base_uri": "https://localhost:8080/"
        },
        "id": "d5MSlNaNnDwf",
        "outputId": "9b7f37f8-0a13-429a-e3c1-b64eaa66f504"
      },
      "outputs": [
        {
          "name": "stderr",
          "output_type": "stream",
          "text": [
            "[nltk_data] Downloading package punkt to /root/nltk_data...\n",
            "[nltk_data]   Unzipping tokenizers/punkt.zip.\n"
          ]
        }
      ],
      "source": [
        "import nltk\n",
        "nltk.download('punkt')\n",
        "from nltk.stem.porter import PorterStemmer"
      ]
    },
    {
      "cell_type": "code",
      "execution_count": null,
      "metadata": {
        "id": "SFDWVkxVnDuE"
      },
      "outputs": [],
      "source": [
        "stemmer = PorterStemmer()"
      ]
    },
    {
      "cell_type": "code",
      "execution_count": null,
      "metadata": {
        "id": "52JwQtuCnDqu"
      },
      "outputs": [],
      "source": [
        "def token(txt):\n",
        "    token = nltk.word_tokenize(txt)\n",
        "    a = [stemmer.stem(w) for w in token]\n",
        "    return \" \".join(a)"
      ]
    },
    {
      "cell_type": "markdown",
      "metadata": {
        "id": "jAYJuBNycs0b"
      },
      "source": [
        "**STEMMING**"
      ]
    },
    {
      "cell_type": "code",
      "execution_count": null,
      "metadata": {
        "colab": {
          "base_uri": "https://localhost:8080/",
          "height": 36
        },
        "id": "_s1RXSq0nDnp",
        "outputId": "9191689d-c34f-4f5e-d965-5d9d22b5cbf6"
      },
      "outputs": [
        {
          "data": {
            "application/vnd.google.colaboratory.intrinsic+json": {
              "type": "string"
            },
            "text/plain": [
              "'thing thing call love love love love'"
            ]
          },
          "execution_count": 23,
          "metadata": {},
          "output_type": "execute_result"
        }
      ],
      "source": [
        "token(\"Thing things Called Love loving loves loved\")"
      ]
    },
    {
      "cell_type": "markdown",
      "metadata": {
        "id": "aGkUxpFNd3yx"
      },
      "source": [
        "1. **Feature extraction** is the process of identifying and selecting the most important information or characteristics from a data set.\n",
        "2. It helps find the **crucial patterns** making computers better at predicting things by focusing on what matters in the data.\n",
        "\n",
        "#Common Feature Extraction Techniques:\n",
        "**Dimentionality Reduction** can be done in 2 ways:\n",
        "  1. **Feature Selection:** By only keeping the most relevant variables from the original dataset\n",
        "\n",
        "  2.**Feature Extraction:** By finding a smaller set of new variables, each being a combination of the input variables, containing basically the same information as the input variables.\n",
        "\n",
        "      i. PCA(Principal Component Analysis)\n",
        "\n",
        "      ii. LDA(Linear Discriminant Analysis)"
      ]
    },
    {
      "cell_type": "markdown",
      "metadata": {
        "id": "cNLqwE9IjEw8"
      },
      "source": [
        "**lambda** argument(s) : expression\n",
        "\n",
        "(lambda x : x * 2)(3)\n",
        "\n",
        "OUTPUT = 6"
      ]
    },
    {
      "cell_type": "code",
      "execution_count": null,
      "metadata": {
        "colab": {
          "base_uri": "https://localhost:8080/"
        },
        "id": "o1scHH46ijPB",
        "outputId": "2d1a94ea-d85f-4fe5-ab14-c1cf3f4d33bb"
      },
      "outputs": [
        {
          "data": {
            "text/plain": [
              "0       sunlight , open up my eye to see for the first...\n",
              "1       the street wa loud from an angri crowd and i t...\n",
              "2       someth 's go on in societi ( danc with the big...\n",
              "3       the sea will wash against the rock the rock st...\n",
              "4       i 've an empti insid that can onli be describ ...\n",
              "                              ...                        \n",
              "4995    low and lone , sad and blue think onli of litt...\n",
              "4996    catherin zeta-jon : while truckin ' down the r...\n",
              "4997    i feel like a stranger in thi home i built for...\n",
              "4998    [ vers 1 ] in the dark of my heart is a shadow...\n",
              "4999    guilti concienc , do n't you have a guilti con...\n",
              "Name: text, Length: 5000, dtype: object"
            ]
          },
          "execution_count": 24,
          "metadata": {},
          "output_type": "execute_result"
        }
      ],
      "source": [
        "df['text'].apply(lambda x : token(x))"
      ]
    },
    {
      "cell_type": "code",
      "execution_count": null,
      "metadata": {
        "id": "ol0EVTOZnDkj"
      },
      "outputs": [],
      "source": [
        "from sklearn.feature_extraction.text import TfidfVectorizer\n",
        "from sklearn.metrics.pairwise import cosine_similarity"
      ]
    },
    {
      "cell_type": "code",
      "execution_count": null,
      "metadata": {
        "id": "0x2aMPVOnDao"
      },
      "outputs": [],
      "source": [
        "tfid = TfidfVectorizer(analyzer = 'word' , stop_words = 'english')"
      ]
    },
    {
      "cell_type": "markdown",
      "metadata": {
        "id": "u9X64dZtkR9l"
      },
      "source": [
        "**TF-IDF Vectorizer:**\n",
        "\n",
        "TF-IDF stands for \"Term Frequency-Inverse Document Frequency.\" It's a technique in text analysis that converts **text data** into **numerical features**.\n",
        "**TfidfVectorizer** class from the **sklearn.feature_extraction.text** module is used to create this vectorizer.\n",
        "\n",
        "* **analyzer='word':** This specifies that the text should be **analyzed at the word level**. Words will be treated as individual features, **ignoring** punctuation or special characters.\n",
        "\n",
        "* **stop_words='english':** This removes commonly occurring words (stop words) from the vocabulary. These words often don't carry much meaning and can add noise to the analysis."
      ]
    },
    {
      "cell_type": "code",
      "execution_count": null,
      "metadata": {
        "id": "P96UHJ3J9oNy"
      },
      "outputs": [],
      "source": [
        "matrix = tfid.fit_transform(df['text'])"
      ]
    },
    {
      "cell_type": "code",
      "execution_count": null,
      "metadata": {
        "id": "USkt5QaI9oKY"
      },
      "outputs": [],
      "source": [
        "similar = cosine_similarity(matrix)"
      ]
    },
    {
      "cell_type": "code",
      "execution_count": null,
      "metadata": {
        "colab": {
          "base_uri": "https://localhost:8080/"
        },
        "id": "4vVZQq2B9oHc",
        "outputId": "43f45c69-ed4b-4011-9b5a-b2dc38f04347"
      },
      "outputs": [
        {
          "data": {
            "text/plain": [
              "array([[1.        , 0.00261988, 0.00296101, ..., 0.00617266, 0.08160013,\n",
              "        0.00402596],\n",
              "       [0.00261988, 1.        , 0.00133109, ..., 0.00430846, 0.00256118,\n",
              "        0.00210225],\n",
              "       [0.00296101, 0.00133109, 1.        , ..., 0.        , 0.        ,\n",
              "        0.        ],\n",
              "       ...,\n",
              "       [0.00617266, 0.00430846, 0.        , ..., 1.        , 0.00457107,\n",
              "        0.00305082],\n",
              "       [0.08160013, 0.00256118, 0.        , ..., 0.00457107, 1.        ,\n",
              "        0.00734734],\n",
              "       [0.00402596, 0.00210225, 0.        , ..., 0.00305082, 0.00734734,\n",
              "        1.        ]])"
            ]
          },
          "execution_count": 29,
          "metadata": {},
          "output_type": "execute_result"
        }
      ],
      "source": [
        "cosine_similarity(matrix)"
      ]
    },
    {
      "cell_type": "code",
      "execution_count": null,
      "metadata": {
        "colab": {
          "base_uri": "https://localhost:8080/"
        },
        "id": "YurjXC1B9oEv",
        "outputId": "2020e78a-f657-42d5-9d66-b22df5a54f90"
      },
      "outputs": [
        {
          "data": {
            "text/plain": [
              "array([0.00261988, 1.        , 0.00133109, ..., 0.00430846, 0.00256118,\n",
              "       0.00210225])"
            ]
          },
          "execution_count": 30,
          "metadata": {},
          "output_type": "execute_result"
        }
      ],
      "source": [
        "similar[1]"
      ]
    },
    {
      "cell_type": "code",
      "execution_count": null,
      "metadata": {
        "colab": {
          "base_uri": "https://localhost:8080/",
          "height": 81
        },
        "id": "XrqXNday9oBn",
        "outputId": "ec82a59d-6866-4200-e75c-c8c864a0d429"
      },
      "outputs": [
        {
          "data": {
            "application/vnd.google.colaboratory.intrinsic+json": {
              "summary": "{\n  \"name\": \"df[df['song'] == \\\"Low And Lonely\\\"]\",\n  \"rows\": 1,\n  \"fields\": [\n    {\n      \"column\": \"artist\",\n      \"properties\": {\n        \"dtype\": \"string\",\n        \"num_unique_values\": 1,\n        \"samples\": [\n          \"Hank Williams\"\n        ],\n        \"semantic_type\": \"\",\n        \"description\": \"\"\n      }\n    },\n    {\n      \"column\": \"song\",\n      \"properties\": {\n        \"dtype\": \"string\",\n        \"num_unique_values\": 1,\n        \"samples\": [\n          \"Low And Lonely\"\n        ],\n        \"semantic_type\": \"\",\n        \"description\": \"\"\n      }\n    },\n    {\n      \"column\": \"text\",\n      \"properties\": {\n        \"dtype\": \"string\",\n        \"num_unique_values\": 1,\n        \"samples\": [\n          \"low and lonely, sad and blue  \\r thinking only of little you  \\r always trying to keep from crying  \\r i'm low and lonely over you  \\r   \\r do you miss me? say you do  \\r tell me darlin', tell me true?  \\r do you yearn dear, will you return dear?  \\r i'm low and lonely over you  \\r   \\r low and lonely, weary too  \\r you're the only true love i knew  \\r don't be long dear, you know it's wrong dear  \\r i'm low and lonely over you  \\r   \\r low and lonely, sad and blue  \\r thinking only of little you  \\r always trying to keep from crying  \\r i'm low and lonely over you\\r \\r \"\n        ],\n        \"semantic_type\": \"\",\n        \"description\": \"\"\n      }\n    }\n  ]\n}",
              "type": "dataframe"
            },
            "text/html": [
              "\n",
              "  <div id=\"df-1a326007-f7fe-4920-88b4-90bc7cc83fff\" class=\"colab-df-container\">\n",
              "    <div>\n",
              "<style scoped>\n",
              "    .dataframe tbody tr th:only-of-type {\n",
              "        vertical-align: middle;\n",
              "    }\n",
              "\n",
              "    .dataframe tbody tr th {\n",
              "        vertical-align: top;\n",
              "    }\n",
              "\n",
              "    .dataframe thead th {\n",
              "        text-align: right;\n",
              "    }\n",
              "</style>\n",
              "<table border=\"1\" class=\"dataframe\">\n",
              "  <thead>\n",
              "    <tr style=\"text-align: right;\">\n",
              "      <th></th>\n",
              "      <th>artist</th>\n",
              "      <th>song</th>\n",
              "      <th>text</th>\n",
              "    </tr>\n",
              "  </thead>\n",
              "  <tbody>\n",
              "    <tr>\n",
              "      <th>4995</th>\n",
              "      <td>Hank Williams</td>\n",
              "      <td>Low And Lonely</td>\n",
              "      <td>low and lonely, sad and blue  \\r thinking only...</td>\n",
              "    </tr>\n",
              "  </tbody>\n",
              "</table>\n",
              "</div>\n",
              "    <div class=\"colab-df-buttons\">\n",
              "\n",
              "  <div class=\"colab-df-container\">\n",
              "    <button class=\"colab-df-convert\" onclick=\"convertToInteractive('df-1a326007-f7fe-4920-88b4-90bc7cc83fff')\"\n",
              "            title=\"Convert this dataframe to an interactive table.\"\n",
              "            style=\"display:none;\">\n",
              "\n",
              "  <svg xmlns=\"http://www.w3.org/2000/svg\" height=\"24px\" viewBox=\"0 -960 960 960\">\n",
              "    <path d=\"M120-120v-720h720v720H120Zm60-500h600v-160H180v160Zm220 220h160v-160H400v160Zm0 220h160v-160H400v160ZM180-400h160v-160H180v160Zm440 0h160v-160H620v160ZM180-180h160v-160H180v160Zm440 0h160v-160H620v160Z\"/>\n",
              "  </svg>\n",
              "    </button>\n",
              "\n",
              "  <style>\n",
              "    .colab-df-container {\n",
              "      display:flex;\n",
              "      gap: 12px;\n",
              "    }\n",
              "\n",
              "    .colab-df-convert {\n",
              "      background-color: #E8F0FE;\n",
              "      border: none;\n",
              "      border-radius: 50%;\n",
              "      cursor: pointer;\n",
              "      display: none;\n",
              "      fill: #1967D2;\n",
              "      height: 32px;\n",
              "      padding: 0 0 0 0;\n",
              "      width: 32px;\n",
              "    }\n",
              "\n",
              "    .colab-df-convert:hover {\n",
              "      background-color: #E2EBFA;\n",
              "      box-shadow: 0px 1px 2px rgba(60, 64, 67, 0.3), 0px 1px 3px 1px rgba(60, 64, 67, 0.15);\n",
              "      fill: #174EA6;\n",
              "    }\n",
              "\n",
              "    .colab-df-buttons div {\n",
              "      margin-bottom: 4px;\n",
              "    }\n",
              "\n",
              "    [theme=dark] .colab-df-convert {\n",
              "      background-color: #3B4455;\n",
              "      fill: #D2E3FC;\n",
              "    }\n",
              "\n",
              "    [theme=dark] .colab-df-convert:hover {\n",
              "      background-color: #434B5C;\n",
              "      box-shadow: 0px 1px 3px 1px rgba(0, 0, 0, 0.15);\n",
              "      filter: drop-shadow(0px 1px 2px rgba(0, 0, 0, 0.3));\n",
              "      fill: #FFFFFF;\n",
              "    }\n",
              "  </style>\n",
              "\n",
              "    <script>\n",
              "      const buttonEl =\n",
              "        document.querySelector('#df-1a326007-f7fe-4920-88b4-90bc7cc83fff button.colab-df-convert');\n",
              "      buttonEl.style.display =\n",
              "        google.colab.kernel.accessAllowed ? 'block' : 'none';\n",
              "\n",
              "      async function convertToInteractive(key) {\n",
              "        const element = document.querySelector('#df-1a326007-f7fe-4920-88b4-90bc7cc83fff');\n",
              "        const dataTable =\n",
              "          await google.colab.kernel.invokeFunction('convertToInteractive',\n",
              "                                                    [key], {});\n",
              "        if (!dataTable) return;\n",
              "\n",
              "        const docLinkHtml = 'Like what you see? Visit the ' +\n",
              "          '<a target=\"_blank\" href=https://colab.research.google.com/notebooks/data_table.ipynb>data table notebook</a>'\n",
              "          + ' to learn more about interactive tables.';\n",
              "        element.innerHTML = '';\n",
              "        dataTable['output_type'] = 'display_data';\n",
              "        await google.colab.output.renderOutput(dataTable, element);\n",
              "        const docLink = document.createElement('div');\n",
              "        docLink.innerHTML = docLinkHtml;\n",
              "        element.appendChild(docLink);\n",
              "      }\n",
              "    </script>\n",
              "  </div>\n",
              "\n",
              "\n",
              "    </div>\n",
              "  </div>\n"
            ],
            "text/plain": [
              "             artist            song  \\\n",
              "4995  Hank Williams  Low And Lonely   \n",
              "\n",
              "                                                   text  \n",
              "4995  low and lonely, sad and blue  \\r thinking only...  "
            ]
          },
          "execution_count": 31,
          "metadata": {},
          "output_type": "execute_result"
        }
      ],
      "source": [
        "df[df['song'] == \"Low And Lonely\"]"
      ]
    },
    {
      "cell_type": "markdown",
      "metadata": {
        "id": "hwHXW-5dm0dt"
      },
      "source": [
        "To get the index number:"
      ]
    },
    {
      "cell_type": "code",
      "execution_count": null,
      "metadata": {
        "colab": {
          "base_uri": "https://localhost:8080/"
        },
        "id": "lvkF3kLe9n_C",
        "outputId": "14e3be80-6b10-4056-e18e-9d3d6e836183"
      },
      "outputs": [
        {
          "data": {
            "text/plain": [
              "4995"
            ]
          },
          "execution_count": 32,
          "metadata": {},
          "output_type": "execute_result"
        }
      ],
      "source": [
        "df[df['song'] == \"Low And Lonely\"].index[0]"
      ]
    },
    {
      "cell_type": "markdown",
      "metadata": {
        "id": "HN1RYTPNmU9p"
      },
      "source": [
        "# Recommender System"
      ]
    },
    {
      "cell_type": "markdown",
      "metadata": {
        "id": "g0X1jos5peR3"
      },
      "source": [
        "distance[1:21] will decide how many songs are going to be recommended."
      ]
    },
    {
      "cell_type": "code",
      "execution_count": null,
      "metadata": {
        "id": "6pXXJospnkr1"
      },
      "outputs": [],
      "source": [
        "def recommender(song_name):\n",
        "  idx = df[df['song'] == song_name].index[0]\n",
        "  distance = sorted(list(enumerate(similar[idx])), reverse = True , key = lambda x:x[1])\n",
        "  song = []\n",
        "  for s_id in distance[1:21]:\n",
        "    song.append(df.iloc[s_id[0]].song)\n",
        "  return song"
      ]
    },
    {
      "cell_type": "code",
      "execution_count": null,
      "metadata": {
        "colab": {
          "base_uri": "https://localhost:8080/"
        },
        "id": "uX9XoYVlonBt",
        "outputId": "84a624c9-5ef9-4711-c592-bdc146f8f4d0"
      },
      "outputs": [
        {
          "data": {
            "text/plain": [
              "['Lonely Is The Night',\n",
              " 'Lonely In Love',\n",
              " 'Never Be Lonely',\n",
              " 'Furthest Thing',\n",
              " 'Lonely Love',\n",
              " 'Wednesday Night Interlude',\n",
              " 'Low',\n",
              " \"Ma' Dear Ma' Dear\",\n",
              " 'Refrigerator Heaven',\n",
              " 'Go Your Own Way',\n",
              " 'Lonely Girl',\n",
              " \"Don't It Make You Lonely\",\n",
              " 'Ocean Deep',\n",
              " 'Dear God',\n",
              " 'A Woman Left Lonely',\n",
              " 'The Lonely',\n",
              " 'Lonely Road',\n",
              " 'A Man Without Love',\n",
              " 'All Out Of Love',\n",
              " 'For The Young Sophisticate']"
            ]
          },
          "execution_count": 34,
          "metadata": {},
          "output_type": "execute_result"
        }
      ],
      "source": [
        "recommender(\"Low And Lonely\")"
      ]
    },
    {
      "cell_type": "markdown",
      "metadata": {
        "id": "nJts_Gdzpv64"
      },
      "source": [
        "# WEB APPLICATION:"
      ]
    },
    {
      "cell_type": "code",
      "execution_count": null,
      "metadata": {
        "id": "gk8DTWNcondX"
      },
      "outputs": [],
      "source": [
        "import pickle"
      ]
    },
    {
      "cell_type": "code",
      "execution_count": null,
      "metadata": {
        "id": "uN6_8PNponqK"
      },
      "outputs": [],
      "source": [
        "pickle.dump(similar,open(\"similarity\",\"wb\"))"
      ]
    },
    {
      "cell_type": "code",
      "execution_count": null,
      "metadata": {
        "id": "B8VniIlTonv-"
      },
      "outputs": [],
      "source": [
        "pickle.dump(df,open(\"df\",\"wb\"))"
      ]
    },
    {
      "cell_type": "code",
      "execution_count": null,
      "metadata": {
        "colab": {
          "base_uri": "https://localhost:8080/"
        },
        "id": "YAsG8ALxJThT",
        "outputId": "0c322ecc-5d21-4966-de5d-631cc6db5f74"
      },
      "outputs": [
        {
          "name": "stdout",
          "output_type": "stream",
          "text": [
            "Collecting Spotipy\n",
            "  Downloading spotipy-2.23.0-py3-none-any.whl (29 kB)\n",
            "Collecting redis>=3.5.3 (from Spotipy)\n",
            "  Downloading redis-5.0.2-py3-none-any.whl (251 kB)\n",
            "\u001b[2K     \u001b[90m━━━━━━━━━━━━━━━━━━━━━━━━━━━━━━━━━━━━━━━━\u001b[0m \u001b[32m251.7/251.7 kB\u001b[0m \u001b[31m7.4 MB/s\u001b[0m eta \u001b[36m0:00:00\u001b[0m\n",
            "\u001b[?25hRequirement already satisfied: requests>=2.25.0 in /usr/local/lib/python3.10/dist-packages (from Spotipy) (2.31.0)\n",
            "Requirement already satisfied: six>=1.15.0 in /usr/local/lib/python3.10/dist-packages (from Spotipy) (1.16.0)\n",
            "Requirement already satisfied: urllib3>=1.26.0 in /usr/local/lib/python3.10/dist-packages (from Spotipy) (2.0.7)\n",
            "Requirement already satisfied: async-timeout>=4.0.3 in /usr/local/lib/python3.10/dist-packages (from redis>=3.5.3->Spotipy) (4.0.3)\n",
            "Requirement already satisfied: charset-normalizer<4,>=2 in /usr/local/lib/python3.10/dist-packages (from requests>=2.25.0->Spotipy) (3.3.2)\n",
            "Requirement already satisfied: idna<4,>=2.5 in /usr/local/lib/python3.10/dist-packages (from requests>=2.25.0->Spotipy) (3.6)\n",
            "Requirement already satisfied: certifi>=2017.4.17 in /usr/local/lib/python3.10/dist-packages (from requests>=2.25.0->Spotipy) (2024.2.2)\n",
            "Installing collected packages: redis, Spotipy\n",
            "Successfully installed Spotipy-2.23.0 redis-5.0.2\n"
          ]
        }
      ],
      "source": [
        "!pip install Spotipy"
      ]
    },
    {
      "cell_type": "markdown",
      "metadata": {
        "id": "qsqC_MeCJyhE"
      },
      "source": [
        "# Initialize the SPOTIFY client"
      ]
    },
    {
      "cell_type": "code",
      "execution_count": null,
      "metadata": {
        "colab": {
          "base_uri": "https://localhost:8080/"
        },
        "id": "tWeRLxPrF_yW",
        "outputId": "9e30c431-c160-4165-c204-efb1abac9d55"
      },
      "outputs": [
        {
          "name": "stdout",
          "output_type": "stream",
          "text": [
            "\u001b[2K     \u001b[90m━━━━━━━━━━━━━━━━━━━━━━━━━━━━━━━━━━━━━━━━\u001b[0m \u001b[32m8.4/8.4 MB\u001b[0m \u001b[31m12.9 MB/s\u001b[0m eta \u001b[36m0:00:00\u001b[0m\n",
            "\u001b[2K     \u001b[90m━━━━━━━━━━━━━━━━━━━━━━━━━━━━━━━━━━━━━━━━\u001b[0m \u001b[32m195.4/195.4 kB\u001b[0m \u001b[31m6.5 MB/s\u001b[0m eta \u001b[36m0:00:00\u001b[0m\n",
            "\u001b[2K     \u001b[90m━━━━━━━━━━━━━━━━━━━━━━━━━━━━━━━━━━━━━━━━\u001b[0m \u001b[32m4.8/4.8 MB\u001b[0m \u001b[31m24.1 MB/s\u001b[0m eta \u001b[36m0:00:00\u001b[0m\n",
            "\u001b[2K     \u001b[90m━━━━━━━━━━━━━━━━━━━━━━━━━━━━━━━━━━━━━━━━\u001b[0m \u001b[32m83.0/83.0 kB\u001b[0m \u001b[31m4.4 MB/s\u001b[0m eta \u001b[36m0:00:00\u001b[0m\n",
            "\u001b[2K     \u001b[90m━━━━━━━━━━━━━━━━━━━━━━━━━━━━━━━━━━━━━━━━\u001b[0m \u001b[32m62.7/62.7 kB\u001b[0m \u001b[31m4.3 MB/s\u001b[0m eta \u001b[36m0:00:00\u001b[0m\n",
            "\u001b[?25h"
          ]
        }
      ],
      "source": [
        "!pip install -q streamlit"
      ]
    },
    {
      "cell_type": "code",
      "execution_count": null,
      "metadata": {
        "id": "WXOiys5QooJD"
      },
      "outputs": [],
      "source": [
        "import pickle\n",
        "import streamlit as st\n",
        "import spotipy\n",
        "from spotipy.oauth2 import SpotifyClientCredentials\n",
        "\n",
        "CLIENT_ID = \"af24d58b9e9a42648927b18f60136ccb\"\n",
        "CLIENT_SECRET = \"b44fb0188e434576ac84221f94733c86\"\n",
        "\n",
        "# Initialize the Spotify client\n",
        "client_credentials_manager = SpotifyClientCredentials(client_id=CLIENT_ID, client_secret=CLIENT_SECRET)\n",
        "sp = spotipy.Spotify(client_credentials_manager=client_credentials_manager)\n",
        "\n",
        "def get_song_album_cover_url(song_name, artist_name):\n",
        "    search_query = f\"track:{song_name} artist:{artist_name}\"\n",
        "    results = sp.search(q=search_query, type=\"track\")\n",
        "\n",
        "    if results and results[\"tracks\"][\"items\"]:\n",
        "        track = results[\"tracks\"][\"items\"][0]\n",
        "        album_cover_url = track[\"album\"][\"images\"][0][\"url\"]\n",
        "        print(album_cover_url)\n",
        "        return album_cover_url\n",
        "    else:\n",
        "        return \"https://i.postimg.cc/0QNxYz4V/social.png\""
      ]
    },
    {
      "cell_type": "code",
      "execution_count": null,
      "metadata": {
        "id": "1S8I45HAN6Hl"
      },
      "outputs": [],
      "source": [
        "def recommend(song):\n",
        "    index = music[music['song'] == song].index[0]\n",
        "    distances = sorted(list(enumerate(similarity[index])), reverse=True, key=lambda x: x[1])\n",
        "    recommended_music_names = []\n",
        "    recommended_music_posters = []\n",
        "    for i in distances[1:6]:\n",
        "        # fetch the movie poster\n",
        "        artist = music.iloc[i[0]].artist\n",
        "        print(artist)\n",
        "        print(music.iloc[i[0]].song)\n",
        "        recommended_music_posters.append(get_song_album_cover_url(music.iloc[i[0]].song, artist))\n",
        "        recommended_music_names.append(music.iloc[i[0]].song)\n",
        "\n",
        "    return recommended_music_names,recommended_music_posters"
      ]
    },
    {
      "cell_type": "code",
      "execution_count": null,
      "metadata": {
        "id": "twhYayZ2N7Wf"
      },
      "outputs": [],
      "source": [
        "st.header('Music Recommendation Systems')\n",
        "music = pickle.load(open('/content/df','rb'))\n",
        "similarity = pickle.load(open('/content/similarity','rb'))"
      ]
    },
    {
      "cell_type": "code",
      "execution_count": null,
      "metadata": {
        "id": "6bUShjiEQny5"
      },
      "outputs": [],
      "source": [
        "music_list = music['song'].values\n",
        "selected_movie = st.selectbox(\n",
        "    \"Type or select a song from the dropdown\",\n",
        "    music_list\n",
        ")\n",
        "\n",
        "if st.button('Show Recommendation'):\n",
        "    recommended_music_names,recommended_music_posters = recommend(selected_movie)\n",
        "    col1, col2, col3, col4, col5= st.columns(5)\n",
        "    with col1:\n",
        "        st.text(recommended_music_names[0])\n",
        "        st.image(recommended_music_posters[0])\n",
        "    with col2:\n",
        "        st.text(recommended_music_names[1])\n",
        "        st.image(recommended_music_posters[1])\n",
        "\n",
        "    with col3:\n",
        "        st.text(recommended_music_names[2])\n",
        "        st.image(recommended_music_posters[2])\n",
        "    with col4:\n",
        "        st.text(recommended_music_names[3])\n",
        "        st.image(recommended_music_posters[3])\n",
        "    with col5:\n",
        "        st.text(recommended_music_names[4])\n",
        "        st.image(recommended_music_posters[4])"
      ]
    },
    {
      "cell_type": "markdown",
      "metadata": {
        "id": "hF_P0AKN81W7"
      },
      "source": [
        "To run code on streamlit web page"
      ]
    },
    {
      "cell_type": "code",
      "execution_count": null,
      "metadata": {
        "colab": {
          "background_save": true
        },
        "id": "W7ajZEr98RrJ"
      },
      "outputs": [],
      "source": [
        "!streamlit run /usr/local/lib/python3.10/dist-packages/colab_kernel_launcher.py [ARGUMENTS]"
      ]
    }
  ],
  "metadata": {
    "colab": {
      "provenance": [],
      "authorship_tag": "ABX9TyOKpgpRaSPXqpG773jmSdL/"
    },
    "kernelspec": {
      "display_name": "Python 3",
      "name": "python3"
    },
    "language_info": {
      "name": "python"
    }
  },
  "nbformat": 4,
  "nbformat_minor": 0
}