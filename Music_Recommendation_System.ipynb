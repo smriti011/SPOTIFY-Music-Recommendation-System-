{
  "cells": [
    {
      "cell_type": "markdown",
      "metadata": {
        "id": "wgjxYYL0xacZ"
      },
      "source": [
        "**IMPORT LIBRARIES**"
      ]
    },
    {
      "cell_type": "code",
      "execution_count": 1,
      "metadata": {
        "id": "4BkRcotTnAJQ"
      },
      "outputs": [],
      "source": [
        "import pandas as pd"
      ]
    },
    {
      "cell_type": "code",
      "execution_count": 2,
      "metadata": {
        "id": "45gsR1StnES6"
      },
      "outputs": [],
      "source": [
        "df = pd.read_csv(\"/content/spotify_millsongdata.csv\",engine=\"python\",\n",
        "                 on_bad_lines='skip',\n",
        "                 encoding='utf-8')"
      ]
    },
    {
      "cell_type": "code",
      "execution_count": 3,
      "metadata": {
        "id": "rj4W7OSDnEPa",
        "colab": {
          "base_uri": "https://localhost:8080/"
        },
        "outputId": "a9c6f165-bc49-4199-ff77-5d102e75b64d"
      },
      "outputs": [
        {
          "output_type": "execute_result",
          "data": {
            "text/plain": [
              "(30382, 4)"
            ]
          },
          "metadata": {},
          "execution_count": 3
        }
      ],
      "source": [
        "df.shape"
      ]
    },
    {
      "cell_type": "code",
      "execution_count": 4,
      "metadata": {
        "id": "BMpqsnJDnEMm",
        "colab": {
          "base_uri": "https://localhost:8080/",
          "height": 209
        },
        "outputId": "2e3aaa90-e04f-432d-bee5-83d8853b1083"
      },
      "outputs": [
        {
          "output_type": "execute_result",
          "data": {
            "text/plain": [
              "artist    0\n",
              "song      0\n",
              "link      0\n",
              "text      0\n",
              "dtype: int64"
            ],
            "text/html": [
              "<div>\n",
              "<style scoped>\n",
              "    .dataframe tbody tr th:only-of-type {\n",
              "        vertical-align: middle;\n",
              "    }\n",
              "\n",
              "    .dataframe tbody tr th {\n",
              "        vertical-align: top;\n",
              "    }\n",
              "\n",
              "    .dataframe thead th {\n",
              "        text-align: right;\n",
              "    }\n",
              "</style>\n",
              "<table border=\"1\" class=\"dataframe\">\n",
              "  <thead>\n",
              "    <tr style=\"text-align: right;\">\n",
              "      <th></th>\n",
              "      <th>0</th>\n",
              "    </tr>\n",
              "  </thead>\n",
              "  <tbody>\n",
              "    <tr>\n",
              "      <th>artist</th>\n",
              "      <td>0</td>\n",
              "    </tr>\n",
              "    <tr>\n",
              "      <th>song</th>\n",
              "      <td>0</td>\n",
              "    </tr>\n",
              "    <tr>\n",
              "      <th>link</th>\n",
              "      <td>0</td>\n",
              "    </tr>\n",
              "    <tr>\n",
              "      <th>text</th>\n",
              "      <td>0</td>\n",
              "    </tr>\n",
              "  </tbody>\n",
              "</table>\n",
              "</div><br><label><b>dtype:</b> int64</label>"
            ]
          },
          "metadata": {},
          "execution_count": 4
        }
      ],
      "source": [
        "df.isnull().sum()"
      ]
    },
    {
      "cell_type": "code",
      "execution_count": 5,
      "metadata": {
        "id": "UfOqH7h_nEKG",
        "colab": {
          "base_uri": "https://localhost:8080/",
          "height": 518
        },
        "outputId": "5e31129b-bc13-4901-fe49-e9bdca77cfbd"
      },
      "outputs": [
        {
          "output_type": "execute_result",
          "data": {
            "text/plain": [
              "  artist                   song                                        link  \\\n",
              "0   ABBA  Ahe's My Kind Of Girl  /a/abba/ahes+my+kind+of+girl_20598417.html   \n",
              "1   ABBA       Andante, Andante       /a/abba/andante+andante_20002708.html   \n",
              "2   ABBA         As Good As New        /a/abba/as+good+as+new_20003033.html   \n",
              "3   ABBA                   Bang                  /a/abba/bang_20598415.html   \n",
              "4   ABBA       Bang-A-Boomerang      /a/abba/bang+a+boomerang_20002668.html   \n",
              "\n",
              "                                                text  \n",
              "0  Look at her face, it's a wonderful face  \\r\\nA...  \n",
              "1  Take it easy with me, please  \\r\\nTouch me gen...  \n",
              "2  I'll never know why I had to go  \\r\\nWhy I had...  \n",
              "3  Making somebody happy is a question of give an...  \n",
              "4  Making somebody happy is a question of give an...  "
            ],
            "text/html": [
              "\n",
              "  <div id=\"df-2456919c-2d22-4ab4-9871-76e88172a2ac\" class=\"colab-df-container\">\n",
              "    <div>\n",
              "<style scoped>\n",
              "    .dataframe tbody tr th:only-of-type {\n",
              "        vertical-align: middle;\n",
              "    }\n",
              "\n",
              "    .dataframe tbody tr th {\n",
              "        vertical-align: top;\n",
              "    }\n",
              "\n",
              "    .dataframe thead th {\n",
              "        text-align: right;\n",
              "    }\n",
              "</style>\n",
              "<table border=\"1\" class=\"dataframe\">\n",
              "  <thead>\n",
              "    <tr style=\"text-align: right;\">\n",
              "      <th></th>\n",
              "      <th>artist</th>\n",
              "      <th>song</th>\n",
              "      <th>link</th>\n",
              "      <th>text</th>\n",
              "    </tr>\n",
              "  </thead>\n",
              "  <tbody>\n",
              "    <tr>\n",
              "      <th>0</th>\n",
              "      <td>ABBA</td>\n",
              "      <td>Ahe's My Kind Of Girl</td>\n",
              "      <td>/a/abba/ahes+my+kind+of+girl_20598417.html</td>\n",
              "      <td>Look at her face, it's a wonderful face  \\r\\nA...</td>\n",
              "    </tr>\n",
              "    <tr>\n",
              "      <th>1</th>\n",
              "      <td>ABBA</td>\n",
              "      <td>Andante, Andante</td>\n",
              "      <td>/a/abba/andante+andante_20002708.html</td>\n",
              "      <td>Take it easy with me, please  \\r\\nTouch me gen...</td>\n",
              "    </tr>\n",
              "    <tr>\n",
              "      <th>2</th>\n",
              "      <td>ABBA</td>\n",
              "      <td>As Good As New</td>\n",
              "      <td>/a/abba/as+good+as+new_20003033.html</td>\n",
              "      <td>I'll never know why I had to go  \\r\\nWhy I had...</td>\n",
              "    </tr>\n",
              "    <tr>\n",
              "      <th>3</th>\n",
              "      <td>ABBA</td>\n",
              "      <td>Bang</td>\n",
              "      <td>/a/abba/bang_20598415.html</td>\n",
              "      <td>Making somebody happy is a question of give an...</td>\n",
              "    </tr>\n",
              "    <tr>\n",
              "      <th>4</th>\n",
              "      <td>ABBA</td>\n",
              "      <td>Bang-A-Boomerang</td>\n",
              "      <td>/a/abba/bang+a+boomerang_20002668.html</td>\n",
              "      <td>Making somebody happy is a question of give an...</td>\n",
              "    </tr>\n",
              "  </tbody>\n",
              "</table>\n",
              "</div>\n",
              "    <div class=\"colab-df-buttons\">\n",
              "\n",
              "  <div class=\"colab-df-container\">\n",
              "    <button class=\"colab-df-convert\" onclick=\"convertToInteractive('df-2456919c-2d22-4ab4-9871-76e88172a2ac')\"\n",
              "            title=\"Convert this dataframe to an interactive table.\"\n",
              "            style=\"display:none;\">\n",
              "\n",
              "  <svg xmlns=\"http://www.w3.org/2000/svg\" height=\"24px\" viewBox=\"0 -960 960 960\">\n",
              "    <path d=\"M120-120v-720h720v720H120Zm60-500h600v-160H180v160Zm220 220h160v-160H400v160Zm0 220h160v-160H400v160ZM180-400h160v-160H180v160Zm440 0h160v-160H620v160ZM180-180h160v-160H180v160Zm440 0h160v-160H620v160Z\"/>\n",
              "  </svg>\n",
              "    </button>\n",
              "\n",
              "  <style>\n",
              "    .colab-df-container {\n",
              "      display:flex;\n",
              "      gap: 12px;\n",
              "    }\n",
              "\n",
              "    .colab-df-convert {\n",
              "      background-color: #E8F0FE;\n",
              "      border: none;\n",
              "      border-radius: 50%;\n",
              "      cursor: pointer;\n",
              "      display: none;\n",
              "      fill: #1967D2;\n",
              "      height: 32px;\n",
              "      padding: 0 0 0 0;\n",
              "      width: 32px;\n",
              "    }\n",
              "\n",
              "    .colab-df-convert:hover {\n",
              "      background-color: #E2EBFA;\n",
              "      box-shadow: 0px 1px 2px rgba(60, 64, 67, 0.3), 0px 1px 3px 1px rgba(60, 64, 67, 0.15);\n",
              "      fill: #174EA6;\n",
              "    }\n",
              "\n",
              "    .colab-df-buttons div {\n",
              "      margin-bottom: 4px;\n",
              "    }\n",
              "\n",
              "    [theme=dark] .colab-df-convert {\n",
              "      background-color: #3B4455;\n",
              "      fill: #D2E3FC;\n",
              "    }\n",
              "\n",
              "    [theme=dark] .colab-df-convert:hover {\n",
              "      background-color: #434B5C;\n",
              "      box-shadow: 0px 1px 3px 1px rgba(0, 0, 0, 0.15);\n",
              "      filter: drop-shadow(0px 1px 2px rgba(0, 0, 0, 0.3));\n",
              "      fill: #FFFFFF;\n",
              "    }\n",
              "  </style>\n",
              "\n",
              "    <script>\n",
              "      const buttonEl =\n",
              "        document.querySelector('#df-2456919c-2d22-4ab4-9871-76e88172a2ac button.colab-df-convert');\n",
              "      buttonEl.style.display =\n",
              "        google.colab.kernel.accessAllowed ? 'block' : 'none';\n",
              "\n",
              "      async function convertToInteractive(key) {\n",
              "        const element = document.querySelector('#df-2456919c-2d22-4ab4-9871-76e88172a2ac');\n",
              "        const dataTable =\n",
              "          await google.colab.kernel.invokeFunction('convertToInteractive',\n",
              "                                                    [key], {});\n",
              "        if (!dataTable) return;\n",
              "\n",
              "        const docLinkHtml = 'Like what you see? Visit the ' +\n",
              "          '<a target=\"_blank\" href=https://colab.research.google.com/notebooks/data_table.ipynb>data table notebook</a>'\n",
              "          + ' to learn more about interactive tables.';\n",
              "        element.innerHTML = '';\n",
              "        dataTable['output_type'] = 'display_data';\n",
              "        await google.colab.output.renderOutput(dataTable, element);\n",
              "        const docLink = document.createElement('div');\n",
              "        docLink.innerHTML = docLinkHtml;\n",
              "        element.appendChild(docLink);\n",
              "      }\n",
              "    </script>\n",
              "  </div>\n",
              "\n",
              "\n",
              "<div id=\"df-71455af6-33ce-48d6-918f-d46e3a9210fd\">\n",
              "  <button class=\"colab-df-quickchart\" onclick=\"quickchart('df-71455af6-33ce-48d6-918f-d46e3a9210fd')\"\n",
              "            title=\"Suggest charts\"\n",
              "            style=\"display:none;\">\n",
              "\n",
              "<svg xmlns=\"http://www.w3.org/2000/svg\" height=\"24px\"viewBox=\"0 0 24 24\"\n",
              "     width=\"24px\">\n",
              "    <g>\n",
              "        <path d=\"M19 3H5c-1.1 0-2 .9-2 2v14c0 1.1.9 2 2 2h14c1.1 0 2-.9 2-2V5c0-1.1-.9-2-2-2zM9 17H7v-7h2v7zm4 0h-2V7h2v10zm4 0h-2v-4h2v4z\"/>\n",
              "    </g>\n",
              "</svg>\n",
              "  </button>\n",
              "\n",
              "<style>\n",
              "  .colab-df-quickchart {\n",
              "      --bg-color: #E8F0FE;\n",
              "      --fill-color: #1967D2;\n",
              "      --hover-bg-color: #E2EBFA;\n",
              "      --hover-fill-color: #174EA6;\n",
              "      --disabled-fill-color: #AAA;\n",
              "      --disabled-bg-color: #DDD;\n",
              "  }\n",
              "\n",
              "  [theme=dark] .colab-df-quickchart {\n",
              "      --bg-color: #3B4455;\n",
              "      --fill-color: #D2E3FC;\n",
              "      --hover-bg-color: #434B5C;\n",
              "      --hover-fill-color: #FFFFFF;\n",
              "      --disabled-bg-color: #3B4455;\n",
              "      --disabled-fill-color: #666;\n",
              "  }\n",
              "\n",
              "  .colab-df-quickchart {\n",
              "    background-color: var(--bg-color);\n",
              "    border: none;\n",
              "    border-radius: 50%;\n",
              "    cursor: pointer;\n",
              "    display: none;\n",
              "    fill: var(--fill-color);\n",
              "    height: 32px;\n",
              "    padding: 0;\n",
              "    width: 32px;\n",
              "  }\n",
              "\n",
              "  .colab-df-quickchart:hover {\n",
              "    background-color: var(--hover-bg-color);\n",
              "    box-shadow: 0 1px 2px rgba(60, 64, 67, 0.3), 0 1px 3px 1px rgba(60, 64, 67, 0.15);\n",
              "    fill: var(--button-hover-fill-color);\n",
              "  }\n",
              "\n",
              "  .colab-df-quickchart-complete:disabled,\n",
              "  .colab-df-quickchart-complete:disabled:hover {\n",
              "    background-color: var(--disabled-bg-color);\n",
              "    fill: var(--disabled-fill-color);\n",
              "    box-shadow: none;\n",
              "  }\n",
              "\n",
              "  .colab-df-spinner {\n",
              "    border: 2px solid var(--fill-color);\n",
              "    border-color: transparent;\n",
              "    border-bottom-color: var(--fill-color);\n",
              "    animation:\n",
              "      spin 1s steps(1) infinite;\n",
              "  }\n",
              "\n",
              "  @keyframes spin {\n",
              "    0% {\n",
              "      border-color: transparent;\n",
              "      border-bottom-color: var(--fill-color);\n",
              "      border-left-color: var(--fill-color);\n",
              "    }\n",
              "    20% {\n",
              "      border-color: transparent;\n",
              "      border-left-color: var(--fill-color);\n",
              "      border-top-color: var(--fill-color);\n",
              "    }\n",
              "    30% {\n",
              "      border-color: transparent;\n",
              "      border-left-color: var(--fill-color);\n",
              "      border-top-color: var(--fill-color);\n",
              "      border-right-color: var(--fill-color);\n",
              "    }\n",
              "    40% {\n",
              "      border-color: transparent;\n",
              "      border-right-color: var(--fill-color);\n",
              "      border-top-color: var(--fill-color);\n",
              "    }\n",
              "    60% {\n",
              "      border-color: transparent;\n",
              "      border-right-color: var(--fill-color);\n",
              "    }\n",
              "    80% {\n",
              "      border-color: transparent;\n",
              "      border-right-color: var(--fill-color);\n",
              "      border-bottom-color: var(--fill-color);\n",
              "    }\n",
              "    90% {\n",
              "      border-color: transparent;\n",
              "      border-bottom-color: var(--fill-color);\n",
              "    }\n",
              "  }\n",
              "</style>\n",
              "\n",
              "  <script>\n",
              "    async function quickchart(key) {\n",
              "      const quickchartButtonEl =\n",
              "        document.querySelector('#' + key + ' button');\n",
              "      quickchartButtonEl.disabled = true;  // To prevent multiple clicks.\n",
              "      quickchartButtonEl.classList.add('colab-df-spinner');\n",
              "      try {\n",
              "        const charts = await google.colab.kernel.invokeFunction(\n",
              "            'suggestCharts', [key], {});\n",
              "      } catch (error) {\n",
              "        console.error('Error during call to suggestCharts:', error);\n",
              "      }\n",
              "      quickchartButtonEl.classList.remove('colab-df-spinner');\n",
              "      quickchartButtonEl.classList.add('colab-df-quickchart-complete');\n",
              "    }\n",
              "    (() => {\n",
              "      let quickchartButtonEl =\n",
              "        document.querySelector('#df-71455af6-33ce-48d6-918f-d46e3a9210fd button');\n",
              "      quickchartButtonEl.style.display =\n",
              "        google.colab.kernel.accessAllowed ? 'block' : 'none';\n",
              "    })();\n",
              "  </script>\n",
              "</div>\n",
              "\n",
              "    </div>\n",
              "  </div>\n"
            ],
            "application/vnd.google.colaboratory.intrinsic+json": {
              "type": "dataframe",
              "variable_name": "df",
              "summary": "{\n  \"name\": \"df\",\n  \"rows\": 30382,\n  \"fields\": [\n    {\n      \"column\": \"artist\",\n      \"properties\": {\n        \"dtype\": \"category\",\n        \"num_unique_values\": 638,\n        \"samples\": [\n          \"Justin Timberlake\",\n          \"Irving Berlin\",\n          \"Beauty And The Beast\"\n        ],\n        \"semantic_type\": \"\",\n        \"description\": \"\"\n      }\n    },\n    {\n      \"column\": \"song\",\n      \"properties\": {\n        \"dtype\": \"string\",\n        \"num_unique_values\": 25372,\n        \"samples\": [\n          \"Mary In The Morning\",\n          \"Killing Spree\",\n          \"One Of A Kind\"\n        ],\n        \"semantic_type\": \"\",\n        \"description\": \"\"\n      }\n    },\n    {\n      \"column\": \"link\",\n      \"properties\": {\n        \"dtype\": \"string\",\n        \"num_unique_values\": 30382,\n        \"samples\": [\n          \"/v/violent+femmes/mosh+pit_20254823.html\",\n          \"/h/hollies/candy+man_20065745.html\",\n          \"/d/diana+ross/love+hangover_20040079.html\"\n        ],\n        \"semantic_type\": \"\",\n        \"description\": \"\"\n      }\n    },\n    {\n      \"column\": \"text\",\n      \"properties\": {\n        \"dtype\": \"string\",\n        \"num_unique_values\": 30324,\n        \"samples\": [\n          \"I woke up this morning and the sun was gone  \\r\\nTurned on some music to start my day  \\r\\nI lost myself in a familiar song  \\r\\nClosed my eyes and I slipped away  \\r\\nOoh, ooh, ooh  \\r\\n  \\r\\n(More than a feeling)  \\r\\n(More than a feeling)  \\r\\nWell it's more than a feeling  \\r\\n(More than a feeling)  \\r\\nWhen I hear that old song they used to play  \\r\\n(More than a feeling)  \\r\\nAnd I begin dreaming  \\r\\n(More than a feeling)  \\r\\nTill I see Mary Ann walk away  \\r\\n  \\r\\nWhen I'm tired and I think I'm cold  \\r\\nI hide in my music and forget the day  \\r\\nAnd dream of a girl that I used to know  \\r\\nClose my eyes and she slipped away  \\r\\nOoh, ooh, ooh  \\r\\n  \\r\\n(More than a feeling)  \\r\\n(More than a feeling)  \\r\\nWell it's more than a feeling  \\r\\n(More than a feeling)  \\r\\nWhen I hear that old song they used to play  \\r\\n(More than a feeling)  \\r\\nAnd I begin dreaming  \\r\\n(More than a feeling)  \\r\\nTill I see Mary Ann walk away  \\r\\n  \\r\\nWell it's more than a feeling  \\r\\n(More than a feeling)  \\r\\nWhen I hear that old song they used to play  \\r\\n(More than a feeling)  \\r\\nAnd I begin dreaming  \\r\\n(More than a feeling)  \\r\\nTill I see Mary Ann walk away  \\r\\n  \\r\\nClose my eyes and slip away\\r\\n\\r\\n\",\n          \"When it started out so easily  \\r\\nShe was lonely I was free  \\r\\nI couldn't pass another lonely night on my own  \\r\\nShe just poured her life into a drink  \\r\\n  \\r\\nLooked at me said what do you think  \\r\\nI said you need a little loving baby  \\r\\nSo I picked her up  \\r\\nShe gave me all the loving that I would ever need  \\r\\n  \\r\\nOh she picked me up  \\r\\nI didn't know her name  \\r\\nI'm playing love games  \\r\\nKeep on playing love games  \\r\\n  \\r\\nWin or lose  \\r\\nI get a broken heart  \\r\\nJust playing love games  \\r\\nAin't no doubt in my mind  \\r\\n  \\r\\nThese love games  \\r\\nAre tearing me apart  \\r\\nOh, this game of love is burning me  \\r\\nNo way out that I can see  \\r\\n  \\r\\nIt's like a fire I can't control, I can't control  \\r\\nOh, they pick me up  \\r\\nGive me all the loving  \\r\\nI've ever need  \\r\\n  \\r\\nYeah, I love and run  \\r\\nI never know their names  \\r\\nJust playing love games  \\r\\nI keep on playing love games  \\r\\n  \\r\\nWin or lose  \\r\\nI get a broken heart  \\r\\nPlaying love games  \\r\\nAin't no doubt in my mind  \\r\\n  \\r\\nThat these love games  \\r\\nAre tearing me apart  \\r\\nNow my love is like a fire  \\r\\nBurning me up  \\r\\n  \\r\\nAnd the flames  \\r\\nAre getting higher  \\r\\nUp to my heart  \\r\\nI'm playing love games  \\r\\n  \\r\\nKeep on playing love games  \\r\\nWin or lose  \\r\\nI get a broken heart  \\r\\nJust playing love games  \\r\\n  \\r\\nAin't no doubt in my mind  \\r\\nThat these love games  \\r\\nAre tearing me apart  \\r\\nI keep on playing love games  \\r\\n  \\r\\nKeep on playing love games  \\r\\nWhether I win  \\r\\nOr whether I lose  \\r\\nI end up with a broken heart  \\r\\n  \\r\\nKeep playin' love games  \\r\\nAin't no doubt about it  \\r\\nOh these love games  \\r\\nAre tearing me apart\\r\\n\\r\\n\",\n          \"You know I don't like you  \\r\\nBut you want to be my friend  \\r\\nThere are bodies on the ceiling  \\r\\nAnd they are fluttering their wings  \\r\\nIt's OK, I'm angry  \\r\\nBut you'll never understand  \\r\\nYou dream of Michelangelo  \\r\\nThey hang above your hands  \\r\\n  \\r\\n[Chorus]  \\r\\nAnd I know, she is not my friend  \\r\\nAnd I know, cause there she goes  \\r\\nWalking on my skin again  \\r\\n  \\r\\nAnd I can't see why  \\r\\nYou want to talk to me  \\r\\nWhen your vision of America  \\r\\nIs crystal and clean  \\r\\nI wanna white bread life  \\r\\nJust something ignorant in the rain  \\r\\nBut from the walls of Michelangelo  \\r\\nI'm dangling again.  \\r\\n  \\r\\n[Chorus]  \\r\\n  \\r\\nSaturn on a line  \\r\\nThe sun afire of strings and wires  \\r\\nSpin above my head and make it right  \\r\\nAnytime you'd like, you can catch a sight  \\r\\nOf angel eyes on emptiness and infinite  \\r\\nAnd I dream of Michelangelo when I'm lying in my bed  \\r\\nI see God upon the ceiling  \\r\\nI see angels overhead  \\r\\nAnd he seems so close  \\r\\nAs he reaches out his hand  \\r\\nWe are never quite as close  \\r\\nAs we are led to understand  \\r\\n  \\r\\nAnd I know, she is not my friend  \\r\\nAnd I know, cause there she goes walking walking walking  \\r\\nAnd I know, she is not my friend  \\r\\nAnd I know, cause there she goes  \\r\\nWalking on my skin again and again  \\r\\nOn my mind  \\r\\nOh Lord no  \\r\\nYes she's walking on my skin again and again\\r\\n\\r\\n\"\n        ],\n        \"semantic_type\": \"\",\n        \"description\": \"\"\n      }\n    }\n  ]\n}"
            }
          },
          "metadata": {},
          "execution_count": 5
        }
      ],
      "source": [
        "df.head(5)"
      ]
    },
    {
      "cell_type": "code",
      "execution_count": 6,
      "metadata": {
        "id": "6-yA7CpXnEHP",
        "colab": {
          "base_uri": "https://localhost:8080/",
          "height": 608
        },
        "outputId": "c342bfb9-9872-45e7-bee0-0d0912890982"
      },
      "outputs": [
        {
          "output_type": "execute_result",
          "data": {
            "text/plain": [
              "      artist                          song  \\\n",
              "30377  Doors                  Unhappy Girl   \n",
              "30378  Doors                Universal Mind   \n",
              "30379  Doors           Waiting For The Sun   \n",
              "30380  Doors  We Could Be So Good Together   \n",
              "30381  Doors         When The Music's Over   \n",
              "\n",
              "                                                    link  \\\n",
              "30377                /d/doors/unhappy+girl_20042735.html   \n",
              "30378              /d/doors/universal+mind_20042690.html   \n",
              "30379         /d/doors/waiting+for+the+sun_20042716.html   \n",
              "30380  /d/doors/we+could+be+so+good+together_20042776...   \n",
              "30381      /d/doors/when+the+music+is+over_20338906.html   \n",
              "\n",
              "                                                    text  \n",
              "30377  Unhappy girl, Left all alone  \\r\\nPlaying soli...  \n",
              "30378  I was doing time  \\r\\nIn the universal mind  \\...  \n",
              "30379  At first flash of Eden, we race down to the se...  \n",
              "30380  We could be so good together  \\r\\nYa, so good ...  \n",
              "30381  Yeah, c'mon  \\r\\nWhen the music's over  \\r\\nWh...  "
            ],
            "text/html": [
              "\n",
              "  <div id=\"df-b9f48215-b90c-466e-847d-59d2ffcc2e1d\" class=\"colab-df-container\">\n",
              "    <div>\n",
              "<style scoped>\n",
              "    .dataframe tbody tr th:only-of-type {\n",
              "        vertical-align: middle;\n",
              "    }\n",
              "\n",
              "    .dataframe tbody tr th {\n",
              "        vertical-align: top;\n",
              "    }\n",
              "\n",
              "    .dataframe thead th {\n",
              "        text-align: right;\n",
              "    }\n",
              "</style>\n",
              "<table border=\"1\" class=\"dataframe\">\n",
              "  <thead>\n",
              "    <tr style=\"text-align: right;\">\n",
              "      <th></th>\n",
              "      <th>artist</th>\n",
              "      <th>song</th>\n",
              "      <th>link</th>\n",
              "      <th>text</th>\n",
              "    </tr>\n",
              "  </thead>\n",
              "  <tbody>\n",
              "    <tr>\n",
              "      <th>30377</th>\n",
              "      <td>Doors</td>\n",
              "      <td>Unhappy Girl</td>\n",
              "      <td>/d/doors/unhappy+girl_20042735.html</td>\n",
              "      <td>Unhappy girl, Left all alone  \\r\\nPlaying soli...</td>\n",
              "    </tr>\n",
              "    <tr>\n",
              "      <th>30378</th>\n",
              "      <td>Doors</td>\n",
              "      <td>Universal Mind</td>\n",
              "      <td>/d/doors/universal+mind_20042690.html</td>\n",
              "      <td>I was doing time  \\r\\nIn the universal mind  \\...</td>\n",
              "    </tr>\n",
              "    <tr>\n",
              "      <th>30379</th>\n",
              "      <td>Doors</td>\n",
              "      <td>Waiting For The Sun</td>\n",
              "      <td>/d/doors/waiting+for+the+sun_20042716.html</td>\n",
              "      <td>At first flash of Eden, we race down to the se...</td>\n",
              "    </tr>\n",
              "    <tr>\n",
              "      <th>30380</th>\n",
              "      <td>Doors</td>\n",
              "      <td>We Could Be So Good Together</td>\n",
              "      <td>/d/doors/we+could+be+so+good+together_20042776...</td>\n",
              "      <td>We could be so good together  \\r\\nYa, so good ...</td>\n",
              "    </tr>\n",
              "    <tr>\n",
              "      <th>30381</th>\n",
              "      <td>Doors</td>\n",
              "      <td>When The Music's Over</td>\n",
              "      <td>/d/doors/when+the+music+is+over_20338906.html</td>\n",
              "      <td>Yeah, c'mon  \\r\\nWhen the music's over  \\r\\nWh...</td>\n",
              "    </tr>\n",
              "  </tbody>\n",
              "</table>\n",
              "</div>\n",
              "    <div class=\"colab-df-buttons\">\n",
              "\n",
              "  <div class=\"colab-df-container\">\n",
              "    <button class=\"colab-df-convert\" onclick=\"convertToInteractive('df-b9f48215-b90c-466e-847d-59d2ffcc2e1d')\"\n",
              "            title=\"Convert this dataframe to an interactive table.\"\n",
              "            style=\"display:none;\">\n",
              "\n",
              "  <svg xmlns=\"http://www.w3.org/2000/svg\" height=\"24px\" viewBox=\"0 -960 960 960\">\n",
              "    <path d=\"M120-120v-720h720v720H120Zm60-500h600v-160H180v160Zm220 220h160v-160H400v160Zm0 220h160v-160H400v160ZM180-400h160v-160H180v160Zm440 0h160v-160H620v160ZM180-180h160v-160H180v160Zm440 0h160v-160H620v160Z\"/>\n",
              "  </svg>\n",
              "    </button>\n",
              "\n",
              "  <style>\n",
              "    .colab-df-container {\n",
              "      display:flex;\n",
              "      gap: 12px;\n",
              "    }\n",
              "\n",
              "    .colab-df-convert {\n",
              "      background-color: #E8F0FE;\n",
              "      border: none;\n",
              "      border-radius: 50%;\n",
              "      cursor: pointer;\n",
              "      display: none;\n",
              "      fill: #1967D2;\n",
              "      height: 32px;\n",
              "      padding: 0 0 0 0;\n",
              "      width: 32px;\n",
              "    }\n",
              "\n",
              "    .colab-df-convert:hover {\n",
              "      background-color: #E2EBFA;\n",
              "      box-shadow: 0px 1px 2px rgba(60, 64, 67, 0.3), 0px 1px 3px 1px rgba(60, 64, 67, 0.15);\n",
              "      fill: #174EA6;\n",
              "    }\n",
              "\n",
              "    .colab-df-buttons div {\n",
              "      margin-bottom: 4px;\n",
              "    }\n",
              "\n",
              "    [theme=dark] .colab-df-convert {\n",
              "      background-color: #3B4455;\n",
              "      fill: #D2E3FC;\n",
              "    }\n",
              "\n",
              "    [theme=dark] .colab-df-convert:hover {\n",
              "      background-color: #434B5C;\n",
              "      box-shadow: 0px 1px 3px 1px rgba(0, 0, 0, 0.15);\n",
              "      filter: drop-shadow(0px 1px 2px rgba(0, 0, 0, 0.3));\n",
              "      fill: #FFFFFF;\n",
              "    }\n",
              "  </style>\n",
              "\n",
              "    <script>\n",
              "      const buttonEl =\n",
              "        document.querySelector('#df-b9f48215-b90c-466e-847d-59d2ffcc2e1d button.colab-df-convert');\n",
              "      buttonEl.style.display =\n",
              "        google.colab.kernel.accessAllowed ? 'block' : 'none';\n",
              "\n",
              "      async function convertToInteractive(key) {\n",
              "        const element = document.querySelector('#df-b9f48215-b90c-466e-847d-59d2ffcc2e1d');\n",
              "        const dataTable =\n",
              "          await google.colab.kernel.invokeFunction('convertToInteractive',\n",
              "                                                    [key], {});\n",
              "        if (!dataTable) return;\n",
              "\n",
              "        const docLinkHtml = 'Like what you see? Visit the ' +\n",
              "          '<a target=\"_blank\" href=https://colab.research.google.com/notebooks/data_table.ipynb>data table notebook</a>'\n",
              "          + ' to learn more about interactive tables.';\n",
              "        element.innerHTML = '';\n",
              "        dataTable['output_type'] = 'display_data';\n",
              "        await google.colab.output.renderOutput(dataTable, element);\n",
              "        const docLink = document.createElement('div');\n",
              "        docLink.innerHTML = docLinkHtml;\n",
              "        element.appendChild(docLink);\n",
              "      }\n",
              "    </script>\n",
              "  </div>\n",
              "\n",
              "\n",
              "<div id=\"df-d47638d6-fb4a-4315-a74b-47da7d38ffd9\">\n",
              "  <button class=\"colab-df-quickchart\" onclick=\"quickchart('df-d47638d6-fb4a-4315-a74b-47da7d38ffd9')\"\n",
              "            title=\"Suggest charts\"\n",
              "            style=\"display:none;\">\n",
              "\n",
              "<svg xmlns=\"http://www.w3.org/2000/svg\" height=\"24px\"viewBox=\"0 0 24 24\"\n",
              "     width=\"24px\">\n",
              "    <g>\n",
              "        <path d=\"M19 3H5c-1.1 0-2 .9-2 2v14c0 1.1.9 2 2 2h14c1.1 0 2-.9 2-2V5c0-1.1-.9-2-2-2zM9 17H7v-7h2v7zm4 0h-2V7h2v10zm4 0h-2v-4h2v4z\"/>\n",
              "    </g>\n",
              "</svg>\n",
              "  </button>\n",
              "\n",
              "<style>\n",
              "  .colab-df-quickchart {\n",
              "      --bg-color: #E8F0FE;\n",
              "      --fill-color: #1967D2;\n",
              "      --hover-bg-color: #E2EBFA;\n",
              "      --hover-fill-color: #174EA6;\n",
              "      --disabled-fill-color: #AAA;\n",
              "      --disabled-bg-color: #DDD;\n",
              "  }\n",
              "\n",
              "  [theme=dark] .colab-df-quickchart {\n",
              "      --bg-color: #3B4455;\n",
              "      --fill-color: #D2E3FC;\n",
              "      --hover-bg-color: #434B5C;\n",
              "      --hover-fill-color: #FFFFFF;\n",
              "      --disabled-bg-color: #3B4455;\n",
              "      --disabled-fill-color: #666;\n",
              "  }\n",
              "\n",
              "  .colab-df-quickchart {\n",
              "    background-color: var(--bg-color);\n",
              "    border: none;\n",
              "    border-radius: 50%;\n",
              "    cursor: pointer;\n",
              "    display: none;\n",
              "    fill: var(--fill-color);\n",
              "    height: 32px;\n",
              "    padding: 0;\n",
              "    width: 32px;\n",
              "  }\n",
              "\n",
              "  .colab-df-quickchart:hover {\n",
              "    background-color: var(--hover-bg-color);\n",
              "    box-shadow: 0 1px 2px rgba(60, 64, 67, 0.3), 0 1px 3px 1px rgba(60, 64, 67, 0.15);\n",
              "    fill: var(--button-hover-fill-color);\n",
              "  }\n",
              "\n",
              "  .colab-df-quickchart-complete:disabled,\n",
              "  .colab-df-quickchart-complete:disabled:hover {\n",
              "    background-color: var(--disabled-bg-color);\n",
              "    fill: var(--disabled-fill-color);\n",
              "    box-shadow: none;\n",
              "  }\n",
              "\n",
              "  .colab-df-spinner {\n",
              "    border: 2px solid var(--fill-color);\n",
              "    border-color: transparent;\n",
              "    border-bottom-color: var(--fill-color);\n",
              "    animation:\n",
              "      spin 1s steps(1) infinite;\n",
              "  }\n",
              "\n",
              "  @keyframes spin {\n",
              "    0% {\n",
              "      border-color: transparent;\n",
              "      border-bottom-color: var(--fill-color);\n",
              "      border-left-color: var(--fill-color);\n",
              "    }\n",
              "    20% {\n",
              "      border-color: transparent;\n",
              "      border-left-color: var(--fill-color);\n",
              "      border-top-color: var(--fill-color);\n",
              "    }\n",
              "    30% {\n",
              "      border-color: transparent;\n",
              "      border-left-color: var(--fill-color);\n",
              "      border-top-color: var(--fill-color);\n",
              "      border-right-color: var(--fill-color);\n",
              "    }\n",
              "    40% {\n",
              "      border-color: transparent;\n",
              "      border-right-color: var(--fill-color);\n",
              "      border-top-color: var(--fill-color);\n",
              "    }\n",
              "    60% {\n",
              "      border-color: transparent;\n",
              "      border-right-color: var(--fill-color);\n",
              "    }\n",
              "    80% {\n",
              "      border-color: transparent;\n",
              "      border-right-color: var(--fill-color);\n",
              "      border-bottom-color: var(--fill-color);\n",
              "    }\n",
              "    90% {\n",
              "      border-color: transparent;\n",
              "      border-bottom-color: var(--fill-color);\n",
              "    }\n",
              "  }\n",
              "</style>\n",
              "\n",
              "  <script>\n",
              "    async function quickchart(key) {\n",
              "      const quickchartButtonEl =\n",
              "        document.querySelector('#' + key + ' button');\n",
              "      quickchartButtonEl.disabled = true;  // To prevent multiple clicks.\n",
              "      quickchartButtonEl.classList.add('colab-df-spinner');\n",
              "      try {\n",
              "        const charts = await google.colab.kernel.invokeFunction(\n",
              "            'suggestCharts', [key], {});\n",
              "      } catch (error) {\n",
              "        console.error('Error during call to suggestCharts:', error);\n",
              "      }\n",
              "      quickchartButtonEl.classList.remove('colab-df-spinner');\n",
              "      quickchartButtonEl.classList.add('colab-df-quickchart-complete');\n",
              "    }\n",
              "    (() => {\n",
              "      let quickchartButtonEl =\n",
              "        document.querySelector('#df-d47638d6-fb4a-4315-a74b-47da7d38ffd9 button');\n",
              "      quickchartButtonEl.style.display =\n",
              "        google.colab.kernel.accessAllowed ? 'block' : 'none';\n",
              "    })();\n",
              "  </script>\n",
              "</div>\n",
              "\n",
              "    </div>\n",
              "  </div>\n"
            ],
            "application/vnd.google.colaboratory.intrinsic+json": {
              "type": "dataframe",
              "summary": "{\n  \"name\": \"df\",\n  \"rows\": 5,\n  \"fields\": [\n    {\n      \"column\": \"artist\",\n      \"properties\": {\n        \"dtype\": \"category\",\n        \"num_unique_values\": 1,\n        \"samples\": [\n          \"Doors\"\n        ],\n        \"semantic_type\": \"\",\n        \"description\": \"\"\n      }\n    },\n    {\n      \"column\": \"song\",\n      \"properties\": {\n        \"dtype\": \"string\",\n        \"num_unique_values\": 5,\n        \"samples\": [\n          \"Universal Mind\"\n        ],\n        \"semantic_type\": \"\",\n        \"description\": \"\"\n      }\n    },\n    {\n      \"column\": \"link\",\n      \"properties\": {\n        \"dtype\": \"string\",\n        \"num_unique_values\": 5,\n        \"samples\": [\n          \"/d/doors/universal+mind_20042690.html\"\n        ],\n        \"semantic_type\": \"\",\n        \"description\": \"\"\n      }\n    },\n    {\n      \"column\": \"text\",\n      \"properties\": {\n        \"dtype\": \"string\",\n        \"num_unique_values\": 5,\n        \"samples\": [\n          \"I was doing time  \\r\\nIn the universal mind  \\r\\nI was feeling fine  \\r\\nI was turning keys  \\r\\nI was setting people free  \\r\\nI was doing all right  \\r\\nThen you came along  \\r\\nWith a suitcase and a song  \\r\\nTurned my head around  \\r\\nNow I'm so alone  \\r\\nJust looking for a home  \\r\\nIn every place I see  \\r\\n  \\r\\nI'm the freedom man  \\r\\nI'm the freedom man  \\r\\nI'm the freedom man  \\r\\nThat's how lucky I am  \\r\\n  \\r\\nI was doing time  \\r\\nIn the universal mind  \\r\\nI was feeling fine  \\r\\nI was turning keys I was setting people free  \\r\\nI was doing all right  \\r\\n  \\r\\nThen you came along  \\r\\nWith a suitcase and a song  \\r\\nTurned my head around  \\r\\nNow I'm so alone  \\r\\nJust looking for a home  \\r\\nIn every place I see  \\r\\n  \\r\\nI'm the freedom man  \\r\\n  \\r\\nI was doing time  \\r\\nIn the universal mind  \\r\\nI was feeling fine  \\r\\nI was turning keys  \\r\\nI was setting people free  \\r\\nI was doing all right  \\r\\n  \\r\\nThen you came along  \\r\\nWith a suitcase and a song  \\r\\nTurned my head around  \\r\\nNow I'm so alone  \\r\\nJust looking for a home  \\r\\nIn every place I see  \\r\\n  \\r\\nI'm the freedom man  \\r\\nYeah, that's how lucky I am  \\r\\nI'm the freedom man  \\r\\nI'm the freedom man\\r\\n\\r\\n\"\n        ],\n        \"semantic_type\": \"\",\n        \"description\": \"\"\n      }\n    }\n  ]\n}"
            }
          },
          "metadata": {},
          "execution_count": 6
        }
      ],
      "source": [
        "df.tail(5)"
      ]
    },
    {
      "cell_type": "code",
      "execution_count": 7,
      "metadata": {
        "id": "z6BjM3CjnEEC"
      },
      "outputs": [],
      "source": [
        "df = df.sample(5000).drop('link',axis=1).reset_index(drop=True)"
      ]
    },
    {
      "cell_type": "code",
      "execution_count": 8,
      "metadata": {
        "id": "R4IFKs1ZnEBt",
        "colab": {
          "base_uri": "https://localhost:8080/",
          "height": 536
        },
        "outputId": "8a5b4c50-dfb3-4680-9799-456b41ae8a15"
      },
      "outputs": [
        {
          "output_type": "execute_result",
          "data": {
            "text/plain": [
              "            artist                            song  \\\n",
              "0         R. Kelly  Money Makes The World Go Round   \n",
              "1          Alabama        Louisiana Saturday Night   \n",
              "2           Pogues                     Jesse James   \n",
              "3    Cliff Richard                    More To Life   \n",
              "4       Diana Ross                        My Place   \n",
              "5   Paul McCartney                       Blackbird   \n",
              "6   Elvis Costello                   High Fidelity   \n",
              "7          Hollies                          Romany   \n",
              "8          Il Divo                Esisti Dentro Me   \n",
              "9  David Allan Coe                A Sense Of Humor   \n",
              "\n",
              "                                                text  \n",
              "0  [Nas]  \\r\\nQB  \\r\\nChitown  \\r\\nMoney make the...  \n",
              "1  Well you get down the fiddle and you get down ...  \n",
              "2  Jesse James we understand  \\r\\nHas killed many...  \n",
              "3  Free to turn like the wind on a summer day  \\r...  \n",
              "4  This is my place  \\r\\nAnd I want to share it w...  \n",
              "5  Blackbird singing in the dead of night, take t...  \n",
              "6  Some things you never get used to  \\r\\nEven th...  \n",
              "7  Take me home  \\r\\nSailing on with Romany  \\r\\n...  \n",
              "8  Il tempo non cancellera  \\r\\nIl nostro amore r...  \n",
              "9  Every night another woman every day a differen...  "
            ],
            "text/html": [
              "\n",
              "  <div id=\"df-64e5b7d4-d695-4051-8c47-0a18f721ac06\" class=\"colab-df-container\">\n",
              "    <div>\n",
              "<style scoped>\n",
              "    .dataframe tbody tr th:only-of-type {\n",
              "        vertical-align: middle;\n",
              "    }\n",
              "\n",
              "    .dataframe tbody tr th {\n",
              "        vertical-align: top;\n",
              "    }\n",
              "\n",
              "    .dataframe thead th {\n",
              "        text-align: right;\n",
              "    }\n",
              "</style>\n",
              "<table border=\"1\" class=\"dataframe\">\n",
              "  <thead>\n",
              "    <tr style=\"text-align: right;\">\n",
              "      <th></th>\n",
              "      <th>artist</th>\n",
              "      <th>song</th>\n",
              "      <th>text</th>\n",
              "    </tr>\n",
              "  </thead>\n",
              "  <tbody>\n",
              "    <tr>\n",
              "      <th>0</th>\n",
              "      <td>R. Kelly</td>\n",
              "      <td>Money Makes The World Go Round</td>\n",
              "      <td>[Nas]  \\r\\nQB  \\r\\nChitown  \\r\\nMoney make the...</td>\n",
              "    </tr>\n",
              "    <tr>\n",
              "      <th>1</th>\n",
              "      <td>Alabama</td>\n",
              "      <td>Louisiana Saturday Night</td>\n",
              "      <td>Well you get down the fiddle and you get down ...</td>\n",
              "    </tr>\n",
              "    <tr>\n",
              "      <th>2</th>\n",
              "      <td>Pogues</td>\n",
              "      <td>Jesse James</td>\n",
              "      <td>Jesse James we understand  \\r\\nHas killed many...</td>\n",
              "    </tr>\n",
              "    <tr>\n",
              "      <th>3</th>\n",
              "      <td>Cliff Richard</td>\n",
              "      <td>More To Life</td>\n",
              "      <td>Free to turn like the wind on a summer day  \\r...</td>\n",
              "    </tr>\n",
              "    <tr>\n",
              "      <th>4</th>\n",
              "      <td>Diana Ross</td>\n",
              "      <td>My Place</td>\n",
              "      <td>This is my place  \\r\\nAnd I want to share it w...</td>\n",
              "    </tr>\n",
              "    <tr>\n",
              "      <th>5</th>\n",
              "      <td>Paul McCartney</td>\n",
              "      <td>Blackbird</td>\n",
              "      <td>Blackbird singing in the dead of night, take t...</td>\n",
              "    </tr>\n",
              "    <tr>\n",
              "      <th>6</th>\n",
              "      <td>Elvis Costello</td>\n",
              "      <td>High Fidelity</td>\n",
              "      <td>Some things you never get used to  \\r\\nEven th...</td>\n",
              "    </tr>\n",
              "    <tr>\n",
              "      <th>7</th>\n",
              "      <td>Hollies</td>\n",
              "      <td>Romany</td>\n",
              "      <td>Take me home  \\r\\nSailing on with Romany  \\r\\n...</td>\n",
              "    </tr>\n",
              "    <tr>\n",
              "      <th>8</th>\n",
              "      <td>Il Divo</td>\n",
              "      <td>Esisti Dentro Me</td>\n",
              "      <td>Il tempo non cancellera  \\r\\nIl nostro amore r...</td>\n",
              "    </tr>\n",
              "    <tr>\n",
              "      <th>9</th>\n",
              "      <td>David Allan Coe</td>\n",
              "      <td>A Sense Of Humor</td>\n",
              "      <td>Every night another woman every day a differen...</td>\n",
              "    </tr>\n",
              "  </tbody>\n",
              "</table>\n",
              "</div>\n",
              "    <div class=\"colab-df-buttons\">\n",
              "\n",
              "  <div class=\"colab-df-container\">\n",
              "    <button class=\"colab-df-convert\" onclick=\"convertToInteractive('df-64e5b7d4-d695-4051-8c47-0a18f721ac06')\"\n",
              "            title=\"Convert this dataframe to an interactive table.\"\n",
              "            style=\"display:none;\">\n",
              "\n",
              "  <svg xmlns=\"http://www.w3.org/2000/svg\" height=\"24px\" viewBox=\"0 -960 960 960\">\n",
              "    <path d=\"M120-120v-720h720v720H120Zm60-500h600v-160H180v160Zm220 220h160v-160H400v160Zm0 220h160v-160H400v160ZM180-400h160v-160H180v160Zm440 0h160v-160H620v160ZM180-180h160v-160H180v160Zm440 0h160v-160H620v160Z\"/>\n",
              "  </svg>\n",
              "    </button>\n",
              "\n",
              "  <style>\n",
              "    .colab-df-container {\n",
              "      display:flex;\n",
              "      gap: 12px;\n",
              "    }\n",
              "\n",
              "    .colab-df-convert {\n",
              "      background-color: #E8F0FE;\n",
              "      border: none;\n",
              "      border-radius: 50%;\n",
              "      cursor: pointer;\n",
              "      display: none;\n",
              "      fill: #1967D2;\n",
              "      height: 32px;\n",
              "      padding: 0 0 0 0;\n",
              "      width: 32px;\n",
              "    }\n",
              "\n",
              "    .colab-df-convert:hover {\n",
              "      background-color: #E2EBFA;\n",
              "      box-shadow: 0px 1px 2px rgba(60, 64, 67, 0.3), 0px 1px 3px 1px rgba(60, 64, 67, 0.15);\n",
              "      fill: #174EA6;\n",
              "    }\n",
              "\n",
              "    .colab-df-buttons div {\n",
              "      margin-bottom: 4px;\n",
              "    }\n",
              "\n",
              "    [theme=dark] .colab-df-convert {\n",
              "      background-color: #3B4455;\n",
              "      fill: #D2E3FC;\n",
              "    }\n",
              "\n",
              "    [theme=dark] .colab-df-convert:hover {\n",
              "      background-color: #434B5C;\n",
              "      box-shadow: 0px 1px 3px 1px rgba(0, 0, 0, 0.15);\n",
              "      filter: drop-shadow(0px 1px 2px rgba(0, 0, 0, 0.3));\n",
              "      fill: #FFFFFF;\n",
              "    }\n",
              "  </style>\n",
              "\n",
              "    <script>\n",
              "      const buttonEl =\n",
              "        document.querySelector('#df-64e5b7d4-d695-4051-8c47-0a18f721ac06 button.colab-df-convert');\n",
              "      buttonEl.style.display =\n",
              "        google.colab.kernel.accessAllowed ? 'block' : 'none';\n",
              "\n",
              "      async function convertToInteractive(key) {\n",
              "        const element = document.querySelector('#df-64e5b7d4-d695-4051-8c47-0a18f721ac06');\n",
              "        const dataTable =\n",
              "          await google.colab.kernel.invokeFunction('convertToInteractive',\n",
              "                                                    [key], {});\n",
              "        if (!dataTable) return;\n",
              "\n",
              "        const docLinkHtml = 'Like what you see? Visit the ' +\n",
              "          '<a target=\"_blank\" href=https://colab.research.google.com/notebooks/data_table.ipynb>data table notebook</a>'\n",
              "          + ' to learn more about interactive tables.';\n",
              "        element.innerHTML = '';\n",
              "        dataTable['output_type'] = 'display_data';\n",
              "        await google.colab.output.renderOutput(dataTable, element);\n",
              "        const docLink = document.createElement('div');\n",
              "        docLink.innerHTML = docLinkHtml;\n",
              "        element.appendChild(docLink);\n",
              "      }\n",
              "    </script>\n",
              "  </div>\n",
              "\n",
              "\n",
              "<div id=\"df-e3b402f5-8774-4587-9eda-b3c259cc5995\">\n",
              "  <button class=\"colab-df-quickchart\" onclick=\"quickchart('df-e3b402f5-8774-4587-9eda-b3c259cc5995')\"\n",
              "            title=\"Suggest charts\"\n",
              "            style=\"display:none;\">\n",
              "\n",
              "<svg xmlns=\"http://www.w3.org/2000/svg\" height=\"24px\"viewBox=\"0 0 24 24\"\n",
              "     width=\"24px\">\n",
              "    <g>\n",
              "        <path d=\"M19 3H5c-1.1 0-2 .9-2 2v14c0 1.1.9 2 2 2h14c1.1 0 2-.9 2-2V5c0-1.1-.9-2-2-2zM9 17H7v-7h2v7zm4 0h-2V7h2v10zm4 0h-2v-4h2v4z\"/>\n",
              "    </g>\n",
              "</svg>\n",
              "  </button>\n",
              "\n",
              "<style>\n",
              "  .colab-df-quickchart {\n",
              "      --bg-color: #E8F0FE;\n",
              "      --fill-color: #1967D2;\n",
              "      --hover-bg-color: #E2EBFA;\n",
              "      --hover-fill-color: #174EA6;\n",
              "      --disabled-fill-color: #AAA;\n",
              "      --disabled-bg-color: #DDD;\n",
              "  }\n",
              "\n",
              "  [theme=dark] .colab-df-quickchart {\n",
              "      --bg-color: #3B4455;\n",
              "      --fill-color: #D2E3FC;\n",
              "      --hover-bg-color: #434B5C;\n",
              "      --hover-fill-color: #FFFFFF;\n",
              "      --disabled-bg-color: #3B4455;\n",
              "      --disabled-fill-color: #666;\n",
              "  }\n",
              "\n",
              "  .colab-df-quickchart {\n",
              "    background-color: var(--bg-color);\n",
              "    border: none;\n",
              "    border-radius: 50%;\n",
              "    cursor: pointer;\n",
              "    display: none;\n",
              "    fill: var(--fill-color);\n",
              "    height: 32px;\n",
              "    padding: 0;\n",
              "    width: 32px;\n",
              "  }\n",
              "\n",
              "  .colab-df-quickchart:hover {\n",
              "    background-color: var(--hover-bg-color);\n",
              "    box-shadow: 0 1px 2px rgba(60, 64, 67, 0.3), 0 1px 3px 1px rgba(60, 64, 67, 0.15);\n",
              "    fill: var(--button-hover-fill-color);\n",
              "  }\n",
              "\n",
              "  .colab-df-quickchart-complete:disabled,\n",
              "  .colab-df-quickchart-complete:disabled:hover {\n",
              "    background-color: var(--disabled-bg-color);\n",
              "    fill: var(--disabled-fill-color);\n",
              "    box-shadow: none;\n",
              "  }\n",
              "\n",
              "  .colab-df-spinner {\n",
              "    border: 2px solid var(--fill-color);\n",
              "    border-color: transparent;\n",
              "    border-bottom-color: var(--fill-color);\n",
              "    animation:\n",
              "      spin 1s steps(1) infinite;\n",
              "  }\n",
              "\n",
              "  @keyframes spin {\n",
              "    0% {\n",
              "      border-color: transparent;\n",
              "      border-bottom-color: var(--fill-color);\n",
              "      border-left-color: var(--fill-color);\n",
              "    }\n",
              "    20% {\n",
              "      border-color: transparent;\n",
              "      border-left-color: var(--fill-color);\n",
              "      border-top-color: var(--fill-color);\n",
              "    }\n",
              "    30% {\n",
              "      border-color: transparent;\n",
              "      border-left-color: var(--fill-color);\n",
              "      border-top-color: var(--fill-color);\n",
              "      border-right-color: var(--fill-color);\n",
              "    }\n",
              "    40% {\n",
              "      border-color: transparent;\n",
              "      border-right-color: var(--fill-color);\n",
              "      border-top-color: var(--fill-color);\n",
              "    }\n",
              "    60% {\n",
              "      border-color: transparent;\n",
              "      border-right-color: var(--fill-color);\n",
              "    }\n",
              "    80% {\n",
              "      border-color: transparent;\n",
              "      border-right-color: var(--fill-color);\n",
              "      border-bottom-color: var(--fill-color);\n",
              "    }\n",
              "    90% {\n",
              "      border-color: transparent;\n",
              "      border-bottom-color: var(--fill-color);\n",
              "    }\n",
              "  }\n",
              "</style>\n",
              "\n",
              "  <script>\n",
              "    async function quickchart(key) {\n",
              "      const quickchartButtonEl =\n",
              "        document.querySelector('#' + key + ' button');\n",
              "      quickchartButtonEl.disabled = true;  // To prevent multiple clicks.\n",
              "      quickchartButtonEl.classList.add('colab-df-spinner');\n",
              "      try {\n",
              "        const charts = await google.colab.kernel.invokeFunction(\n",
              "            'suggestCharts', [key], {});\n",
              "      } catch (error) {\n",
              "        console.error('Error during call to suggestCharts:', error);\n",
              "      }\n",
              "      quickchartButtonEl.classList.remove('colab-df-spinner');\n",
              "      quickchartButtonEl.classList.add('colab-df-quickchart-complete');\n",
              "    }\n",
              "    (() => {\n",
              "      let quickchartButtonEl =\n",
              "        document.querySelector('#df-e3b402f5-8774-4587-9eda-b3c259cc5995 button');\n",
              "      quickchartButtonEl.style.display =\n",
              "        google.colab.kernel.accessAllowed ? 'block' : 'none';\n",
              "    })();\n",
              "  </script>\n",
              "</div>\n",
              "\n",
              "    </div>\n",
              "  </div>\n"
            ],
            "application/vnd.google.colaboratory.intrinsic+json": {
              "type": "dataframe",
              "variable_name": "df",
              "summary": "{\n  \"name\": \"df\",\n  \"rows\": 5000,\n  \"fields\": [\n    {\n      \"column\": \"artist\",\n      \"properties\": {\n        \"dtype\": \"category\",\n        \"num_unique_values\": 591,\n        \"samples\": [\n          \"Sublime\",\n          \"Doris Day\",\n          \"Yonder Mountain String Band\"\n        ],\n        \"semantic_type\": \"\",\n        \"description\": \"\"\n      }\n    },\n    {\n      \"column\": \"song\",\n      \"properties\": {\n        \"dtype\": \"string\",\n        \"num_unique_values\": 4776,\n        \"samples\": [\n          \"Loneliness\",\n          \"Only Time Will Tell\",\n          \"Believe It Or Not\"\n        ],\n        \"semantic_type\": \"\",\n        \"description\": \"\"\n      }\n    },\n    {\n      \"column\": \"text\",\n      \"properties\": {\n        \"dtype\": \"string\",\n        \"num_unique_values\": 4999,\n        \"samples\": [\n          \"I knew all of this was coming  \\r\\nAin't that odd  \\r\\nSome things come out of nothing  \\r\\nAs with god  \\r\\nNot my intention to amuse  \\r\\nOr confuse  \\r\\n  \\r\\nI've been down to the kitchen  \\r\\nPlayed my part  \\r\\nMapped out all all contradictions  \\r\\nOf the heart  \\r\\nThen someone came and stole my shoes  \\r\\nA situation I tried to diffuse  \\r\\n  \\r\\nLong way back clouds were forming  \\r\\nIf by choice  \\r\\nSome things come as a warning  \\r\\nHear their voice  \\r\\nI wish that I could change its hue  \\r\\nPaint it blue  \\r\\nBut when I think what I could lose  \\r\\nAll other options disappear from view  \\r\\n  \\r\\nWhen I choose  \\r\\nI choose you  \\r\\nI choose you\\r\\n\\r\\n\",\n          \"Everybody wants to leave  \\r\\nJust like you and I  \\r\\nI have all year to smile  \\r\\nA tear for every eye  \\r\\n  \\r\\nLife closed it's eyes, broke my world, now I cry  \\r\\nI've got to tell you, I've got the reasons  \\r\\n'Cause I'm a man, a man for all seasons, alive  \\r\\n  \\r\\nAnd would I pray  \\r\\nWhat makes the world go round  \\r\\nI haven't got today  \\r\\nMy mind is lost and found  \\r\\n  \\r\\nLife closed it's eyes and said goodbye, now I cry  \\r\\nBut I've got to tell you, I've got my reasons  \\r\\n'Cause I'm a man, a man for all seasons, alive  \\r\\nAnd would I pray what makes the world go round  \\r\\nI haven't got today, my mind is lost and found  \\r\\nDo do do do do do do  \\r\\n  \\r\\nI'm a man for all seasons [Repeat: x4]\\r\\n\\r\\n\",\n          \"I dreamed a dream in times gone by  \\r\\nWhen hope was high and life worth living  \\r\\nI dreamed that love would never die  \\r\\nI dreamed that God would be forgiving  \\r\\n  \\r\\nThen I was young and unafraid  \\r\\nAnd dreams were made and used and wasted  \\r\\nThere was no ransom to be paid  \\r\\nNo song unsung no wine untasted  \\r\\n  \\r\\nBut the tigers come at night  \\r\\nWith their voices soft as thunder  \\r\\nAs they tear your hope apart  \\r\\nAs they turn your dream to shame  \\r\\n  \\r\\nAnd still I dreamed she'll come to me  \\r\\nThat we would live the years together  \\r\\nBut there are dreams that cannot be  \\r\\nAnd there are storms we cannot weather  \\r\\n  \\r\\nI had a dream my life would be  \\r\\nSo diff'rent from this hell I'm living  \\r\\nSo diff'rent now from what it seemed  \\r\\nNow life has killed the dream I dreamed\\r\\n\\r\\n\"\n        ],\n        \"semantic_type\": \"\",\n        \"description\": \"\"\n      }\n    }\n  ]\n}"
            }
          },
          "metadata": {},
          "execution_count": 8
        }
      ],
      "source": [
        "df.head(10)"
      ]
    },
    {
      "cell_type": "code",
      "execution_count": 9,
      "metadata": {
        "id": "QulVxOldnD-k",
        "colab": {
          "base_uri": "https://localhost:8080/",
          "height": 254
        },
        "outputId": "3a5b4343-8f3c-4e7f-917c-5f2057e38581"
      },
      "outputs": [
        {
          "output_type": "execute_result",
          "data": {
            "text/plain": [
              "\"[Nas]  \\r\\nQB  \\r\\nChitown  \\r\\nMoney make the world go round  \\r\\nMoney make the world go round  \\r\\n(What? Go money)  \\r\\nMoney makes the world go round  \\r\\nTM  \\r\\n  \\r\\nYo, for those who live the way that I live  \\r\\nWe came a long way  \\r\\nFrom wiping coal outta eyelids, to rap's hottest  \\r\\nFake Gazelles to black Pradas  \\r\\nSelling nicks to trey bags, to making hits like Kidada Jones' father  \\r\\nOG's would send me to the store with a dollar  \\r\\nHit me with some wise advice for me to follow  \\r\\nAin't nothing free in the world in life  \\r\\nNo matter who you are, everybody got they price  \\r\\nAnd some cost more than other's  \\r\\nWhen you poor, it's like life ain't even worth living  \\r\\nBut when you rich, it's every fat ass worth hittin'  \\r\\nWith no chips, your drawers just stay on your hips  \\r\\nI play with the six cuz money make the whole world spin  \\r\\nBut without the Franklin faces, you see who's your real friends  \\r\\nIt's V-12's, honeys on the cell, bobbin' out the JBL  \\r\\nIt's Nas and R. Kell  \\r\\n  \\r\\n[R. Kelly]  \\r\\nNever thought that I'd ever live this life  \\r\\nMoney stacked in rolls, honeys on each side  \\r\\nAnything I want, I can say it's mine  \\r\\nNo more worries 'bout how can I provide  \\r\\n  \\r\\nMoney makes the world go round  \\r\\n(Nothin' move but the money)  \\r\\nYou believe it if you want to  \\r\\nMoney makes the world go round  \\r\\n(Said nothin' move but the money)  \\r\\n  \\r\\n[R. Kelly]  \\r\\nOh, many say it's wrong cause I love to spend  \\r\\nIce in everything countin' Benjamins  \\r\\nAll I wanna do try, and let you know  \\r\\nIf you don't believe, ask someone who's broke  \\r\\n  \\r\\nMoney makes the world go round  \\r\\n(Money makes the world go round)  \\r\\nYou believe it if you want to  \\r\\nMoney makes the world go round  \\r\\nYes it does  \\r\\n(Still nuttin' move but the money)  \\r\\nSaid money makes the world go round  \\r\\n(Money make the world go round, what?  \\r\\nStill nuttin' move but the money)  \\r\\nNothing but the money  \\r\\nMoney makes the world go round  \\r\\nYes it does  \\r\\n  \\r\\nFeels so good, yeah, yeah  \\r\\nSo good, this life I finally live  \\r\\nAnd feels so real  \\r\\nSo real this freedom I finally feel  \\r\\nShow me the money  \\r\\n  \\r\\nMoney makes the world go round  \\r\\n(Go money, go money)  \\r\\nYou believe it if you want to  \\r\\nMoney makes the world go round  \\r\\n(Go money, go money, yo)  \\r\\nSaid that almighty dollar  \\r\\nMoney makes the world go round  \\r\\nYes it does  \\r\\n(Still don't nuttin' move but the money)  \\r\\nThis brother's got to have it  \\r\\nMoney makes the world go round  \\r\\nFrom sun up till the sun goes down  \\r\\n(Yeah, what?)  \\r\\nSo much money  \\r\\n  \\r\\nMoney makes the world go round  \\r\\nHey, makes the world go round  \\r\\nMoney makes the world go round  \\r\\n  \\r\\nMoney makes the world go round  \\r\\nShow me a man that don't need money  \\r\\nMoney makes the world go around  \\r\\nAnd I'll show you a world  \\r\\n(Show me a world)  \\r\\nStanding still, oh  \\r\\nMoney makes the world go round  \\r\\nYes it does, talking 'bout the loot  \\r\\nMoney makes the world go round\\r\\n\\r\\n\""
            ],
            "application/vnd.google.colaboratory.intrinsic+json": {
              "type": "string"
            }
          },
          "metadata": {},
          "execution_count": 9
        }
      ],
      "source": [
        "df['text'][0]"
      ]
    },
    {
      "cell_type": "markdown",
      "metadata": {
        "id": "zTZvoofxwN24"
      },
      "source": [
        "**TEXT CLEANING / TEXT PRE-PROCESSING**\n"
      ]
    },
    {
      "cell_type": "code",
      "execution_count": 10,
      "metadata": {
        "id": "f5mIRz_InD45",
        "colab": {
          "base_uri": "https://localhost:8080/"
        },
        "outputId": "2aa2fe4b-80ac-4651-fe31-f2c63d69ede1"
      },
      "outputs": [
        {
          "output_type": "execute_result",
          "data": {
            "text/plain": [
              "(5000, 3)"
            ]
          },
          "metadata": {},
          "execution_count": 10
        }
      ],
      "source": [
        "df.shape"
      ]
    },
    {
      "cell_type": "code",
      "execution_count": 11,
      "metadata": {
        "id": "k760YSmxnD2K"
      },
      "outputs": [],
      "source": [
        "df['text'] = df['text'].str.lower().replace(r'^\\w\\s','').replace(r'\\n',' ',regex=True)"
      ]
    },
    {
      "cell_type": "markdown",
      "metadata": {
        "id": "-p6fYgD8yQAz"
      },
      "source": [
        "**TEXTUAL DATA -> NUMERICAL VECTORS using:**\n",
        "1. N-Gram\n",
        "2. TF-IDF (Term Frequency - Inverse Document Frequency)\n",
        "3. BAG-of-WORDS\n",
        "\n",
        "**TEXT PROCESSING: enhance ability to represent & analyze textual data**\n",
        "1. WORD2VEC\n",
        "2. AVERAGE WORD2VEC"
      ]
    },
    {
      "cell_type": "markdown",
      "metadata": {
        "id": "DCMo0VYf8z_A"
      },
      "source": [
        "**COSINE SIMILARITY**:\n",
        "\n"
      ]
    },
    {
      "cell_type": "code",
      "execution_count": 12,
      "metadata": {
        "id": "LB8JM_3WnDzU",
        "colab": {
          "base_uri": "https://localhost:8080/",
          "height": 293
        },
        "outputId": "09aece9d-0ce0-4cf3-b14d-3684ce1014a8"
      },
      "outputs": [
        {
          "output_type": "execute_result",
          "data": {
            "text/plain": [
              "             artist                          song  \\\n",
              "4995  Alison Krauss            Here Comes Goodbye   \n",
              "4996    Josh Groban  I Can't Take My Eyes Off You   \n",
              "4997   Depeche Mode              Behind The Wheel   \n",
              "4998     Bob Marley                I Know A Place   \n",
              "4999       Megadeth                     Crush 'em   \n",
              "\n",
              "                                                   text  \n",
              "4995  i can hear those lonesome midnight sighs in yo...  \n",
              "4996  and so it is  \\r just like you said it would b...  \n",
              "4997  my little girl  \\r drive anywhere  \\r do what ...  \n",
              "4998  bado, scoobado, scoobado-bado-bado. oh, wo-yo-...  \n",
              "4999  enter the arena and hit the lights  \\r step up...  "
            ],
            "text/html": [
              "\n",
              "  <div id=\"df-0453518b-b428-4e31-93d6-48e59922223a\" class=\"colab-df-container\">\n",
              "    <div>\n",
              "<style scoped>\n",
              "    .dataframe tbody tr th:only-of-type {\n",
              "        vertical-align: middle;\n",
              "    }\n",
              "\n",
              "    .dataframe tbody tr th {\n",
              "        vertical-align: top;\n",
              "    }\n",
              "\n",
              "    .dataframe thead th {\n",
              "        text-align: right;\n",
              "    }\n",
              "</style>\n",
              "<table border=\"1\" class=\"dataframe\">\n",
              "  <thead>\n",
              "    <tr style=\"text-align: right;\">\n",
              "      <th></th>\n",
              "      <th>artist</th>\n",
              "      <th>song</th>\n",
              "      <th>text</th>\n",
              "    </tr>\n",
              "  </thead>\n",
              "  <tbody>\n",
              "    <tr>\n",
              "      <th>4995</th>\n",
              "      <td>Alison Krauss</td>\n",
              "      <td>Here Comes Goodbye</td>\n",
              "      <td>i can hear those lonesome midnight sighs in yo...</td>\n",
              "    </tr>\n",
              "    <tr>\n",
              "      <th>4996</th>\n",
              "      <td>Josh Groban</td>\n",
              "      <td>I Can't Take My Eyes Off You</td>\n",
              "      <td>and so it is  \\r just like you said it would b...</td>\n",
              "    </tr>\n",
              "    <tr>\n",
              "      <th>4997</th>\n",
              "      <td>Depeche Mode</td>\n",
              "      <td>Behind The Wheel</td>\n",
              "      <td>my little girl  \\r drive anywhere  \\r do what ...</td>\n",
              "    </tr>\n",
              "    <tr>\n",
              "      <th>4998</th>\n",
              "      <td>Bob Marley</td>\n",
              "      <td>I Know A Place</td>\n",
              "      <td>bado, scoobado, scoobado-bado-bado. oh, wo-yo-...</td>\n",
              "    </tr>\n",
              "    <tr>\n",
              "      <th>4999</th>\n",
              "      <td>Megadeth</td>\n",
              "      <td>Crush 'em</td>\n",
              "      <td>enter the arena and hit the lights  \\r step up...</td>\n",
              "    </tr>\n",
              "  </tbody>\n",
              "</table>\n",
              "</div>\n",
              "    <div class=\"colab-df-buttons\">\n",
              "\n",
              "  <div class=\"colab-df-container\">\n",
              "    <button class=\"colab-df-convert\" onclick=\"convertToInteractive('df-0453518b-b428-4e31-93d6-48e59922223a')\"\n",
              "            title=\"Convert this dataframe to an interactive table.\"\n",
              "            style=\"display:none;\">\n",
              "\n",
              "  <svg xmlns=\"http://www.w3.org/2000/svg\" height=\"24px\" viewBox=\"0 -960 960 960\">\n",
              "    <path d=\"M120-120v-720h720v720H120Zm60-500h600v-160H180v160Zm220 220h160v-160H400v160Zm0 220h160v-160H400v160ZM180-400h160v-160H180v160Zm440 0h160v-160H620v160ZM180-180h160v-160H180v160Zm440 0h160v-160H620v160Z\"/>\n",
              "  </svg>\n",
              "    </button>\n",
              "\n",
              "  <style>\n",
              "    .colab-df-container {\n",
              "      display:flex;\n",
              "      gap: 12px;\n",
              "    }\n",
              "\n",
              "    .colab-df-convert {\n",
              "      background-color: #E8F0FE;\n",
              "      border: none;\n",
              "      border-radius: 50%;\n",
              "      cursor: pointer;\n",
              "      display: none;\n",
              "      fill: #1967D2;\n",
              "      height: 32px;\n",
              "      padding: 0 0 0 0;\n",
              "      width: 32px;\n",
              "    }\n",
              "\n",
              "    .colab-df-convert:hover {\n",
              "      background-color: #E2EBFA;\n",
              "      box-shadow: 0px 1px 2px rgba(60, 64, 67, 0.3), 0px 1px 3px 1px rgba(60, 64, 67, 0.15);\n",
              "      fill: #174EA6;\n",
              "    }\n",
              "\n",
              "    .colab-df-buttons div {\n",
              "      margin-bottom: 4px;\n",
              "    }\n",
              "\n",
              "    [theme=dark] .colab-df-convert {\n",
              "      background-color: #3B4455;\n",
              "      fill: #D2E3FC;\n",
              "    }\n",
              "\n",
              "    [theme=dark] .colab-df-convert:hover {\n",
              "      background-color: #434B5C;\n",
              "      box-shadow: 0px 1px 3px 1px rgba(0, 0, 0, 0.15);\n",
              "      filter: drop-shadow(0px 1px 2px rgba(0, 0, 0, 0.3));\n",
              "      fill: #FFFFFF;\n",
              "    }\n",
              "  </style>\n",
              "\n",
              "    <script>\n",
              "      const buttonEl =\n",
              "        document.querySelector('#df-0453518b-b428-4e31-93d6-48e59922223a button.colab-df-convert');\n",
              "      buttonEl.style.display =\n",
              "        google.colab.kernel.accessAllowed ? 'block' : 'none';\n",
              "\n",
              "      async function convertToInteractive(key) {\n",
              "        const element = document.querySelector('#df-0453518b-b428-4e31-93d6-48e59922223a');\n",
              "        const dataTable =\n",
              "          await google.colab.kernel.invokeFunction('convertToInteractive',\n",
              "                                                    [key], {});\n",
              "        if (!dataTable) return;\n",
              "\n",
              "        const docLinkHtml = 'Like what you see? Visit the ' +\n",
              "          '<a target=\"_blank\" href=https://colab.research.google.com/notebooks/data_table.ipynb>data table notebook</a>'\n",
              "          + ' to learn more about interactive tables.';\n",
              "        element.innerHTML = '';\n",
              "        dataTable['output_type'] = 'display_data';\n",
              "        await google.colab.output.renderOutput(dataTable, element);\n",
              "        const docLink = document.createElement('div');\n",
              "        docLink.innerHTML = docLinkHtml;\n",
              "        element.appendChild(docLink);\n",
              "      }\n",
              "    </script>\n",
              "  </div>\n",
              "\n",
              "\n",
              "<div id=\"df-5b803941-24ab-4dde-a864-c2906c18880a\">\n",
              "  <button class=\"colab-df-quickchart\" onclick=\"quickchart('df-5b803941-24ab-4dde-a864-c2906c18880a')\"\n",
              "            title=\"Suggest charts\"\n",
              "            style=\"display:none;\">\n",
              "\n",
              "<svg xmlns=\"http://www.w3.org/2000/svg\" height=\"24px\"viewBox=\"0 0 24 24\"\n",
              "     width=\"24px\">\n",
              "    <g>\n",
              "        <path d=\"M19 3H5c-1.1 0-2 .9-2 2v14c0 1.1.9 2 2 2h14c1.1 0 2-.9 2-2V5c0-1.1-.9-2-2-2zM9 17H7v-7h2v7zm4 0h-2V7h2v10zm4 0h-2v-4h2v4z\"/>\n",
              "    </g>\n",
              "</svg>\n",
              "  </button>\n",
              "\n",
              "<style>\n",
              "  .colab-df-quickchart {\n",
              "      --bg-color: #E8F0FE;\n",
              "      --fill-color: #1967D2;\n",
              "      --hover-bg-color: #E2EBFA;\n",
              "      --hover-fill-color: #174EA6;\n",
              "      --disabled-fill-color: #AAA;\n",
              "      --disabled-bg-color: #DDD;\n",
              "  }\n",
              "\n",
              "  [theme=dark] .colab-df-quickchart {\n",
              "      --bg-color: #3B4455;\n",
              "      --fill-color: #D2E3FC;\n",
              "      --hover-bg-color: #434B5C;\n",
              "      --hover-fill-color: #FFFFFF;\n",
              "      --disabled-bg-color: #3B4455;\n",
              "      --disabled-fill-color: #666;\n",
              "  }\n",
              "\n",
              "  .colab-df-quickchart {\n",
              "    background-color: var(--bg-color);\n",
              "    border: none;\n",
              "    border-radius: 50%;\n",
              "    cursor: pointer;\n",
              "    display: none;\n",
              "    fill: var(--fill-color);\n",
              "    height: 32px;\n",
              "    padding: 0;\n",
              "    width: 32px;\n",
              "  }\n",
              "\n",
              "  .colab-df-quickchart:hover {\n",
              "    background-color: var(--hover-bg-color);\n",
              "    box-shadow: 0 1px 2px rgba(60, 64, 67, 0.3), 0 1px 3px 1px rgba(60, 64, 67, 0.15);\n",
              "    fill: var(--button-hover-fill-color);\n",
              "  }\n",
              "\n",
              "  .colab-df-quickchart-complete:disabled,\n",
              "  .colab-df-quickchart-complete:disabled:hover {\n",
              "    background-color: var(--disabled-bg-color);\n",
              "    fill: var(--disabled-fill-color);\n",
              "    box-shadow: none;\n",
              "  }\n",
              "\n",
              "  .colab-df-spinner {\n",
              "    border: 2px solid var(--fill-color);\n",
              "    border-color: transparent;\n",
              "    border-bottom-color: var(--fill-color);\n",
              "    animation:\n",
              "      spin 1s steps(1) infinite;\n",
              "  }\n",
              "\n",
              "  @keyframes spin {\n",
              "    0% {\n",
              "      border-color: transparent;\n",
              "      border-bottom-color: var(--fill-color);\n",
              "      border-left-color: var(--fill-color);\n",
              "    }\n",
              "    20% {\n",
              "      border-color: transparent;\n",
              "      border-left-color: var(--fill-color);\n",
              "      border-top-color: var(--fill-color);\n",
              "    }\n",
              "    30% {\n",
              "      border-color: transparent;\n",
              "      border-left-color: var(--fill-color);\n",
              "      border-top-color: var(--fill-color);\n",
              "      border-right-color: var(--fill-color);\n",
              "    }\n",
              "    40% {\n",
              "      border-color: transparent;\n",
              "      border-right-color: var(--fill-color);\n",
              "      border-top-color: var(--fill-color);\n",
              "    }\n",
              "    60% {\n",
              "      border-color: transparent;\n",
              "      border-right-color: var(--fill-color);\n",
              "    }\n",
              "    80% {\n",
              "      border-color: transparent;\n",
              "      border-right-color: var(--fill-color);\n",
              "      border-bottom-color: var(--fill-color);\n",
              "    }\n",
              "    90% {\n",
              "      border-color: transparent;\n",
              "      border-bottom-color: var(--fill-color);\n",
              "    }\n",
              "  }\n",
              "</style>\n",
              "\n",
              "  <script>\n",
              "    async function quickchart(key) {\n",
              "      const quickchartButtonEl =\n",
              "        document.querySelector('#' + key + ' button');\n",
              "      quickchartButtonEl.disabled = true;  // To prevent multiple clicks.\n",
              "      quickchartButtonEl.classList.add('colab-df-spinner');\n",
              "      try {\n",
              "        const charts = await google.colab.kernel.invokeFunction(\n",
              "            'suggestCharts', [key], {});\n",
              "      } catch (error) {\n",
              "        console.error('Error during call to suggestCharts:', error);\n",
              "      }\n",
              "      quickchartButtonEl.classList.remove('colab-df-spinner');\n",
              "      quickchartButtonEl.classList.add('colab-df-quickchart-complete');\n",
              "    }\n",
              "    (() => {\n",
              "      let quickchartButtonEl =\n",
              "        document.querySelector('#df-5b803941-24ab-4dde-a864-c2906c18880a button');\n",
              "      quickchartButtonEl.style.display =\n",
              "        google.colab.kernel.accessAllowed ? 'block' : 'none';\n",
              "    })();\n",
              "  </script>\n",
              "</div>\n",
              "\n",
              "    </div>\n",
              "  </div>\n"
            ],
            "application/vnd.google.colaboratory.intrinsic+json": {
              "type": "dataframe",
              "summary": "{\n  \"name\": \"df\",\n  \"rows\": 5,\n  \"fields\": [\n    {\n      \"column\": \"artist\",\n      \"properties\": {\n        \"dtype\": \"string\",\n        \"num_unique_values\": 5,\n        \"samples\": [\n          \"Josh Groban\",\n          \"Megadeth\",\n          \"Depeche Mode\"\n        ],\n        \"semantic_type\": \"\",\n        \"description\": \"\"\n      }\n    },\n    {\n      \"column\": \"song\",\n      \"properties\": {\n        \"dtype\": \"string\",\n        \"num_unique_values\": 5,\n        \"samples\": [\n          \"I Can't Take My Eyes Off You\",\n          \"Crush 'em\",\n          \"Behind The Wheel\"\n        ],\n        \"semantic_type\": \"\",\n        \"description\": \"\"\n      }\n    },\n    {\n      \"column\": \"text\",\n      \"properties\": {\n        \"dtype\": \"string\",\n        \"num_unique_values\": 5,\n        \"samples\": [\n          \"and so it is  \\r just like you said it would be  \\r life goes easy on me  \\r most of the time  \\r and so it is  \\r the shorter story  \\r no love, no glory  \\r no hero in her sky  \\r   \\r i can't take my eyes off of you  \\r i can't take my eyes off you  \\r i can't take my eyes off of you  \\r i can't take my eyes off you  \\r i can't take my eyes off you  \\r i can't take my eyes...  \\r   \\r and so it is  \\r just like you said it should be  \\r we'll both forget the breeze  \\r most of the time  \\r and so it is  \\r the colder water  \\r the blower's daughter  \\r the pupil in denial  \\r   \\r i can't take my eyes off of you  \\r i can't take my eyes off you  \\r i can't take my eyes off of you  \\r i can't take my eyes off you  \\r i can't take my eyes off you  \\r i can't take my eyes...  \\r   \\r did i say that i loathe you?  \\r did i say that i want to  \\r leave it all behind?  \\r   \\r i can't take my mind off of you  \\r i can't take my mind off you  \\r i can't take my mind off of you  \\r i can't take my mind off you  \\r i can't take my mind off you  \\r i can't take my mind...  \\r my mind... my mind...\\r \\r \",\n          \"enter the arena and hit the lights  \\r step up now you're in for a ride  \\r this is war, ain't no fun and games  \\r we get it up, you go down in flames  \\r party time, going down  \\r you better not mess us around  \\r the stakes are rich, take a hit or stay  \\r the price is high, someone's gonna pay  \\r heads i win, tails you lose  \\r out of my way i'm coming through  \\r roll the dice don't think twice  \\r and we crush, crush'em  \\r looking for trouble, now you've found it  \\r you're a drum and we're gonna pound it  \\r last one standing wins the fight  \\r hear us scream and shout all night  \\r down on the floor and eat the grit  \\r this is gonna hurt a little bit  \\r heads i win, tails you lose  \\r out of my way i'm coming through  \\r roll the dice don't think twice  \\r and we crush, crush'em  \\r now we lay you down to rest  \\r you'll never be more than second best  \\r step inside you're in for a ride  \\r and we crush, crush'em  \\r don't need reason, don't want names  \\r just a john doe to put to shame  \\r step aside let me explain  \\r the name of the game is pain  \\r now we've found you  \\r we're gonna pound you  \\r we're gonna beat you  \\r gonna defeat you  \\r we're gonna bust you  \\r we're gonna crush you  \\r we're gonna crush'em  \\r \\r \",\n          \"my little girl  \\r drive anywhere  \\r do what you want  \\r i don't care  \\r tonight  \\r i'm in the hands of fate  \\r i hand myself  \\r over on a plate  \\r now  \\r oh little girl  \\r there are times when i feel  \\r i rather not be  \\r the one behind the wheel  \\r come  \\r pull my strings  \\r watch me move  \\r i do anything  \\r please  \\r sweet little girl  \\r i prefer  \\r you behind the wheel  \\r and me the passenger  \\r drive  \\r i'm yours to keep  \\r do what you want  \\r i'm going cheap  \\r tonight  \\r you're behind the wheel, tonight\\r \\r \"\n        ],\n        \"semantic_type\": \"\",\n        \"description\": \"\"\n      }\n    }\n  ]\n}"
            }
          },
          "metadata": {},
          "execution_count": 12
        }
      ],
      "source": [
        "df.tail(5)"
      ]
    },
    {
      "cell_type": "code",
      "execution_count": 13,
      "metadata": {
        "id": "d5MSlNaNnDwf",
        "colab": {
          "base_uri": "https://localhost:8080/"
        },
        "outputId": "705496d8-211c-495b-ca84-588d8c98f996"
      },
      "outputs": [
        {
          "output_type": "stream",
          "name": "stderr",
          "text": [
            "[nltk_data] Downloading package punkt to /root/nltk_data...\n",
            "[nltk_data]   Unzipping tokenizers/punkt.zip.\n"
          ]
        }
      ],
      "source": [
        "import nltk\n",
        "nltk.download('punkt')\n",
        "from nltk.stem.porter import PorterStemmer"
      ]
    },
    {
      "cell_type": "code",
      "execution_count": 14,
      "metadata": {
        "id": "SFDWVkxVnDuE"
      },
      "outputs": [],
      "source": [
        "stemmer = PorterStemmer()"
      ]
    },
    {
      "cell_type": "code",
      "execution_count": 15,
      "metadata": {
        "id": "52JwQtuCnDqu"
      },
      "outputs": [],
      "source": [
        "def token(txt):\n",
        "    token = nltk.word_tokenize(txt)\n",
        "    a = [stemmer.stem(w) for w in token]\n",
        "    return \" \".join(a)"
      ]
    },
    {
      "cell_type": "markdown",
      "metadata": {
        "id": "jAYJuBNycs0b"
      },
      "source": [
        "**STEMMING**"
      ]
    },
    {
      "cell_type": "code",
      "execution_count": 16,
      "metadata": {
        "id": "_s1RXSq0nDnp",
        "colab": {
          "base_uri": "https://localhost:8080/",
          "height": 36
        },
        "outputId": "2d225f23-56be-4ee5-ca7b-ecfd157833b7"
      },
      "outputs": [
        {
          "output_type": "execute_result",
          "data": {
            "text/plain": [
              "'thing thing call love love love love'"
            ],
            "application/vnd.google.colaboratory.intrinsic+json": {
              "type": "string"
            }
          },
          "metadata": {},
          "execution_count": 16
        }
      ],
      "source": [
        "token(\"Thing things Called Love loving loves loved\")"
      ]
    },
    {
      "cell_type": "code",
      "execution_count": 17,
      "metadata": {
        "id": "o1scHH46ijPB",
        "colab": {
          "base_uri": "https://localhost:8080/",
          "height": 458
        },
        "outputId": "b8aff3ae-fce2-4b0b-e500-3d9f8698a837"
      },
      "outputs": [
        {
          "output_type": "execute_result",
          "data": {
            "text/plain": [
              "0       [ na ] qb chitown money make the world go roun...\n",
              "1       well you get down the fiddl and you get down t...\n",
              "2       jess jame we understand ha kill mani a man he ...\n",
              "3       free to turn like the wind on a summer day hea...\n",
              "4       thi is my place and i want to share it with yo...\n",
              "                              ...                        \n",
              "4995    i can hear those lonesom midnight sigh in your...\n",
              "4996    and so it is just like you said it would be li...\n",
              "4997    my littl girl drive anywher do what you want i...\n",
              "4998    bado , scoobado , scoobado-bado-bado . oh , wo...\n",
              "4999    enter the arena and hit the light step up now ...\n",
              "Name: text, Length: 5000, dtype: object"
            ],
            "text/html": [
              "<div>\n",
              "<style scoped>\n",
              "    .dataframe tbody tr th:only-of-type {\n",
              "        vertical-align: middle;\n",
              "    }\n",
              "\n",
              "    .dataframe tbody tr th {\n",
              "        vertical-align: top;\n",
              "    }\n",
              "\n",
              "    .dataframe thead th {\n",
              "        text-align: right;\n",
              "    }\n",
              "</style>\n",
              "<table border=\"1\" class=\"dataframe\">\n",
              "  <thead>\n",
              "    <tr style=\"text-align: right;\">\n",
              "      <th></th>\n",
              "      <th>text</th>\n",
              "    </tr>\n",
              "  </thead>\n",
              "  <tbody>\n",
              "    <tr>\n",
              "      <th>0</th>\n",
              "      <td>[ na ] qb chitown money make the world go roun...</td>\n",
              "    </tr>\n",
              "    <tr>\n",
              "      <th>1</th>\n",
              "      <td>well you get down the fiddl and you get down t...</td>\n",
              "    </tr>\n",
              "    <tr>\n",
              "      <th>2</th>\n",
              "      <td>jess jame we understand ha kill mani a man he ...</td>\n",
              "    </tr>\n",
              "    <tr>\n",
              "      <th>3</th>\n",
              "      <td>free to turn like the wind on a summer day hea...</td>\n",
              "    </tr>\n",
              "    <tr>\n",
              "      <th>4</th>\n",
              "      <td>thi is my place and i want to share it with yo...</td>\n",
              "    </tr>\n",
              "    <tr>\n",
              "      <th>...</th>\n",
              "      <td>...</td>\n",
              "    </tr>\n",
              "    <tr>\n",
              "      <th>4995</th>\n",
              "      <td>i can hear those lonesom midnight sigh in your...</td>\n",
              "    </tr>\n",
              "    <tr>\n",
              "      <th>4996</th>\n",
              "      <td>and so it is just like you said it would be li...</td>\n",
              "    </tr>\n",
              "    <tr>\n",
              "      <th>4997</th>\n",
              "      <td>my littl girl drive anywher do what you want i...</td>\n",
              "    </tr>\n",
              "    <tr>\n",
              "      <th>4998</th>\n",
              "      <td>bado , scoobado , scoobado-bado-bado . oh , wo...</td>\n",
              "    </tr>\n",
              "    <tr>\n",
              "      <th>4999</th>\n",
              "      <td>enter the arena and hit the light step up now ...</td>\n",
              "    </tr>\n",
              "  </tbody>\n",
              "</table>\n",
              "<p>5000 rows × 1 columns</p>\n",
              "</div><br><label><b>dtype:</b> object</label>"
            ]
          },
          "metadata": {},
          "execution_count": 17
        }
      ],
      "source": [
        "df['text'].apply(lambda x : token(x))"
      ]
    },
    {
      "cell_type": "code",
      "execution_count": 18,
      "metadata": {
        "id": "ol0EVTOZnDkj"
      },
      "outputs": [],
      "source": [
        "from sklearn.feature_extraction.text import TfidfVectorizer\n",
        "from sklearn.metrics.pairwise import cosine_similarity"
      ]
    },
    {
      "cell_type": "code",
      "execution_count": 19,
      "metadata": {
        "id": "0x2aMPVOnDao"
      },
      "outputs": [],
      "source": [
        "tfid = TfidfVectorizer(analyzer = 'word' , stop_words = 'english')"
      ]
    },
    {
      "cell_type": "markdown",
      "metadata": {
        "id": "u9X64dZtkR9l"
      },
      "source": [
        "**TF-IDF Vectorizer:**\n",
        "\n",
        "TF-IDF stands for \"Term Frequency-Inverse Document Frequency.\" It's a technique in text analysis that converts **text data** into **numerical features**.\n",
        "**TfidfVectorizer** class from the **sklearn.feature_extraction.text** module is used to create this vectorizer.\n",
        "\n",
        "* **analyzer='word':** This specifies that the text should be **analyzed at the word level**. Words will be treated as individual features, **ignoring** punctuation or special characters.\n",
        "\n",
        "* **stop_words='english':** This removes commonly occurring words (stop words) from the vocabulary. These words often don't carry much meaning and can add noise to the analysis."
      ]
    },
    {
      "cell_type": "code",
      "execution_count": 20,
      "metadata": {
        "id": "P96UHJ3J9oNy"
      },
      "outputs": [],
      "source": [
        "matrix = tfid.fit_transform(df['text'])"
      ]
    },
    {
      "cell_type": "code",
      "execution_count": 21,
      "metadata": {
        "id": "USkt5QaI9oKY"
      },
      "outputs": [],
      "source": [
        "similar = cosine_similarity(matrix)"
      ]
    },
    {
      "cell_type": "code",
      "execution_count": 22,
      "metadata": {
        "id": "4vVZQq2B9oHc",
        "colab": {
          "base_uri": "https://localhost:8080/"
        },
        "outputId": "894055c6-d716-4f40-8dde-ae6fce84d2e6"
      },
      "outputs": [
        {
          "output_type": "execute_result",
          "data": {
            "text/plain": [
              "array([[1.        , 0.00477204, 0.01759166, ..., 0.01074634, 0.04119532,\n",
              "        0.01425642],\n",
              "       [0.00477204, 1.        , 0.02494829, ..., 0.01012554, 0.00208445,\n",
              "        0.02943223],\n",
              "       [0.01759166, 0.02494829, 1.        , ..., 0.00977346, 0.00435794,\n",
              "        0.00378363],\n",
              "       ...,\n",
              "       [0.01074634, 0.01012554, 0.00977346, ..., 1.        , 0.00124987,\n",
              "        0.02291551],\n",
              "       [0.04119532, 0.00208445, 0.00435794, ..., 0.00124987, 1.        ,\n",
              "        0.00883792],\n",
              "       [0.01425642, 0.02943223, 0.00378363, ..., 0.02291551, 0.00883792,\n",
              "        1.        ]])"
            ]
          },
          "metadata": {},
          "execution_count": 22
        }
      ],
      "source": [
        "cosine_similarity(matrix)"
      ]
    },
    {
      "cell_type": "code",
      "execution_count": 23,
      "metadata": {
        "id": "YurjXC1B9oEv",
        "colab": {
          "base_uri": "https://localhost:8080/"
        },
        "outputId": "f79d0bd9-c694-4cba-a033-a100ea2fc080"
      },
      "outputs": [
        {
          "output_type": "execute_result",
          "data": {
            "text/plain": [
              "array([0.00477204, 1.        , 0.02494829, ..., 0.01012554, 0.00208445,\n",
              "       0.02943223])"
            ]
          },
          "metadata": {},
          "execution_count": 23
        }
      ],
      "source": [
        "similar[1]"
      ]
    },
    {
      "cell_type": "code",
      "execution_count": 24,
      "metadata": {
        "id": "XrqXNday9oBn",
        "colab": {
          "base_uri": "https://localhost:8080/",
          "height": 81
        },
        "outputId": "00d7c4ed-c7dc-4dd5-9f82-89576d3b6e5e"
      },
      "outputs": [
        {
          "output_type": "execute_result",
          "data": {
            "text/plain": [
              "              artist         song  \\\n",
              "3729  Rolling Stones  Brown Sugar   \n",
              "\n",
              "                                                   text  \n",
              "3729  gold coast slave ship bound for cotton fields ...  "
            ],
            "text/html": [
              "\n",
              "  <div id=\"df-a3fceb05-4a1b-4fe3-88cf-2faa1f06d908\" class=\"colab-df-container\">\n",
              "    <div>\n",
              "<style scoped>\n",
              "    .dataframe tbody tr th:only-of-type {\n",
              "        vertical-align: middle;\n",
              "    }\n",
              "\n",
              "    .dataframe tbody tr th {\n",
              "        vertical-align: top;\n",
              "    }\n",
              "\n",
              "    .dataframe thead th {\n",
              "        text-align: right;\n",
              "    }\n",
              "</style>\n",
              "<table border=\"1\" class=\"dataframe\">\n",
              "  <thead>\n",
              "    <tr style=\"text-align: right;\">\n",
              "      <th></th>\n",
              "      <th>artist</th>\n",
              "      <th>song</th>\n",
              "      <th>text</th>\n",
              "    </tr>\n",
              "  </thead>\n",
              "  <tbody>\n",
              "    <tr>\n",
              "      <th>3729</th>\n",
              "      <td>Rolling Stones</td>\n",
              "      <td>Brown Sugar</td>\n",
              "      <td>gold coast slave ship bound for cotton fields ...</td>\n",
              "    </tr>\n",
              "  </tbody>\n",
              "</table>\n",
              "</div>\n",
              "    <div class=\"colab-df-buttons\">\n",
              "\n",
              "  <div class=\"colab-df-container\">\n",
              "    <button class=\"colab-df-convert\" onclick=\"convertToInteractive('df-a3fceb05-4a1b-4fe3-88cf-2faa1f06d908')\"\n",
              "            title=\"Convert this dataframe to an interactive table.\"\n",
              "            style=\"display:none;\">\n",
              "\n",
              "  <svg xmlns=\"http://www.w3.org/2000/svg\" height=\"24px\" viewBox=\"0 -960 960 960\">\n",
              "    <path d=\"M120-120v-720h720v720H120Zm60-500h600v-160H180v160Zm220 220h160v-160H400v160Zm0 220h160v-160H400v160ZM180-400h160v-160H180v160Zm440 0h160v-160H620v160ZM180-180h160v-160H180v160Zm440 0h160v-160H620v160Z\"/>\n",
              "  </svg>\n",
              "    </button>\n",
              "\n",
              "  <style>\n",
              "    .colab-df-container {\n",
              "      display:flex;\n",
              "      gap: 12px;\n",
              "    }\n",
              "\n",
              "    .colab-df-convert {\n",
              "      background-color: #E8F0FE;\n",
              "      border: none;\n",
              "      border-radius: 50%;\n",
              "      cursor: pointer;\n",
              "      display: none;\n",
              "      fill: #1967D2;\n",
              "      height: 32px;\n",
              "      padding: 0 0 0 0;\n",
              "      width: 32px;\n",
              "    }\n",
              "\n",
              "    .colab-df-convert:hover {\n",
              "      background-color: #E2EBFA;\n",
              "      box-shadow: 0px 1px 2px rgba(60, 64, 67, 0.3), 0px 1px 3px 1px rgba(60, 64, 67, 0.15);\n",
              "      fill: #174EA6;\n",
              "    }\n",
              "\n",
              "    .colab-df-buttons div {\n",
              "      margin-bottom: 4px;\n",
              "    }\n",
              "\n",
              "    [theme=dark] .colab-df-convert {\n",
              "      background-color: #3B4455;\n",
              "      fill: #D2E3FC;\n",
              "    }\n",
              "\n",
              "    [theme=dark] .colab-df-convert:hover {\n",
              "      background-color: #434B5C;\n",
              "      box-shadow: 0px 1px 3px 1px rgba(0, 0, 0, 0.15);\n",
              "      filter: drop-shadow(0px 1px 2px rgba(0, 0, 0, 0.3));\n",
              "      fill: #FFFFFF;\n",
              "    }\n",
              "  </style>\n",
              "\n",
              "    <script>\n",
              "      const buttonEl =\n",
              "        document.querySelector('#df-a3fceb05-4a1b-4fe3-88cf-2faa1f06d908 button.colab-df-convert');\n",
              "      buttonEl.style.display =\n",
              "        google.colab.kernel.accessAllowed ? 'block' : 'none';\n",
              "\n",
              "      async function convertToInteractive(key) {\n",
              "        const element = document.querySelector('#df-a3fceb05-4a1b-4fe3-88cf-2faa1f06d908');\n",
              "        const dataTable =\n",
              "          await google.colab.kernel.invokeFunction('convertToInteractive',\n",
              "                                                    [key], {});\n",
              "        if (!dataTable) return;\n",
              "\n",
              "        const docLinkHtml = 'Like what you see? Visit the ' +\n",
              "          '<a target=\"_blank\" href=https://colab.research.google.com/notebooks/data_table.ipynb>data table notebook</a>'\n",
              "          + ' to learn more about interactive tables.';\n",
              "        element.innerHTML = '';\n",
              "        dataTable['output_type'] = 'display_data';\n",
              "        await google.colab.output.renderOutput(dataTable, element);\n",
              "        const docLink = document.createElement('div');\n",
              "        docLink.innerHTML = docLinkHtml;\n",
              "        element.appendChild(docLink);\n",
              "      }\n",
              "    </script>\n",
              "  </div>\n",
              "\n",
              "\n",
              "    </div>\n",
              "  </div>\n"
            ],
            "application/vnd.google.colaboratory.intrinsic+json": {
              "type": "dataframe",
              "summary": "{\n  \"name\": \"df[df['song'] == \\\"Brown Sugar\\\"]\",\n  \"rows\": 1,\n  \"fields\": [\n    {\n      \"column\": \"artist\",\n      \"properties\": {\n        \"dtype\": \"string\",\n        \"num_unique_values\": 1,\n        \"samples\": [\n          \"Rolling Stones\"\n        ],\n        \"semantic_type\": \"\",\n        \"description\": \"\"\n      }\n    },\n    {\n      \"column\": \"song\",\n      \"properties\": {\n        \"dtype\": \"string\",\n        \"num_unique_values\": 1,\n        \"samples\": [\n          \"Brown Sugar\"\n        ],\n        \"semantic_type\": \"\",\n        \"description\": \"\"\n      }\n    },\n    {\n      \"column\": \"text\",\n      \"properties\": {\n        \"dtype\": \"string\",\n        \"num_unique_values\": 1,\n        \"samples\": [\n          \"gold coast slave ship bound for cotton fields  \\r sold in the market down in new orleans  \\r scarred old slaver knows he's doin' all right  \\r hear him whip the women just around midnight  \\r   \\r brown sugar, how come you taste so good  \\r brown sugar, just like a young girl should  \\r   \\r drums beatin' cold, english blood runs hot  \\r lady of the house wonderin' when it's gonna stop  \\r house boy knows that he's doin' all right  \\r you should have heard him just around midnight  \\r   \\r brown sugar, how come you taste so good  \\r brown sugar, just like a young girl should  \\r   \\r brown sugar, how come you dance so good  \\r brown sugar, just like a black girl should  \\r   \\r i bet your mama was a tent show queen,  \\r and all her boyfriends were sweet sixteen  \\r i'm no school boy but i know what i like  \\r you should have heard them just around midnight  \\r   \\r brown sugar, how come you taste so good  \\r brown sugar, just like a black girl should  \\r   \\r i said, yeah, yeah, yeah, wooo!  \\r how come you, how come you dance so good  \\r yeah, yeah, yeah, wooo!  \\r just like a, just like a black girl should  \\r yeah, yeah, yeah, wooo!\\r \\r \"\n        ],\n        \"semantic_type\": \"\",\n        \"description\": \"\"\n      }\n    }\n  ]\n}"
            }
          },
          "metadata": {},
          "execution_count": 24
        }
      ],
      "source": [
        "df[df['song'] == \"Brown Sugar\"]"
      ]
    },
    {
      "cell_type": "markdown",
      "metadata": {
        "id": "hwHXW-5dm0dt"
      },
      "source": [
        "To get the index number:"
      ]
    },
    {
      "cell_type": "code",
      "execution_count": 25,
      "metadata": {
        "id": "lvkF3kLe9n_C",
        "colab": {
          "base_uri": "https://localhost:8080/"
        },
        "outputId": "a4479aeb-36ea-4390-fcc2-968a7faeec39"
      },
      "outputs": [
        {
          "output_type": "execute_result",
          "data": {
            "text/plain": [
              "3729"
            ]
          },
          "metadata": {},
          "execution_count": 25
        }
      ],
      "source": [
        "df[df['song'] == \"Brown Sugar\"].index[0]"
      ]
    },
    {
      "cell_type": "markdown",
      "metadata": {
        "id": "HN1RYTPNmU9p"
      },
      "source": [
        "# Recommender System"
      ]
    },
    {
      "cell_type": "markdown",
      "metadata": {
        "id": "g0X1jos5peR3"
      },
      "source": [
        "distance[1:21] will decide how many songs are going to be recommended."
      ]
    },
    {
      "cell_type": "code",
      "execution_count": 26,
      "metadata": {
        "id": "6pXXJospnkr1"
      },
      "outputs": [],
      "source": [
        "def recommender(song_name):\n",
        "  idx = df[df['song'] == song_name].index[0]\n",
        "  distance = sorted(list(enumerate(similar[idx])), reverse = True , key = lambda x:x[1])\n",
        "  song = []\n",
        "  for s_id in distance[1:21]:\n",
        "    song.append(df.iloc[s_id[0]].song)\n",
        "  return song"
      ]
    },
    {
      "cell_type": "code",
      "execution_count": 28,
      "metadata": {
        "id": "uX9XoYVlonBt",
        "colab": {
          "base_uri": "https://localhost:8080/"
        },
        "outputId": "9d25e451-36d5-413e-b781-5b13ff3e7d71"
      },
      "outputs": [
        {
          "output_type": "execute_result",
          "data": {
            "text/plain": [
              "['Comes Love',\n",
              " 'Here He Comes (Lover Man)',\n",
              " \"There's No Goodbye\",\n",
              " 'Night Comes Down',\n",
              " 'Here Comes The Sun',\n",
              " 'Comes A Time',\n",
              " 'Goodbye Little Darling Goodbye',\n",
              " 'Hope Set High',\n",
              " 'It Takes So Long (To Say Goodbye)',\n",
              " 'Just In Time',\n",
              " 'Definite Goodbye',\n",
              " 'Goodbye My Friend',\n",
              " 'Here Comes The Sun',\n",
              " 'Immortality',\n",
              " 'My Old Friend',\n",
              " 'Nothing',\n",
              " 'Here Comes The Weekend',\n",
              " \"Doin' What Comes Natur'lly\",\n",
              " 'Long, Long Way To Go',\n",
              " 'The First Of Autumn (Bonus Track)']"
            ]
          },
          "metadata": {},
          "execution_count": 28
        }
      ],
      "source": [
        "recommender(\"Here Comes Goodbye\")"
      ]
    },
    {
      "cell_type": "markdown",
      "metadata": {
        "id": "nJts_Gdzpv64"
      },
      "source": [
        "# WEB APPLICATION:"
      ]
    },
    {
      "cell_type": "code",
      "execution_count": 29,
      "metadata": {
        "id": "gk8DTWNcondX"
      },
      "outputs": [],
      "source": [
        "import pickle"
      ]
    },
    {
      "cell_type": "code",
      "execution_count": 30,
      "metadata": {
        "id": "uN6_8PNponqK"
      },
      "outputs": [],
      "source": [
        "pickle.dump(similar,open(\"similarity\",\"wb\"))"
      ]
    },
    {
      "cell_type": "code",
      "execution_count": 31,
      "metadata": {
        "id": "B8VniIlTonv-"
      },
      "outputs": [],
      "source": [
        "pickle.dump(df,open(\"df\",\"wb\"))"
      ]
    },
    {
      "cell_type": "code",
      "execution_count": 32,
      "metadata": {
        "colab": {
          "base_uri": "https://localhost:8080/"
        },
        "id": "YAsG8ALxJThT",
        "outputId": "62fd74ce-0543-4047-8fea-aa18454161dc"
      },
      "outputs": [
        {
          "output_type": "stream",
          "name": "stdout",
          "text": [
            "Collecting Spotipy\n",
            "  Downloading spotipy-2.24.0-py3-none-any.whl.metadata (4.9 kB)\n",
            "Collecting redis>=3.5.3 (from Spotipy)\n",
            "  Downloading redis-5.0.8-py3-none-any.whl.metadata (9.2 kB)\n",
            "Requirement already satisfied: requests>=2.25.0 in /usr/local/lib/python3.10/dist-packages (from Spotipy) (2.32.3)\n",
            "Requirement already satisfied: urllib3>=1.26.0 in /usr/local/lib/python3.10/dist-packages (from Spotipy) (2.0.7)\n",
            "Requirement already satisfied: async-timeout>=4.0.3 in /usr/local/lib/python3.10/dist-packages (from redis>=3.5.3->Spotipy) (4.0.3)\n",
            "Requirement already satisfied: charset-normalizer<4,>=2 in /usr/local/lib/python3.10/dist-packages (from requests>=2.25.0->Spotipy) (3.3.2)\n",
            "Requirement already satisfied: idna<4,>=2.5 in /usr/local/lib/python3.10/dist-packages (from requests>=2.25.0->Spotipy) (3.8)\n",
            "Requirement already satisfied: certifi>=2017.4.17 in /usr/local/lib/python3.10/dist-packages (from requests>=2.25.0->Spotipy) (2024.8.30)\n",
            "Downloading spotipy-2.24.0-py3-none-any.whl (30 kB)\n",
            "Downloading redis-5.0.8-py3-none-any.whl (255 kB)\n",
            "\u001b[2K   \u001b[90m━━━━━━━━━━━━━━━━━━━━━━━━━━━━━━━━━━━━━━━━\u001b[0m \u001b[32m255.6/255.6 kB\u001b[0m \u001b[31m9.7 MB/s\u001b[0m eta \u001b[36m0:00:00\u001b[0m\n",
            "\u001b[?25hInstalling collected packages: redis, Spotipy\n",
            "Successfully installed Spotipy-2.24.0 redis-5.0.8\n"
          ]
        }
      ],
      "source": [
        "!pip install Spotipy"
      ]
    },
    {
      "cell_type": "markdown",
      "metadata": {
        "id": "qsqC_MeCJyhE"
      },
      "source": [
        "# Initialize the SPOTIFY client"
      ]
    },
    {
      "cell_type": "code",
      "execution_count": 33,
      "metadata": {
        "id": "tWeRLxPrF_yW",
        "colab": {
          "base_uri": "https://localhost:8080/"
        },
        "outputId": "62722954-44bf-409c-811d-84b20ddac485"
      },
      "outputs": [
        {
          "output_type": "stream",
          "name": "stdout",
          "text": [
            "\u001b[2K   \u001b[90m━━━━━━━━━━━━━━━━━━━━━━━━━━━━━━━━━━━━━━━━\u001b[0m \u001b[32m8.7/8.7 MB\u001b[0m \u001b[31m65.0 MB/s\u001b[0m eta \u001b[36m0:00:00\u001b[0m\n",
            "\u001b[2K   \u001b[90m━━━━━━━━━━━━━━━━━━━━━━━━━━━━━━━━━━━━━━━━\u001b[0m \u001b[32m207.3/207.3 kB\u001b[0m \u001b[31m10.7 MB/s\u001b[0m eta \u001b[36m0:00:00\u001b[0m\n",
            "\u001b[2K   \u001b[90m━━━━━━━━━━━━━━━━━━━━━━━━━━━━━━━━━━━━━━━━\u001b[0m \u001b[32m6.9/6.9 MB\u001b[0m \u001b[31m41.2 MB/s\u001b[0m eta \u001b[36m0:00:00\u001b[0m\n",
            "\u001b[2K   \u001b[90m━━━━━━━━━━━━━━━━━━━━━━━━━━━━━━━━━━━━━━━━\u001b[0m \u001b[32m82.9/82.9 kB\u001b[0m \u001b[31m5.1 MB/s\u001b[0m eta \u001b[36m0:00:00\u001b[0m\n",
            "\u001b[2K   \u001b[90m━━━━━━━━━━━━━━━━━━━━━━━━━━━━━━━━━━━━━━━━\u001b[0m \u001b[32m62.7/62.7 kB\u001b[0m \u001b[31m2.8 MB/s\u001b[0m eta \u001b[36m0:00:00\u001b[0m\n",
            "\u001b[?25h"
          ]
        }
      ],
      "source": [
        "!pip install -q streamlit"
      ]
    },
    {
      "cell_type": "code",
      "execution_count": 34,
      "metadata": {
        "id": "WXOiys5QooJD"
      },
      "outputs": [],
      "source": [
        "import pickle\n",
        "import streamlit as st\n",
        "import spotipy\n",
        "from spotipy.oauth2 import SpotifyClientCredentials\n",
        "\n",
        "CLIENT_ID = \"af24d58b9e9a42648927b18f60136ccb\"\n",
        "CLIENT_SECRET = \"b44fb0188e434576ac84221f94733c86\"\n",
        "\n",
        "# Initialize the Spotify client\n",
        "client_credentials_manager = SpotifyClientCredentials(client_id=CLIENT_ID, client_secret=CLIENT_SECRET)\n",
        "sp = spotipy.Spotify(client_credentials_manager=client_credentials_manager)\n",
        "\n",
        "def get_song_album_cover_url(song_name, artist_name):\n",
        "    search_query = f\"track:{song_name} artist:{artist_name}\"\n",
        "    results = sp.search(q=search_query, type=\"track\")\n",
        "\n",
        "    if results and results[\"tracks\"][\"items\"]:\n",
        "        track = results[\"tracks\"][\"items\"][0]\n",
        "        album_cover_url = track[\"album\"][\"images\"][0][\"url\"]\n",
        "        print(album_cover_url)\n",
        "        return album_cover_url\n",
        "    else:\n",
        "        return \"https://i.postimg.cc/0QNxYz4V/social.png\""
      ]
    },
    {
      "cell_type": "code",
      "execution_count": 35,
      "metadata": {
        "id": "1S8I45HAN6Hl"
      },
      "outputs": [],
      "source": [
        "def recommend(song):\n",
        "    index = music[music['song'] == song].index[0]\n",
        "    distances = sorted(list(enumerate(similarity[index])), reverse=True, key=lambda x: x[1])\n",
        "    recommended_music_names = []\n",
        "    recommended_music_posters = []\n",
        "    for i in distances[1:6]:\n",
        "        # fetch the movie poster\n",
        "        artist = music.iloc[i[0]].artist\n",
        "        print(artist)\n",
        "        print(music.iloc[i[0]].song)\n",
        "        recommended_music_posters.append(get_song_album_cover_url(music.iloc[i[0]].song, artist))\n",
        "        recommended_music_names.append(music.iloc[i[0]].song)\n",
        "\n",
        "    return recommended_music_names,recommended_music_posters"
      ]
    },
    {
      "cell_type": "code",
      "execution_count": 36,
      "metadata": {
        "colab": {
          "base_uri": "https://localhost:8080/"
        },
        "id": "twhYayZ2N7Wf",
        "outputId": "f3f7b508-a31e-48cb-c0c4-de93c12d818f"
      },
      "outputs": [
        {
          "output_type": "stream",
          "name": "stderr",
          "text": [
            "2024-09-14 18:24:31.162 WARNING streamlit.runtime.scriptrunner_utils.script_run_context: Thread 'MainThread': missing ScriptRunContext! This warning can be ignored when running in bare mode.\n",
            "2024-09-14 18:24:31.285 \n",
            "  \u001b[33m\u001b[1mWarning:\u001b[0m to view this Streamlit app on a browser, run it with the following\n",
            "  command:\n",
            "\n",
            "    streamlit run /usr/local/lib/python3.10/dist-packages/colab_kernel_launcher.py [ARGUMENTS]\n",
            "2024-09-14 18:24:31.287 Thread 'MainThread': missing ScriptRunContext! This warning can be ignored when running in bare mode.\n"
          ]
        }
      ],
      "source": [
        "st.header('Music Recommendation Systems')\n",
        "music = pickle.load(open('/content/df','rb'))\n",
        "similarity = pickle.load(open('/content/similarity','rb'))"
      ]
    },
    {
      "cell_type": "code",
      "execution_count": 37,
      "metadata": {
        "colab": {
          "base_uri": "https://localhost:8080/"
        },
        "id": "6bUShjiEQny5",
        "outputId": "ad8d4cae-4232-4ffc-d681-82a4fefcdbd8"
      },
      "outputs": [
        {
          "output_type": "stream",
          "name": "stderr",
          "text": [
            "2024-09-14 18:24:31.482 Thread 'MainThread': missing ScriptRunContext! This warning can be ignored when running in bare mode.\n",
            "2024-09-14 18:24:31.484 Thread 'MainThread': missing ScriptRunContext! This warning can be ignored when running in bare mode.\n",
            "2024-09-14 18:24:31.492 Thread 'MainThread': missing ScriptRunContext! This warning can be ignored when running in bare mode.\n",
            "2024-09-14 18:24:31.493 Session state does not function when running a script without `streamlit run`\n",
            "2024-09-14 18:24:31.498 Thread 'MainThread': missing ScriptRunContext! This warning can be ignored when running in bare mode.\n",
            "2024-09-14 18:24:31.502 Thread 'MainThread': missing ScriptRunContext! This warning can be ignored when running in bare mode.\n",
            "2024-09-14 18:24:31.506 Thread 'MainThread': missing ScriptRunContext! This warning can be ignored when running in bare mode.\n",
            "2024-09-14 18:24:31.512 Thread 'MainThread': missing ScriptRunContext! This warning can be ignored when running in bare mode.\n",
            "2024-09-14 18:24:31.513 Thread 'MainThread': missing ScriptRunContext! This warning can be ignored when running in bare mode.\n",
            "2024-09-14 18:24:31.514 Thread 'MainThread': missing ScriptRunContext! This warning can be ignored when running in bare mode.\n"
          ]
        }
      ],
      "source": [
        "music_list = music['song'].values\n",
        "selected_movie = st.selectbox(\n",
        "    \"Type or select a song from the dropdown\",\n",
        "    music_list\n",
        ")\n",
        "\n",
        "if st.button('Show Recommendation'):\n",
        "    recommended_music_names,recommended_music_posters = recommend(selected_movie)\n",
        "    col1, col2, col3, col4, col5= st.columns(5)\n",
        "    with col1:\n",
        "        st.text(recommended_music_names[0])\n",
        "        st.image(recommended_music_posters[0])\n",
        "    with col2:\n",
        "        st.text(recommended_music_names[1])\n",
        "        st.image(recommended_music_posters[1])\n",
        "\n",
        "    with col3:\n",
        "        st.text(recommended_music_names[2])\n",
        "        st.image(recommended_music_posters[2])\n",
        "    with col4:\n",
        "        st.text(recommended_music_names[3])\n",
        "        st.image(recommended_music_posters[3])\n",
        "    with col5:\n",
        "        st.text(recommended_music_names[4])\n",
        "        st.image(recommended_music_posters[4])"
      ]
    },
    {
      "cell_type": "markdown",
      "source": [
        "Install Local Tunnel"
      ],
      "metadata": {
        "id": "FlyaAuRfPKFc"
      }
    },
    {
      "cell_type": "code",
      "source": [
        "!npm install localtunnel"
      ],
      "metadata": {
        "id": "AVZwlrpNPMa6"
      },
      "execution_count": null,
      "outputs": []
    },
    {
      "cell_type": "markdown",
      "source": [
        "Export the port 8501"
      ],
      "metadata": {
        "id": "fvFakBKFPb6d"
      }
    },
    {
      "cell_type": "code",
      "source": [
        "!npx localtunnel --port 8501"
      ],
      "metadata": {
        "id": "1DXf0dB1Pbdg",
        "colab": {
          "base_uri": "https://localhost:8080/"
        },
        "outputId": "5d1afeb6-44d2-40e0-fc5c-71cd93d698e8"
      },
      "execution_count": 39,
      "outputs": [
        {
          "output_type": "stream",
          "name": "stdout",
          "text": [
            "your url is: https://true-files-care.loca.lt\n",
            "^C\n"
          ]
        }
      ]
    },
    {
      "cell_type": "markdown",
      "metadata": {
        "id": "hF_P0AKN81W7"
      },
      "source": [
        "To run code on streamlit web page"
      ]
    },
    {
      "cell_type": "code",
      "execution_count": 40,
      "metadata": {
        "colab": {
          "base_uri": "https://localhost:8080/"
        },
        "id": "W7ajZEr98RrJ",
        "outputId": "df7bcff0-d44f-4087-c545-99b92a732802"
      },
      "outputs": [
        {
          "output_type": "stream",
          "name": "stdout",
          "text": [
            "\n",
            "Collecting usage statistics. To deactivate, set browser.gatherUsageStats to false.\n",
            "\u001b[0m\n",
            "\u001b[0m\n",
            "\u001b[34m\u001b[1m  You can now view your Streamlit app in your browser.\u001b[0m\n",
            "\u001b[0m\n",
            "\u001b[34m  Local URL: \u001b[0m\u001b[1mhttp://localhost:8501\u001b[0m\n",
            "\u001b[34m  Network URL: \u001b[0m\u001b[1mhttp://172.28.0.12:8501\u001b[0m\n",
            "\u001b[34m  External URL: \u001b[0m\u001b[1mhttp://35.233.181.145:8501\u001b[0m\n",
            "\u001b[0m\n",
            "\u001b[34m  Stopping...\u001b[0m\n",
            "^C\n"
          ]
        }
      ],
      "source": [
        "!streamlit run /usr/local/lib/python3.10/dist-packages/colab_kernel_launcher.py"
      ]
    }
  ],
  "metadata": {
    "colab": {
      "provenance": [],
      "authorship_tag": "ABX9TyNK4XXyQH0EV8bHUqRqZoeP"
    },
    "kernelspec": {
      "display_name": "Python 3",
      "name": "python3"
    },
    "language_info": {
      "name": "python"
    }
  },
  "nbformat": 4,
  "nbformat_minor": 0
}